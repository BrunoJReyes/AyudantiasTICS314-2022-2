{
 "cells": [
  {
   "cell_type": "markdown",
   "metadata": {
    "id": "WX_1evN-AHPA"
   },
   "source": [
    "![logo uai fic.png](data:image/png;base64,iVBORw0KGgoAAAANSUhEUgAAAgYAAABhCAMAAACaj5lZAAAAqFBMVEUAAAAAsNn///8ArtgdHR0dttx8zucArNcKCgoAq9deXl5gwuHv7++urq5wcHCkpKSPj4/a2tpZWVnPz8/k5OT19fW9vb2dnZ0Ap9Xg4ODHx8fr6+u/5vKP0+k4ud2JiYl7e3vM6/VnZ2ckJCRNTU3t+Pw4ODh+fn6u3u/g8/l1y+Wc1uvBwcGenp6M0umVlZVDQ0MWFhbE5/MsLCzn9fpQv+BJSUmk3O3WKokyAAAQxElEQVR4nO1dC3uiOhCFSZGioiKgIoqP+taqrWX9///szkyApt1dr+0+0m45+61AmGRczslrElyj8nWxhQxV48tDfFnYtVIGBcwvC1HK4Bm6ydCHUgYKdJOhD6UMFOgmQx9KGSjQTYY+lDJQoJsMfShloEA3GfpQykCBbjL0oZSBAt1k6EMpAwW6ydCHUgYKdJOhD6UMFOgmQx9KGSjQTYY+lDJQoJsMfShloEA3GfpQykCBbjL0oZSBAt1k6EMpAwW6ydCHUgYKdJOhD6UMFOgmQx9KGSjQTYY+lDJQoJsMfShloEA3GfpQykCBbjL0oZSBAt1k6MM7ZHD78PBw+yfZ0AbdZOjDlTIABaFx86Bew01h5tcR4e5Nz94N6+9D6L/Jz738spdMdJOhD1fKIAg7BesdvO4/X0FwV5hFnPQ2ep4Lfiu8N/kpZXABV8ogdN3i6Tfwelxcuf3oc8igW8rg57hWBs1mP+x4PvR9+SAhwmZg5/WDTissZfDpce3YoNkZtY5uALEnH74X+gDNUePQbUIpg0+Pa2XgNkdjI0aKgxYnHHiwsGi3Ru4naQ2apQx+jmtl0HcbAdIc9+HECQsI+nA0mu7IVWYK75dBeN+8HvfBO2SwqLYJl0wuPiibIeS5UFMFH0R+wXZFhiwLpcgjJ+X5X1yr9n8ZV3cK/YbfmE7H/ThLqdePh/Z0N+r8nk4heFOe/jtkcAUuPafNkLFBkuwNHxC2NVythonY8x2LDFKT7UyRDIfPWdAipQxost+etxszU4UpryuWgzZbaV/ToIMrZdCBzv3idFdtgpuluODfTW/vDk3ofwUZ2Oc5wHwOa8cUJvp2KNE58/eoOBO8d7aTJzzUzDUmTVA3+YPFLGYqD4JMGGdHljvJrh+xEaCM6GJgX/gefwjXzhSCfsdtnhYAeavaBpjNRh3XDX/L2ODPy2DpMy7FPy89KNuESa83eXJMewgT4FZhD/PUtqAiemdIbFP0JoBsOhXYOPRgLbzGv8i/PYA1JPS4eyuoOSSRoSTbqcHesWtPqAPT2cCw1/vIMoBwB+542pEULyUV0XTpRrH3W8YGf14GWfjovTIQFkwckWKL7TxBgucoAwDLFvZ6I+wVk4ytgsnqQJGI2pyuE3s7QYHAegMrohctsQg7zdoTajRQEEJgUUJUYOgkm/TPs/79v+7aISL0jZM7Drp05dKzvA+67jdjhHc+hwy6vy6D3nbODfyqNwfsG1IWg+kI8wcyMIXDMsCRoon87m1JvJQBS0mONlkGpjPAPGh2NudbDY3BtTKIY8+oHgII2SpY4EfDg7DTxqfrnQqzf1sGiCdu4C1ni+Tho1vl4/8fyEBeM9nOGmwkmvjPZTABWekzGYgzCgVlAEVv8Xdx7ZrC7miMGgbENA5Y1Dl2EEP72/LO8HdfRQZra4WtgYB5ktZQEPjoHrOB3o86BVHIQGAfkqYV2ZFkMlhjJ8DFvmwNts6Hbg1ogjBdHCAyFu2GH3jL6vHBR75HOFD4PXED9y2I9XQKjpWassoiUmQXiGwhlKbezGRgryoil4F9zrKYuaWdwPz12MBkGdhmmnzcCSP4baM+BeguRt2OF3ud7nLWwsvgePo94aP34K/KgGcKWMl7WI8RexwgYJVeJ46TpETg2nZwpE+zQp4pOHAWNHOwsG73YG5alrnCOYGcKeD0oOg3cKbQc5I19S9ypjD/yDMFGDfADcIjXYzqHDy4q0Mz3M2CLyEDsccZ/gBbgAHAyrJrj3glrDkXebZNG+f8a7yirmG15un/2SbbydBOJzBfCbuCBZzNAYUfMM8+607YGK9XDp8/TSYfesIIUzRx5XrCQzjlo7vEtPHXkIG9fRwMJhs7meAhsSt0hc348HE9WdFgT+zx7IytvmlN8N5g8LgRKdo+np0aZeECHgd883GwL6KIj3y9pUZD4L1HxP4Dy6A+IpuOvKov+MBbEDo7eCjM/l0ZmLatrhsIuW6AqY5jZ/fx7NXSgFxdyGxl4ut1g5frDna2HvHXcW0UUe4+kq2A4cv6P6Ok2FcW7f5hGfyZp29bOhaSvseVMoh8XtTLrvJ1hZDSOt/JIBi1rsfIe7cMgmnjekw7H08GQkzmn0oGu/qs+VzNu9kRn6zf3ilT/uj9lF7y/h36/1/gz/CBZEAzzuGnkgGPDGCUXeWDgSmnus9m/7IM6H+fyD+fj6ZyzNJ+elDOZJZkbdl54T/xk98VRcYfOhLf270s9kV575bBiU04XFgdLfxjc8zJnDr9EjKgYIFlCv7MLk1eOEhrKT1hS0LeQjbYEnt+ebCK2/iRJAnNFASn56W/cFSUT7CdpJYij8o3KBxZRLx0iN9FtcvKyvRBty6Fpa59XSUqqNqFAf3hc58yvrL6N2Vg88aAYY8+V45Y0ZHqs9wvYJlWVvzASehQEw4d1j0OIE56j9ltCixKO2GyBS8tOI8AOWFcUIVZkUlOhaMTSWYucke2yY5sh27PHdPZqHa8fjEAuaYhavPn8n5JBrQjvSnPAi+KInlOfYXSJ/zDMqD471rIJWLkwrZgjbM8pHxVS1e0SGwPYWhZsMI5IVI/x4QKxZWEmANWfeTsybLOgMkmrNPaGs5YVrb4TMsUsC3a8TVsbLsGk2wWOQTYbgaQkPmApp9D2KKjgXQEmLDhANae7GhtQ6RZBMoGCmJJadXMze+QAW1HlTtOXHpjKJCTNXp76UYx+lsy8P++DHhNAY+oBpjbZo/ixg4y5ghUBj5gpGFvO6s9nm3RZEUrT7xoNOcFZgft7XTCZxM8o8LyJUpahMjXGExi8cnBkrOFaIs2NaB9IvAGmdu0au2cydEQHQ3IEWmI7RLKlshiRQUqXKxAufWENf8dMphCKE86kYd/gpz3rmp0+368SQZ/yM91MthO4OwQrTjSX/fygRlyWemtK7SIuAVsMlKs0NsXMuht5j0pg15vSEzlMkDOaeE5Jwm7iM2Go8tSIrxfLWF9sAzY0VY6quWOkPNVZpfLgIqVq9v4dSq24/yGsQE2xH15jMMwxj8ykNitv4m+D47rZHDGCppQayBko17b1DYp70ibc/1HdhK8cF7JgJYO5Nl8MIEnGkVmMkDa0HjgPHuaP0E2sLdXchFKqDJARyshZVDJHIkzMi3tMhlgMQNHroVz7zFJf10Gs5lhNA+MehBAPQjvx0vE/cK4uOX7c+FKGfSw1X+WAa0q4RHZGexzGaRYE7evZDCvPOZntItVmLkMkGmrh2PP5wDzGSSnJg/zKvmooZABOspl0ENHqSIDs5ABlpL05DYp07GGazls/BUZPNxUvXzSGGJjAPUwrPMVThbBuPl5Tm1o0fLHqblsN96Q6UoZ2M4T8JpyCtTMO7SFULbVlVTKoIadNFRedwrJXp5NKrwgXcggI6CgUZjPIwUsLOseFBnsexvV0QYdkTjyPJkM5PInyJUq29njoPPXZGDEB8AuYUHB4ygIIvwTeHSBzziAztteZP8rqHtj/Bz7HozfkOuiDEyWAY4Hzg4SwlvV8UkPHeEQDTxyc3oTrKXOENnBujinZIH1kbcpoAywiaa9yTg2WFM+Ezt17PdpAjAcDrdSGtIX7W3KTpHmmmPT+hWOE0kRrx1t2RENJTfSTlAnQ4U/crFPDs5mE+GktPn512RQhZB08BBDDFEYBhDH9ZizBHhnUdjNqifDaM/weGPc4nm7faoecURXXczkK0P05tCMLKfLKaXPjGO7XZVRySpm4neLik1tbSruhCnSw2w0ZR9knpVn3I6XsjEiR8VrSQ9VcvKtjZaYl5PbN/zW0uydMhBJBZ5qWCOHMKmZzorfOxD0+sF5u+ZNQytYVbiXqA3gnFArwOzglL2WiKQG8w32CjiMr+GEkdoKS6RnLEuka6iYNhW1sTJXOG+o5cN6m1ytHnEkmG7JNTkaVCo0YcwcPQHL8Cztana6J7tkIoud4wHnsZshwIUtz9fJgJZ/OJI8Ho3Hy/F4NBqPlkxXgN1EVAy/A6p8EBl18I07aBkAR6hTeKEt+xAZdow5G9Qf7vDmjlI6LDWadfCbhtnaBfZCu+wdevoNBQoWBJSV9r7IqakMZ3O7v0RbXuqi202e3XrkG9wsuSr7tHfKQIaP9j1uaXGuPpc7C2X4aF0TefhoZXP4aE0tBo4UbP4vsAe9QXY7Cx+ZmHzmUBSw+ZnDEdkowB7IpMyzs6dXXJ5eh49WMnwkHXHvU2G7lMNJkM6fv0xFWqYXVrCvkgFFibJ5wnE0Xo4ah+V4JOvsN2wNniNIEVECHgUZqg8oHHzqIZxwmo8p42mjgQnfZh60lpilCY0HVEQH7qcx3PM6VUTLwe7UA9nNHJi1MfjVPvLfgmixw3wey8CD7ng8pl1RUxnHHKOW6tA+7ihzzN/JBzgY0JS+p3eNRjV+Eex6iwxMISeGcq9pNkmkKK2w6MPMQ/nPN7PP52zZYoSZD/zze6aaS3FVKNA2Cxfy/itHcn6A3T8Ht5X03Ab/Wual+eJ1MphhBQ2zAMHNsV1tVKunrOWe1uM6FC1tIYMQCZYy6NChj1QsHm7otRfardI9QDDChv6OZdAgLdF2R1JMF9uQ2yxAHdU9rNTEL4nJw/HoHRrmMiCnDWo4fO7/pQzubl3kfQEdagh8bn+auW9qJC5vUbgkg58/wb+wRniti5/a/d+XvK5TOMbQCeNsgfFmfFxmxGPNDoL4WNgVMuj70JUyaEC/DfxOPC1NYVeA3cPijhv6m5tMBphstGHZQQmQDND4m0EicVtYe1kGfWiHlIiGuQzCEKojuudyCEvKAHgzShdOMVr5sQsuy4B941e52CWUL7b/nwywIoU7L6o3F2raKILAj/tKSiED/8SjCa7lYRNukYpD6/CANHbqvCR58KnjV2TgQsvFnCwDOeocQfOABbAMsPIHr2Tg+f5sKWVwKGQwHvdROfg1fKTfr9NYpJn7XgCrq5TBD3B1FPHUj+kHTsLdYTr7NqsuXRyA+bQDSDXyiRFsqGOfunopA58raJz9Vk6I7PooAnoX1pMymBrEvxzHGdSGjIBjk3Jb0rcG8trGOx2s9FMcPni83u3xCseCLGXbIWVAHVg9H4iiDEZSBuw7hP+LIegmQx/e8LuIRzf0ghhwtsjhZN+P4nj50qRFgwiUQt2niitlgGlYwfOZAjUPcHIh7IewpCHiDmLqJmY0ePNgeQCaibK2qN/vQBOb8oDKwsrs06yA5whjT37fPtSD7PValkEU0f5paNyilzs/JI240je2SeipHr/+V5UyILzp5zFvl50QvLjv9f04Dnz3+zjyIQgDbBD6yOkyaBgeMnQXRVh9+x7BCDChGbXQDqKlcRP1jXtMdk9GK8Cmfhk1x5HndWRkAfMb7WjXxpQ+Bww8iDCpgxmiqRvI4Ylbly9NoHlXOmkaLg0Em1HDpTYnaMlk/+DJr1DK4Ad486+kHsf3zea925re/b/tZ4NuMvSh/M1kBbrJ0IdSBgp0k6EPpQwU6CZDH0oZKNBNhj6UMlCgmwx9KGWgQDcZ+lDKQIFuMvShlIEC3WToQykDBbrJ0IdSBgp0k6EPpQwU6CZDH0oZKNBNhj6UMlCgmwx9KGWgQDcZ+lDKQIFuMvShlIEC3WToQykDBbrJ0IdSBgp0k6EPpQwU6CZDH0oZKNBNhj6UMlCgmwx9KGWgQDcZ+lDKQIFuMvShlIEC3WToQykDBbrJ0IdSBgp0k6EPpQwUWF8XhQymDzdfHP8BvSjYH+e9OFMAAAAASUVORK5CYII=)\n",
    "\n",
    "\n",
    "**Fundamentos de ciencias de datos,   Sección 3,   2022-2.**\n",
    "\n",
    "\n",
    "**Profesora:   Carolina Lagos Campos.**\n",
    "\n",
    "\n",
    "**Ayudante:   Bruno Reyes Sánchez.**"
   ]
  },
  {
   "cell_type": "markdown",
   "metadata": {},
   "source": [
    "## **Tópicos**\n",
    "* Ejercicios Regreción Lineal"
   ]
  },
  {
   "cell_type": "markdown",
   "metadata": {},
   "source": [
    "### Aplique regresión lineal para predecir el presupuesto de una comuna en función de alguna de las siguientes variables:\n",
    "\n",
    "- Metros Plaza\n",
    "- Metros Parque\n",
    "- Personas que Trabajan en el Municipio\n",
    "- Población"
   ]
  },
  {
   "cell_type": "code",
   "execution_count": 16,
   "metadata": {},
   "outputs": [],
   "source": [
    "# Importe las librerias necesarias\n",
    "import pandas as pd\n",
    "import numpy as np\n",
    "from plotnine import *"
   ]
  },
  {
   "cell_type": "code",
   "execution_count": 17,
   "metadata": {},
   "outputs": [],
   "source": [
    "# Carge los datasets necesarios\n",
    "df_codigos = pd.read_csv('data/codigos.csv', sep=';')\n",
    "df_datos_comunas = pd.read_csv('data/datos_comunas.csv', sep=',')\n",
    "df_presupuesto = pd.read_csv('data/presupuesto_2019.csv', sep=';')\n"
   ]
  },
  {
   "cell_type": "code",
   "execution_count": 18,
   "metadata": {},
   "outputs": [],
   "source": [
    "# Visualice en forma tabular los datos \n",
    "\n",
    "# df_codigos\n",
    "# df_datos_comunas\n",
    "# df_presupuesto"
   ]
  },
  {
   "cell_type": "markdown",
   "metadata": {},
   "source": [
    " \n",
    "***Primero estableceremos la información a trabajar, generando un solo DataFrame en común.***"
   ]
  },
  {
   "cell_type": "code",
   "execution_count": 19,
   "metadata": {},
   "outputs": [
    {
     "data": {
      "text/html": [
       "<div>\n",
       "<style scoped>\n",
       "    .dataframe tbody tr th:only-of-type {\n",
       "        vertical-align: middle;\n",
       "    }\n",
       "\n",
       "    .dataframe tbody tr th {\n",
       "        vertical-align: top;\n",
       "    }\n",
       "\n",
       "    .dataframe thead th {\n",
       "        text-align: right;\n",
       "    }\n",
       "</style>\n",
       "<table border=\"1\" class=\"dataframe\">\n",
       "  <thead>\n",
       "    <tr style=\"text-align: right;\">\n",
       "      <th></th>\n",
       "      <th>Código Región</th>\n",
       "      <th>Nombre Región</th>\n",
       "      <th>Abreviatura Región</th>\n",
       "      <th>Código Provincia</th>\n",
       "      <th>Nombre Provincia</th>\n",
       "      <th>Código Comuna 2018</th>\n",
       "      <th>Nombre Comuna</th>\n",
       "      <th>id</th>\n",
       "      <th>metros_plaza</th>\n",
       "      <th>metros_parque</th>\n",
       "      <th>personas</th>\n",
       "      <th>CODIGO</th>\n",
       "      <th>MUNICIPIO</th>\n",
       "      <th>PRESUPUESTO</th>\n",
       "    </tr>\n",
       "  </thead>\n",
       "  <tbody>\n",
       "    <tr>\n",
       "      <th>0</th>\n",
       "      <td>1</td>\n",
       "      <td>Tarapacá</td>\n",
       "      <td>TPCA</td>\n",
       "      <td>11</td>\n",
       "      <td>Iquique</td>\n",
       "      <td>1101</td>\n",
       "      <td>Iquique</td>\n",
       "      <td>1101</td>\n",
       "      <td>58460.0</td>\n",
       "      <td>94824.0</td>\n",
       "      <td>271.0</td>\n",
       "      <td>1101</td>\n",
       "      <td>IQUIQUE</td>\n",
       "      <td>59072234</td>\n",
       "    </tr>\n",
       "    <tr>\n",
       "      <th>1</th>\n",
       "      <td>1</td>\n",
       "      <td>Tarapacá</td>\n",
       "      <td>TPCA</td>\n",
       "      <td>11</td>\n",
       "      <td>Iquique</td>\n",
       "      <td>1107</td>\n",
       "      <td>Alto Hospicio</td>\n",
       "      <td>1107</td>\n",
       "      <td>130316.0</td>\n",
       "      <td>0.0</td>\n",
       "      <td>55.0</td>\n",
       "      <td>1107</td>\n",
       "      <td>ALTO HOSPICIO</td>\n",
       "      <td>13984411</td>\n",
       "    </tr>\n",
       "    <tr>\n",
       "      <th>2</th>\n",
       "      <td>1</td>\n",
       "      <td>Tarapacá</td>\n",
       "      <td>TPCA</td>\n",
       "      <td>14</td>\n",
       "      <td>Tamarugal</td>\n",
       "      <td>1401</td>\n",
       "      <td>Pozo Almonte</td>\n",
       "      <td>1401</td>\n",
       "      <td>NaN</td>\n",
       "      <td>NaN</td>\n",
       "      <td>NaN</td>\n",
       "      <td>1401</td>\n",
       "      <td>POZO ALMONTE</td>\n",
       "      <td>7613962</td>\n",
       "    </tr>\n",
       "    <tr>\n",
       "      <th>3</th>\n",
       "      <td>1</td>\n",
       "      <td>Tarapacá</td>\n",
       "      <td>TPCA</td>\n",
       "      <td>14</td>\n",
       "      <td>Tamarugal</td>\n",
       "      <td>1402</td>\n",
       "      <td>Camiña</td>\n",
       "      <td>1402</td>\n",
       "      <td>4050.0</td>\n",
       "      <td>0.0</td>\n",
       "      <td>8.0</td>\n",
       "      <td>1402</td>\n",
       "      <td>CAMIÑA</td>\n",
       "      <td>1584008</td>\n",
       "    </tr>\n",
       "    <tr>\n",
       "      <th>4</th>\n",
       "      <td>1</td>\n",
       "      <td>Tarapacá</td>\n",
       "      <td>TPCA</td>\n",
       "      <td>14</td>\n",
       "      <td>Tamarugal</td>\n",
       "      <td>1403</td>\n",
       "      <td>Colchane</td>\n",
       "      <td>1403</td>\n",
       "      <td>2532.0</td>\n",
       "      <td>NaN</td>\n",
       "      <td>NaN</td>\n",
       "      <td>1403</td>\n",
       "      <td>COLCHANE</td>\n",
       "      <td>2500000</td>\n",
       "    </tr>\n",
       "    <tr>\n",
       "      <th>...</th>\n",
       "      <td>...</td>\n",
       "      <td>...</td>\n",
       "      <td>...</td>\n",
       "      <td>...</td>\n",
       "      <td>...</td>\n",
       "      <td>...</td>\n",
       "      <td>...</td>\n",
       "      <td>...</td>\n",
       "      <td>...</td>\n",
       "      <td>...</td>\n",
       "      <td>...</td>\n",
       "      <td>...</td>\n",
       "      <td>...</td>\n",
       "      <td>...</td>\n",
       "    </tr>\n",
       "    <tr>\n",
       "      <th>340</th>\n",
       "      <td>16</td>\n",
       "      <td>Ñuble</td>\n",
       "      <td>NUBLE</td>\n",
       "      <td>163</td>\n",
       "      <td>Punilla</td>\n",
       "      <td>16301</td>\n",
       "      <td>San Carlos</td>\n",
       "      <td>16301</td>\n",
       "      <td>168800.0</td>\n",
       "      <td>82226.0</td>\n",
       "      <td>19.0</td>\n",
       "      <td>16301</td>\n",
       "      <td>SAN CARLOS</td>\n",
       "      <td>10459691</td>\n",
       "    </tr>\n",
       "    <tr>\n",
       "      <th>341</th>\n",
       "      <td>16</td>\n",
       "      <td>Ñuble</td>\n",
       "      <td>NUBLE</td>\n",
       "      <td>163</td>\n",
       "      <td>Punilla</td>\n",
       "      <td>16302</td>\n",
       "      <td>Coihueco</td>\n",
       "      <td>16302</td>\n",
       "      <td>21282.0</td>\n",
       "      <td>0.0</td>\n",
       "      <td>62.0</td>\n",
       "      <td>16302</td>\n",
       "      <td>COIHUECO</td>\n",
       "      <td>5001190</td>\n",
       "    </tr>\n",
       "    <tr>\n",
       "      <th>342</th>\n",
       "      <td>16</td>\n",
       "      <td>Ñuble</td>\n",
       "      <td>NUBLE</td>\n",
       "      <td>163</td>\n",
       "      <td>Punilla</td>\n",
       "      <td>16303</td>\n",
       "      <td>Ñiquén</td>\n",
       "      <td>16303</td>\n",
       "      <td>21925.0</td>\n",
       "      <td>0.0</td>\n",
       "      <td>22.0</td>\n",
       "      <td>16303</td>\n",
       "      <td>ÑIQUÉN</td>\n",
       "      <td>3386698</td>\n",
       "    </tr>\n",
       "    <tr>\n",
       "      <th>343</th>\n",
       "      <td>16</td>\n",
       "      <td>Ñuble</td>\n",
       "      <td>NUBLE</td>\n",
       "      <td>163</td>\n",
       "      <td>Punilla</td>\n",
       "      <td>16304</td>\n",
       "      <td>San Fabián</td>\n",
       "      <td>16304</td>\n",
       "      <td>9500.0</td>\n",
       "      <td>0.0</td>\n",
       "      <td>26.0</td>\n",
       "      <td>16304</td>\n",
       "      <td>SAN FABIÁN</td>\n",
       "      <td>1798500</td>\n",
       "    </tr>\n",
       "    <tr>\n",
       "      <th>344</th>\n",
       "      <td>16</td>\n",
       "      <td>Ñuble</td>\n",
       "      <td>NUBLE</td>\n",
       "      <td>163</td>\n",
       "      <td>Punilla</td>\n",
       "      <td>16305</td>\n",
       "      <td>San Nicolás</td>\n",
       "      <td>16305</td>\n",
       "      <td>36300.0</td>\n",
       "      <td>4180.0</td>\n",
       "      <td>33.0</td>\n",
       "      <td>16305</td>\n",
       "      <td>SAN NICOLÁS</td>\n",
       "      <td>3979700</td>\n",
       "    </tr>\n",
       "  </tbody>\n",
       "</table>\n",
       "<p>345 rows × 14 columns</p>\n",
       "</div>"
      ],
      "text/plain": [
       "     Código Región Nombre Región Abreviatura Región  Código Provincia  \\\n",
       "0                1      Tarapacá               TPCA                11   \n",
       "1                1      Tarapacá               TPCA                11   \n",
       "2                1      Tarapacá               TPCA                14   \n",
       "3                1      Tarapacá               TPCA                14   \n",
       "4                1      Tarapacá               TPCA                14   \n",
       "..             ...           ...                ...               ...   \n",
       "340             16         Ñuble              NUBLE               163   \n",
       "341             16         Ñuble              NUBLE               163   \n",
       "342             16         Ñuble              NUBLE               163   \n",
       "343             16         Ñuble              NUBLE               163   \n",
       "344             16         Ñuble              NUBLE               163   \n",
       "\n",
       "    Nombre Provincia  Código Comuna 2018  Nombre Comuna     id  metros_plaza  \\\n",
       "0            Iquique                1101        Iquique   1101       58460.0   \n",
       "1            Iquique                1107  Alto Hospicio   1107      130316.0   \n",
       "2          Tamarugal                1401   Pozo Almonte   1401           NaN   \n",
       "3          Tamarugal                1402         Camiña   1402        4050.0   \n",
       "4          Tamarugal                1403       Colchane   1403        2532.0   \n",
       "..               ...                 ...            ...    ...           ...   \n",
       "340          Punilla               16301     San Carlos  16301      168800.0   \n",
       "341          Punilla               16302       Coihueco  16302       21282.0   \n",
       "342          Punilla               16303         Ñiquén  16303       21925.0   \n",
       "343          Punilla               16304     San Fabián  16304        9500.0   \n",
       "344          Punilla               16305    San Nicolás  16305       36300.0   \n",
       "\n",
       "     metros_parque  personas  CODIGO      MUNICIPIO PRESUPUESTO  \n",
       "0          94824.0     271.0    1101        IQUIQUE    59072234  \n",
       "1              0.0      55.0    1107  ALTO HOSPICIO    13984411  \n",
       "2              NaN       NaN    1401   POZO ALMONTE     7613962  \n",
       "3              0.0       8.0    1402         CAMIÑA     1584008  \n",
       "4              NaN       NaN    1403       COLCHANE     2500000  \n",
       "..             ...       ...     ...            ...         ...  \n",
       "340        82226.0      19.0   16301     SAN CARLOS    10459691  \n",
       "341            0.0      62.0   16302       COIHUECO     5001190  \n",
       "342            0.0      22.0   16303         ÑIQUÉN     3386698  \n",
       "343            0.0      26.0   16304     SAN FABIÁN     1798500  \n",
       "344         4180.0      33.0   16305    SAN NICOLÁS     3979700  \n",
       "\n",
       "[345 rows x 14 columns]"
      ]
     },
     "execution_count": 19,
     "metadata": {},
     "output_type": "execute_result"
    }
   ],
   "source": [
    "df_mg1 = df_codigos.merge(df_datos_comunas, left_on=\"Código Comuna 2018\", right_on=\"id\")\n",
    "df_mg2 = df_mg1.merge(df_presupuesto, left_on=\"id\", right_on=\"CODIGO\")\n",
    "\n",
    "df_mg2"
   ]
  },
  {
   "cell_type": "code",
   "execution_count": 20,
   "metadata": {},
   "outputs": [
    {
     "data": {
      "text/html": [
       "<div>\n",
       "<style scoped>\n",
       "    .dataframe tbody tr th:only-of-type {\n",
       "        vertical-align: middle;\n",
       "    }\n",
       "\n",
       "    .dataframe tbody tr th {\n",
       "        vertical-align: top;\n",
       "    }\n",
       "\n",
       "    .dataframe thead th {\n",
       "        text-align: right;\n",
       "    }\n",
       "</style>\n",
       "<table border=\"1\" class=\"dataframe\">\n",
       "  <thead>\n",
       "    <tr style=\"text-align: right;\">\n",
       "      <th></th>\n",
       "      <th>id</th>\n",
       "      <th>Nombre Provincia</th>\n",
       "      <th>metros_plaza</th>\n",
       "      <th>metros_parque</th>\n",
       "      <th>personas</th>\n",
       "      <th>PRESUPUESTO</th>\n",
       "    </tr>\n",
       "  </thead>\n",
       "  <tbody>\n",
       "    <tr>\n",
       "      <th>0</th>\n",
       "      <td>1101</td>\n",
       "      <td>Iquique</td>\n",
       "      <td>58460.0</td>\n",
       "      <td>94824.0</td>\n",
       "      <td>271.0</td>\n",
       "      <td>59072234</td>\n",
       "    </tr>\n",
       "    <tr>\n",
       "      <th>1</th>\n",
       "      <td>1107</td>\n",
       "      <td>Iquique</td>\n",
       "      <td>130316.0</td>\n",
       "      <td>0.0</td>\n",
       "      <td>55.0</td>\n",
       "      <td>13984411</td>\n",
       "    </tr>\n",
       "    <tr>\n",
       "      <th>2</th>\n",
       "      <td>1401</td>\n",
       "      <td>Tamarugal</td>\n",
       "      <td>NaN</td>\n",
       "      <td>NaN</td>\n",
       "      <td>NaN</td>\n",
       "      <td>7613962</td>\n",
       "    </tr>\n",
       "    <tr>\n",
       "      <th>3</th>\n",
       "      <td>1402</td>\n",
       "      <td>Tamarugal</td>\n",
       "      <td>4050.0</td>\n",
       "      <td>0.0</td>\n",
       "      <td>8.0</td>\n",
       "      <td>1584008</td>\n",
       "    </tr>\n",
       "    <tr>\n",
       "      <th>4</th>\n",
       "      <td>1403</td>\n",
       "      <td>Tamarugal</td>\n",
       "      <td>2532.0</td>\n",
       "      <td>NaN</td>\n",
       "      <td>NaN</td>\n",
       "      <td>2500000</td>\n",
       "    </tr>\n",
       "    <tr>\n",
       "      <th>...</th>\n",
       "      <td>...</td>\n",
       "      <td>...</td>\n",
       "      <td>...</td>\n",
       "      <td>...</td>\n",
       "      <td>...</td>\n",
       "      <td>...</td>\n",
       "    </tr>\n",
       "    <tr>\n",
       "      <th>340</th>\n",
       "      <td>16301</td>\n",
       "      <td>Punilla</td>\n",
       "      <td>168800.0</td>\n",
       "      <td>82226.0</td>\n",
       "      <td>19.0</td>\n",
       "      <td>10459691</td>\n",
       "    </tr>\n",
       "    <tr>\n",
       "      <th>341</th>\n",
       "      <td>16302</td>\n",
       "      <td>Punilla</td>\n",
       "      <td>21282.0</td>\n",
       "      <td>0.0</td>\n",
       "      <td>62.0</td>\n",
       "      <td>5001190</td>\n",
       "    </tr>\n",
       "    <tr>\n",
       "      <th>342</th>\n",
       "      <td>16303</td>\n",
       "      <td>Punilla</td>\n",
       "      <td>21925.0</td>\n",
       "      <td>0.0</td>\n",
       "      <td>22.0</td>\n",
       "      <td>3386698</td>\n",
       "    </tr>\n",
       "    <tr>\n",
       "      <th>343</th>\n",
       "      <td>16304</td>\n",
       "      <td>Punilla</td>\n",
       "      <td>9500.0</td>\n",
       "      <td>0.0</td>\n",
       "      <td>26.0</td>\n",
       "      <td>1798500</td>\n",
       "    </tr>\n",
       "    <tr>\n",
       "      <th>344</th>\n",
       "      <td>16305</td>\n",
       "      <td>Punilla</td>\n",
       "      <td>36300.0</td>\n",
       "      <td>4180.0</td>\n",
       "      <td>33.0</td>\n",
       "      <td>3979700</td>\n",
       "    </tr>\n",
       "  </tbody>\n",
       "</table>\n",
       "<p>345 rows × 6 columns</p>\n",
       "</div>"
      ],
      "text/plain": [
       "        id Nombre Provincia  metros_plaza  metros_parque  personas PRESUPUESTO\n",
       "0     1101          Iquique       58460.0        94824.0     271.0    59072234\n",
       "1     1107          Iquique      130316.0            0.0      55.0    13984411\n",
       "2     1401        Tamarugal           NaN            NaN       NaN     7613962\n",
       "3     1402        Tamarugal        4050.0            0.0       8.0     1584008\n",
       "4     1403        Tamarugal        2532.0            NaN       NaN     2500000\n",
       "..     ...              ...           ...            ...       ...         ...\n",
       "340  16301          Punilla      168800.0        82226.0      19.0    10459691\n",
       "341  16302          Punilla       21282.0            0.0      62.0     5001190\n",
       "342  16303          Punilla       21925.0            0.0      22.0     3386698\n",
       "343  16304          Punilla        9500.0            0.0      26.0     1798500\n",
       "344  16305          Punilla       36300.0         4180.0      33.0     3979700\n",
       "\n",
       "[345 rows x 6 columns]"
      ]
     },
     "execution_count": 20,
     "metadata": {},
     "output_type": "execute_result"
    }
   ],
   "source": [
    "df_util = df_mg2[[\"id\", \"Nombre Provincia\", \"metros_plaza\",\t\"metros_parque\", \"personas\", \"PRESUPUESTO\"]]\n",
    "df_util"
   ]
  },
  {
   "cell_type": "markdown",
   "metadata": {},
   "source": [
    "***Genere un proceso de limpieza de datos***"
   ]
  },
  {
   "cell_type": "code",
   "execution_count": 21,
   "metadata": {},
   "outputs": [
    {
     "name": "stdout",
     "output_type": "stream",
     "text": [
      "<class 'pandas.core.frame.DataFrame'>\n",
      "Int64Index: 345 entries, 0 to 344\n",
      "Data columns (total 6 columns):\n",
      " #   Column            Non-Null Count  Dtype  \n",
      "---  ------            --------------  -----  \n",
      " 0   id                345 non-null    int64  \n",
      " 1   Nombre Provincia  345 non-null    object \n",
      " 2   metros_plaza      326 non-null    float64\n",
      " 3   metros_parque     318 non-null    float64\n",
      " 4   personas          319 non-null    float64\n",
      " 5   PRESUPUESTO       345 non-null    object \n",
      "dtypes: float64(3), int64(1), object(2)\n",
      "memory usage: 18.9+ KB\n"
     ]
    }
   ],
   "source": [
    "df_util.info() #Verificamos que los datos están en su correcto formato\n",
    "               #lo que nos indica que PRESUPUESTO esta en formato de texto\n",
    "               #cosa que no corresponde ya que deberia ser numerico en formato int"
   ]
  },
  {
   "cell_type": "code",
   "execution_count": 23,
   "metadata": {},
   "outputs": [
    {
     "ename": "ValueError",
     "evalue": "Unable to parse string \"No Recepcionado\" at position 63",
     "output_type": "error",
     "traceback": [
      "\u001b[0;31m---------------------------------------------------------------------------\u001b[0m",
      "\u001b[0;31mValueError\u001b[0m                                Traceback (most recent call last)",
      "File \u001b[0;32m/usr/local/lib/python3.8/dist-packages/pandas/_libs/lib.pyx:2315\u001b[0m, in \u001b[0;36mpandas._libs.lib.maybe_convert_numeric\u001b[0;34m()\u001b[0m\n",
      "\u001b[0;31mValueError\u001b[0m: Unable to parse string \"No Recepcionado\"",
      "\nDuring handling of the above exception, another exception occurred:\n",
      "\u001b[0;31mValueError\u001b[0m                                Traceback (most recent call last)",
      "Cell \u001b[0;32mIn [23], line 1\u001b[0m\n\u001b[0;32m----> 1\u001b[0m df_util[\u001b[39m'\u001b[39m\u001b[39mPRESUPUESTO\u001b[39m\u001b[39m'\u001b[39m] \u001b[39m=\u001b[39m pd\u001b[39m.\u001b[39mDataFrame(pd\u001b[39m.\u001b[39;49mto_numeric(df_util[\u001b[39m'\u001b[39;49m\u001b[39mPRESUPUESTO\u001b[39;49m\u001b[39m'\u001b[39;49m]))\n\u001b[1;32m      2\u001b[0m df_util\u001b[39m.\u001b[39minfo()\n",
      "File \u001b[0;32m/usr/local/lib/python3.8/dist-packages/pandas/core/tools/numeric.py:184\u001b[0m, in \u001b[0;36mto_numeric\u001b[0;34m(arg, errors, downcast)\u001b[0m\n\u001b[1;32m    182\u001b[0m coerce_numeric \u001b[39m=\u001b[39m errors \u001b[39mnot\u001b[39;00m \u001b[39min\u001b[39;00m (\u001b[39m\"\u001b[39m\u001b[39mignore\u001b[39m\u001b[39m\"\u001b[39m, \u001b[39m\"\u001b[39m\u001b[39mraise\u001b[39m\u001b[39m\"\u001b[39m)\n\u001b[1;32m    183\u001b[0m \u001b[39mtry\u001b[39;00m:\n\u001b[0;32m--> 184\u001b[0m     values, _ \u001b[39m=\u001b[39m lib\u001b[39m.\u001b[39;49mmaybe_convert_numeric(\n\u001b[1;32m    185\u001b[0m         values, \u001b[39mset\u001b[39;49m(), coerce_numeric\u001b[39m=\u001b[39;49mcoerce_numeric\n\u001b[1;32m    186\u001b[0m     )\n\u001b[1;32m    187\u001b[0m \u001b[39mexcept\u001b[39;00m (\u001b[39mValueError\u001b[39;00m, \u001b[39mTypeError\u001b[39;00m):\n\u001b[1;32m    188\u001b[0m     \u001b[39mif\u001b[39;00m errors \u001b[39m==\u001b[39m \u001b[39m\"\u001b[39m\u001b[39mraise\u001b[39m\u001b[39m\"\u001b[39m:\n",
      "File \u001b[0;32m/usr/local/lib/python3.8/dist-packages/pandas/_libs/lib.pyx:2357\u001b[0m, in \u001b[0;36mpandas._libs.lib.maybe_convert_numeric\u001b[0;34m()\u001b[0m\n",
      "\u001b[0;31mValueError\u001b[0m: Unable to parse string \"No Recepcionado\" at position 63"
     ]
    }
   ],
   "source": [
    "df_util['PRESUPUESTO'] = pd.DataFrame(pd.to_numeric(df_util['PRESUPUESTO']))\n",
    "df_util.info() #Al aplicar la transformación, vemos que hay un dato en particular que no podemos cambiar,\n",
    "               #que es \"No Recepcionado\", por ende, vamos a ver cuantas veces se repite para ver así que decición\n",
    "               #podemos tomar al respecto."
   ]
  },
  {
   "cell_type": "code",
   "execution_count": 29,
   "metadata": {},
   "outputs": [
    {
     "name": "stdout",
     "output_type": "stream",
     "text": [
      "id                  2\n",
      "Nombre Provincia    2\n",
      "metros_plaza        2\n",
      "metros_parque       2\n",
      "personas            2\n",
      "PRESUPUESTO         2\n",
      "dtype: int64\n"
     ]
    }
   ],
   "source": [
    "print(df_util[df_util['PRESUPUESTO'] == \"No Recepcionado\"].count()) #Vemos que se repite 2 veces por cada variable (columna)"
   ]
  },
  {
   "cell_type": "code",
   "execution_count": 32,
   "metadata": {},
   "outputs": [
    {
     "data": {
      "text/plain": [
       "(345, 6)"
      ]
     },
     "execution_count": 32,
     "metadata": {},
     "output_type": "execute_result"
    }
   ],
   "source": [
    "df_util.shape #Recalcamos las dimensiones de nuestro df, por lo que vemos que no seria tan significativo \n",
    "              #la eliminacion de ambas filas, procedemos así"
   ]
  },
  {
   "cell_type": "code",
   "execution_count": 35,
   "metadata": {},
   "outputs": [
    {
     "name": "stderr",
     "output_type": "stream",
     "text": [
      "/tmp/ipykernel_6078/3008226518.py:1: SettingWithCopyWarning: \n",
      "A value is trying to be set on a copy of a slice from a DataFrame\n",
      "\n",
      "See the caveats in the documentation: https://pandas.pydata.org/pandas-docs/stable/user_guide/indexing.html#returning-a-view-versus-a-copy\n"
     ]
    }
   ],
   "source": [
    "df_util['PRESUPUESTO'].replace({'No Recepcionado':None},inplace=True) #Con esto estamos reemplazando los elementos de no recepcionados\n",
    "                                                                      #a datos nulos, los que despues se eliminaran en conunto de todos los nulos"
   ]
  },
  {
   "cell_type": "code",
   "execution_count": 34,
   "metadata": {},
   "outputs": [
    {
     "name": "stdout",
     "output_type": "stream",
     "text": [
      "id                  0\n",
      "Nombre Provincia    0\n",
      "metros_plaza        0\n",
      "metros_parque       0\n",
      "personas            0\n",
      "PRESUPUESTO         0\n",
      "dtype: int64\n"
     ]
    }
   ],
   "source": [
    "print(df_util[df_util['PRESUPUESTO'] == \"No Recepcionado\"].count())"
   ]
  },
  {
   "cell_type": "code",
   "execution_count": 36,
   "metadata": {},
   "outputs": [
    {
     "name": "stdout",
     "output_type": "stream",
     "text": [
      "id                   0\n",
      "Nombre Provincia     0\n",
      "metros_plaza        19\n",
      "metros_parque       27\n",
      "personas            26\n",
      "PRESUPUESTO          2\n",
      "dtype: int64\n"
     ]
    }
   ],
   "source": [
    "print(df_util.isnull().sum()) #Vemos que hay poca cantidad de datos nulos\n",
    "                              #por ello, procederemos a eliminar directamente"
   ]
  },
  {
   "cell_type": "code",
   "execution_count": 38,
   "metadata": {},
   "outputs": [],
   "source": [
    "df_util = df_util.dropna() #Eliminamos los datos nulos"
   ]
  },
  {
   "cell_type": "code",
   "execution_count": 40,
   "metadata": {},
   "outputs": [
    {
     "name": "stdout",
     "output_type": "stream",
     "text": [
      "id                  0\n",
      "Nombre Provincia    0\n",
      "metros_plaza        0\n",
      "metros_parque       0\n",
      "personas            0\n",
      "PRESUPUESTO         0\n",
      "dtype: int64\n"
     ]
    }
   ],
   "source": [
    "print(df_util.loc[df_util.duplicated()].count()) #Vemos si existen datos duplicados\n",
    "                                                 #como no existen, dejamos tal cual"
   ]
  },
  {
   "cell_type": "code",
   "execution_count": 41,
   "metadata": {},
   "outputs": [
    {
     "data": {
      "text/html": [
       "<div>\n",
       "<style scoped>\n",
       "    .dataframe tbody tr th:only-of-type {\n",
       "        vertical-align: middle;\n",
       "    }\n",
       "\n",
       "    .dataframe tbody tr th {\n",
       "        vertical-align: top;\n",
       "    }\n",
       "\n",
       "    .dataframe thead th {\n",
       "        text-align: right;\n",
       "    }\n",
       "</style>\n",
       "<table border=\"1\" class=\"dataframe\">\n",
       "  <thead>\n",
       "    <tr style=\"text-align: right;\">\n",
       "      <th></th>\n",
       "      <th>id</th>\n",
       "      <th>Nombre Provincia</th>\n",
       "      <th>metros_plaza</th>\n",
       "      <th>metros_parque</th>\n",
       "      <th>personas</th>\n",
       "      <th>PRESUPUESTO</th>\n",
       "    </tr>\n",
       "  </thead>\n",
       "  <tbody>\n",
       "    <tr>\n",
       "      <th>0</th>\n",
       "      <td>1101</td>\n",
       "      <td>Iquique</td>\n",
       "      <td>58460.0</td>\n",
       "      <td>94824.0</td>\n",
       "      <td>271.0</td>\n",
       "      <td>59072234</td>\n",
       "    </tr>\n",
       "    <tr>\n",
       "      <th>1</th>\n",
       "      <td>1107</td>\n",
       "      <td>Iquique</td>\n",
       "      <td>130316.0</td>\n",
       "      <td>0.0</td>\n",
       "      <td>55.0</td>\n",
       "      <td>13984411</td>\n",
       "    </tr>\n",
       "    <tr>\n",
       "      <th>3</th>\n",
       "      <td>1402</td>\n",
       "      <td>Tamarugal</td>\n",
       "      <td>4050.0</td>\n",
       "      <td>0.0</td>\n",
       "      <td>8.0</td>\n",
       "      <td>1584008</td>\n",
       "    </tr>\n",
       "    <tr>\n",
       "      <th>5</th>\n",
       "      <td>1404</td>\n",
       "      <td>Tamarugal</td>\n",
       "      <td>2300.0</td>\n",
       "      <td>0.0</td>\n",
       "      <td>17.0</td>\n",
       "      <td>3950000</td>\n",
       "    </tr>\n",
       "    <tr>\n",
       "      <th>6</th>\n",
       "      <td>1405</td>\n",
       "      <td>Tamarugal</td>\n",
       "      <td>12925.0</td>\n",
       "      <td>20749.0</td>\n",
       "      <td>18.0</td>\n",
       "      <td>5887820</td>\n",
       "    </tr>\n",
       "    <tr>\n",
       "      <th>...</th>\n",
       "      <td>...</td>\n",
       "      <td>...</td>\n",
       "      <td>...</td>\n",
       "      <td>...</td>\n",
       "      <td>...</td>\n",
       "      <td>...</td>\n",
       "    </tr>\n",
       "    <tr>\n",
       "      <th>340</th>\n",
       "      <td>16301</td>\n",
       "      <td>Punilla</td>\n",
       "      <td>168800.0</td>\n",
       "      <td>82226.0</td>\n",
       "      <td>19.0</td>\n",
       "      <td>10459691</td>\n",
       "    </tr>\n",
       "    <tr>\n",
       "      <th>341</th>\n",
       "      <td>16302</td>\n",
       "      <td>Punilla</td>\n",
       "      <td>21282.0</td>\n",
       "      <td>0.0</td>\n",
       "      <td>62.0</td>\n",
       "      <td>5001190</td>\n",
       "    </tr>\n",
       "    <tr>\n",
       "      <th>342</th>\n",
       "      <td>16303</td>\n",
       "      <td>Punilla</td>\n",
       "      <td>21925.0</td>\n",
       "      <td>0.0</td>\n",
       "      <td>22.0</td>\n",
       "      <td>3386698</td>\n",
       "    </tr>\n",
       "    <tr>\n",
       "      <th>343</th>\n",
       "      <td>16304</td>\n",
       "      <td>Punilla</td>\n",
       "      <td>9500.0</td>\n",
       "      <td>0.0</td>\n",
       "      <td>26.0</td>\n",
       "      <td>1798500</td>\n",
       "    </tr>\n",
       "    <tr>\n",
       "      <th>344</th>\n",
       "      <td>16305</td>\n",
       "      <td>Punilla</td>\n",
       "      <td>36300.0</td>\n",
       "      <td>4180.0</td>\n",
       "      <td>33.0</td>\n",
       "      <td>3979700</td>\n",
       "    </tr>\n",
       "  </tbody>\n",
       "</table>\n",
       "<p>305 rows × 6 columns</p>\n",
       "</div>"
      ],
      "text/plain": [
       "        id Nombre Provincia  metros_plaza  metros_parque  personas PRESUPUESTO\n",
       "0     1101          Iquique       58460.0        94824.0     271.0    59072234\n",
       "1     1107          Iquique      130316.0            0.0      55.0    13984411\n",
       "3     1402        Tamarugal        4050.0            0.0       8.0     1584008\n",
       "5     1404        Tamarugal        2300.0            0.0      17.0     3950000\n",
       "6     1405        Tamarugal       12925.0        20749.0      18.0     5887820\n",
       "..     ...              ...           ...            ...       ...         ...\n",
       "340  16301          Punilla      168800.0        82226.0      19.0    10459691\n",
       "341  16302          Punilla       21282.0            0.0      62.0     5001190\n",
       "342  16303          Punilla       21925.0            0.0      22.0     3386698\n",
       "343  16304          Punilla        9500.0            0.0      26.0     1798500\n",
       "344  16305          Punilla       36300.0         4180.0      33.0     3979700\n",
       "\n",
       "[305 rows x 6 columns]"
      ]
     },
     "execution_count": 41,
     "metadata": {},
     "output_type": "execute_result"
    }
   ],
   "source": [
    "df_util #Vemos nuestro data final limpio, donde queda con 305 filas y 6 columnas."
   ]
  },
  {
   "cell_type": "markdown",
   "metadata": {},
   "source": [
    "***Analice estadísticamente los datos, vea medidas de tendencia central y grafique***"
   ]
  },
  {
   "cell_type": "markdown",
   "metadata": {},
   "source": []
  },
  {
   "cell_type": "markdown",
   "metadata": {},
   "source": [
    "***Proceda a aplicar regresión lineal para una variable***"
   ]
  },
  {
   "cell_type": "markdown",
   "metadata": {},
   "source": [
    "REGRESION LINEAL PARA METROS PLAZA"
   ]
  },
  {
   "cell_type": "code",
   "execution_count": 14,
   "metadata": {},
   "outputs": [],
   "source": [
    "from sklearn.model_selection import train_test_split\n",
    "\n",
    "\n",
    "data_M_plaza = df_mg2[['metros_plaza', 'PRESUPUESTO']]\n",
    "\n",
    "# Queremos un set de prueba del 15% del tamaño\n",
    "train_set, test_set = train_test_split(data_M_plaza, test_size=0.15)"
   ]
  },
  {
   "cell_type": "code",
   "execution_count": 15,
   "metadata": {},
   "outputs": [
    {
     "data": {
      "text/html": [
       "<div>\n",
       "<style scoped>\n",
       "    .dataframe tbody tr th:only-of-type {\n",
       "        vertical-align: middle;\n",
       "    }\n",
       "\n",
       "    .dataframe tbody tr th {\n",
       "        vertical-align: top;\n",
       "    }\n",
       "\n",
       "    .dataframe thead th {\n",
       "        text-align: right;\n",
       "    }\n",
       "</style>\n",
       "<table border=\"1\" class=\"dataframe\">\n",
       "  <thead>\n",
       "    <tr style=\"text-align: right;\">\n",
       "      <th></th>\n",
       "      <th>metros_plaza</th>\n",
       "      <th>PRESUPUESTO</th>\n",
       "    </tr>\n",
       "  </thead>\n",
       "  <tbody>\n",
       "    <tr>\n",
       "      <th>270</th>\n",
       "      <td>959924.0</td>\n",
       "      <td>92819385</td>\n",
       "    </tr>\n",
       "    <tr>\n",
       "      <th>120</th>\n",
       "      <td>7192.0</td>\n",
       "      <td>2408324</td>\n",
       "    </tr>\n",
       "    <tr>\n",
       "      <th>27</th>\n",
       "      <td>76.0</td>\n",
       "      <td>3586345</td>\n",
       "    </tr>\n",
       "    <tr>\n",
       "      <th>38</th>\n",
       "      <td>8094.0</td>\n",
       "      <td>3318380</td>\n",
       "    </tr>\n",
       "    <tr>\n",
       "      <th>57</th>\n",
       "      <td>226379.0</td>\n",
       "      <td>17248430</td>\n",
       "    </tr>\n",
       "    <tr>\n",
       "      <th>...</th>\n",
       "      <td>...</td>\n",
       "      <td>...</td>\n",
       "    </tr>\n",
       "    <tr>\n",
       "      <th>156</th>\n",
       "      <td>10000.0</td>\n",
       "      <td>2340043</td>\n",
       "    </tr>\n",
       "    <tr>\n",
       "      <th>102</th>\n",
       "      <td>40788.0</td>\n",
       "      <td>3188141</td>\n",
       "    </tr>\n",
       "    <tr>\n",
       "      <th>290</th>\n",
       "      <td>40210.0</td>\n",
       "      <td>5948974</td>\n",
       "    </tr>\n",
       "    <tr>\n",
       "      <th>47</th>\n",
       "      <td>9811.0</td>\n",
       "      <td>9914468</td>\n",
       "    </tr>\n",
       "    <tr>\n",
       "      <th>54</th>\n",
       "      <td>20000.0</td>\n",
       "      <td>5947500</td>\n",
       "    </tr>\n",
       "  </tbody>\n",
       "</table>\n",
       "<p>293 rows × 2 columns</p>\n",
       "</div>"
      ],
      "text/plain": [
       "     metros_plaza PRESUPUESTO\n",
       "270      959924.0    92819385\n",
       "120        7192.0     2408324\n",
       "27           76.0     3586345\n",
       "38         8094.0     3318380\n",
       "57       226379.0    17248430\n",
       "..            ...         ...\n",
       "156       10000.0     2340043\n",
       "102       40788.0     3188141\n",
       "290       40210.0     5948974\n",
       "47         9811.0     9914468\n",
       "54        20000.0     5947500\n",
       "\n",
       "[293 rows x 2 columns]"
      ]
     },
     "execution_count": 15,
     "metadata": {},
     "output_type": "execute_result"
    }
   ],
   "source": [
    "train_set"
   ]
  },
  {
   "cell_type": "code",
   "execution_count": null,
   "metadata": {},
   "outputs": [],
   "source": [
    "test_set"
   ]
  },
  {
   "cell_type": "code",
   "execution_count": null,
   "metadata": {},
   "outputs": [],
   "source": [
    "from sklearn.linear_model import LinearRegression\n",
    "\n",
    "# Vamos a separar la respuesta de nuestras features\n",
    "\n",
    "X_train = train_set[['metros_plaza']] \n",
    "y_train = train_set[['PRESUPUESTO']]\n",
    "\n",
    "lin_reg = LinearRegression()\n",
    "\n",
    "lin_reg.fit(X_train, y_train)"
   ]
  },
  {
   "cell_type": "code",
   "execution_count": null,
   "metadata": {},
   "outputs": [],
   "source": [
    "lin_reg.predict([[4000000], [5000000], [6000000]])"
   ]
  },
  {
   "cell_type": "code",
   "execution_count": null,
   "metadata": {},
   "outputs": [],
   "source": [
    "(ggplot(df_datos)+\n",
    " aes(x=\"PRESUPUESTO\", y=\"metros_plaza\")+\n",
    " geom_point(color=\"blue\")+\n",
    " geom_smooth(method='lm',color=\"orange\",se = False)+\n",
    " xlab(\"Metros de plaza\")+\n",
    " ylab(\"Presupuesto según la cantidad de metros de plaza\")+\n",
    " #scale_y_log10()+\n",
    "\n",
    "theme_linedraw())"
   ]
  },
  {
   "cell_type": "code",
   "execution_count": null,
   "metadata": {},
   "outputs": [],
   "source": [
    "# La pendiente\n",
    "from sklearn.linear_model import LinearRegression\n",
    "\n",
    "lin_reg.coef_"
   ]
  },
  {
   "cell_type": "code",
   "execution_count": null,
   "metadata": {},
   "outputs": [],
   "source": [
    "# El coeficiente de posición\n",
    "lin_reg.intercept_"
   ]
  },
  {
   "cell_type": "code",
   "execution_count": null,
   "metadata": {},
   "outputs": [],
   "source": [
    "from sklearn.metrics import mean_squared_error\n",
    "\n",
    "X_test = test_set[['PRESUPUESTO']]\n",
    "y_pred = lin_reg.predict(X_test)\n",
    "y_pred"
   ]
  },
  {
   "cell_type": "code",
   "execution_count": null,
   "metadata": {},
   "outputs": [],
   "source": [
    "y_test = test_set[['metros_plaza']]\n",
    "y_test"
   ]
  },
  {
   "cell_type": "code",
   "execution_count": null,
   "metadata": {},
   "outputs": [],
   "source": [
    "# Ahora calculamos el error medio cuadrado\n",
    "# El primer parámetro de la función son las respuestas reales\n",
    "lin_mse = mean_squared_error(y_test, y_pred)\n",
    "lin_mse"
   ]
  },
  {
   "cell_type": "code",
   "execution_count": null,
   "metadata": {},
   "outputs": [],
   "source": [
    "import numpy as np\n",
    "\n",
    "np.sqrt(lin_mse)"
   ]
  },
  {
   "cell_type": "markdown",
   "metadata": {},
   "source": [
    "Croos Validation"
   ]
  },
  {
   "cell_type": "code",
   "execution_count": null,
   "metadata": {},
   "outputs": [],
   "source": [
    "from sklearn.model_selection import cross_val_score\n",
    "\n",
    "#Instanciamos un modelo\n",
    "lin_reg = LinearRegression()\n",
    "\n",
    "\n",
    "X = df_datos[['metros_plaza']]\n",
    "y = df_datos[['PRESUPUESTO']]\n",
    "\n",
    "scores = cross_val_score(lin_reg, X, y, scoring='neg_mean_squared_error', cv=5)\n",
    "\n",
    "lin_rmse_scores = np.sqrt(-scores)\n",
    "lin_rmse_scores"
   ]
  },
  {
   "cell_type": "code",
   "execution_count": null,
   "metadata": {},
   "outputs": [],
   "source": [
    "scores"
   ]
  },
  {
   "cell_type": "code",
   "execution_count": null,
   "metadata": {},
   "outputs": [],
   "source": [
    "print(\"Puntuación promedio de validación cruzada: {:.2f}\".format(lin_rmse_scores.mean()))"
   ]
  },
  {
   "cell_type": "code",
   "execution_count": null,
   "metadata": {},
   "outputs": [],
   "source": [
    "#desviación estandar\n",
    "print(lin_rmse_scores.std())"
   ]
  }
 ],
 "metadata": {
  "kernelspec": {
   "display_name": "Python 3.8.10 64-bit",
   "language": "python",
   "name": "python3"
  },
  "language_info": {
   "codemirror_mode": {
    "name": "ipython",
    "version": 3
   },
   "file_extension": ".py",
   "mimetype": "text/x-python",
   "name": "python",
   "nbconvert_exporter": "python",
   "pygments_lexer": "ipython3",
   "version": "3.8.10"
  },
  "orig_nbformat": 4,
  "vscode": {
   "interpreter": {
    "hash": "916dbcbb3f70747c44a77c7bcd40155683ae19c65e1c03b4aa3499c5328201f1"
   }
  }
 },
 "nbformat": 4,
 "nbformat_minor": 2
}
