{
 "cells": [
  {
   "cell_type": "markdown",
   "metadata": {
    "id": "WX_1evN-AHPA"
   },
   "source": [
    "![logo uai fic.png](data:image/png;base64,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)\n",
    "\n",
    "\n",
    "**Fundamentos de ciencias de datos,   Sección 3,   2022-2.**\n",
    "\n",
    "\n",
    "**Profesora:   Carolina Lagos Campos.**\n",
    "\n",
    "\n",
    "**Ayudante:   Bruno Reyes Sánchez.**"
   ]
  },
  {
   "cell_type": "markdown",
   "metadata": {},
   "source": [
    "## **Tópicos**\n",
    "* Ejercicios Regreción Lineal"
   ]
  },
  {
   "cell_type": "markdown",
   "metadata": {},
   "source": [
    "### Aplique regresión lineal para predecir el presupuesto de una comuna en función de alguna de las siguientes variables:\n",
    "\n",
    "- Metros Plaza\n",
    "- Metros Parque\n",
    "- Personas que Trabajan en el Municipio\n",
    "- Población"
   ]
  },
  {
   "cell_type": "code",
   "execution_count": 2,
   "metadata": {},
   "outputs": [],
   "source": [
    "# Importe las librerias necesarias\n",
    "import pandas as pd\n",
    "import numpy as np\n",
    "from plotnine import *"
   ]
  },
  {
   "cell_type": "code",
   "execution_count": 3,
   "metadata": {},
   "outputs": [],
   "source": [
    "# Carge los datasets necesarios\n",
    "df_codigos = pd.read_csv('data/codigos.csv', sep=';')\n",
    "df_datos_comunas = pd.read_csv('data/datos_comunas.csv', sep=',')\n",
    "df_presupuesto = pd.read_csv('data/presupuesto_2019.csv', sep=';')\n"
   ]
  },
  {
   "cell_type": "code",
   "execution_count": 4,
   "metadata": {},
   "outputs": [],
   "source": [
    "# Visualice en forma tabular los datos \n",
    "\n",
    "# df_codigos\n",
    "# df_datos_comunas\n",
    "# df_presupuesto"
   ]
  },
  {
   "cell_type": "markdown",
   "metadata": {},
   "source": [
    " \n",
    "***Primero estableceremos la información a trabajar, generando un solo DataFrame en común.***"
   ]
  },
  {
   "cell_type": "code",
   "execution_count": 5,
   "metadata": {},
   "outputs": [
    {
     "data": {
      "text/html": [
       "<div>\n",
       "<style scoped>\n",
       "    .dataframe tbody tr th:only-of-type {\n",
       "        vertical-align: middle;\n",
       "    }\n",
       "\n",
       "    .dataframe tbody tr th {\n",
       "        vertical-align: top;\n",
       "    }\n",
       "\n",
       "    .dataframe thead th {\n",
       "        text-align: right;\n",
       "    }\n",
       "</style>\n",
       "<table border=\"1\" class=\"dataframe\">\n",
       "  <thead>\n",
       "    <tr style=\"text-align: right;\">\n",
       "      <th></th>\n",
       "      <th>Código Región</th>\n",
       "      <th>Nombre Región</th>\n",
       "      <th>Abreviatura Región</th>\n",
       "      <th>Código Provincia</th>\n",
       "      <th>Nombre Provincia</th>\n",
       "      <th>Código Comuna 2018</th>\n",
       "      <th>Nombre Comuna</th>\n",
       "      <th>id</th>\n",
       "      <th>metros_plaza</th>\n",
       "      <th>metros_parque</th>\n",
       "      <th>personas</th>\n",
       "      <th>CODIGO</th>\n",
       "      <th>MUNICIPIO</th>\n",
       "      <th>PRESUPUESTO</th>\n",
       "    </tr>\n",
       "  </thead>\n",
       "  <tbody>\n",
       "    <tr>\n",
       "      <th>0</th>\n",
       "      <td>1</td>\n",
       "      <td>Tarapacá</td>\n",
       "      <td>TPCA</td>\n",
       "      <td>11</td>\n",
       "      <td>Iquique</td>\n",
       "      <td>1101</td>\n",
       "      <td>Iquique</td>\n",
       "      <td>1101</td>\n",
       "      <td>58460.0</td>\n",
       "      <td>94824.0</td>\n",
       "      <td>271.0</td>\n",
       "      <td>1101</td>\n",
       "      <td>IQUIQUE</td>\n",
       "      <td>59072234</td>\n",
       "    </tr>\n",
       "    <tr>\n",
       "      <th>1</th>\n",
       "      <td>1</td>\n",
       "      <td>Tarapacá</td>\n",
       "      <td>TPCA</td>\n",
       "      <td>11</td>\n",
       "      <td>Iquique</td>\n",
       "      <td>1107</td>\n",
       "      <td>Alto Hospicio</td>\n",
       "      <td>1107</td>\n",
       "      <td>130316.0</td>\n",
       "      <td>0.0</td>\n",
       "      <td>55.0</td>\n",
       "      <td>1107</td>\n",
       "      <td>ALTO HOSPICIO</td>\n",
       "      <td>13984411</td>\n",
       "    </tr>\n",
       "    <tr>\n",
       "      <th>2</th>\n",
       "      <td>1</td>\n",
       "      <td>Tarapacá</td>\n",
       "      <td>TPCA</td>\n",
       "      <td>14</td>\n",
       "      <td>Tamarugal</td>\n",
       "      <td>1401</td>\n",
       "      <td>Pozo Almonte</td>\n",
       "      <td>1401</td>\n",
       "      <td>NaN</td>\n",
       "      <td>NaN</td>\n",
       "      <td>NaN</td>\n",
       "      <td>1401</td>\n",
       "      <td>POZO ALMONTE</td>\n",
       "      <td>7613962</td>\n",
       "    </tr>\n",
       "    <tr>\n",
       "      <th>3</th>\n",
       "      <td>1</td>\n",
       "      <td>Tarapacá</td>\n",
       "      <td>TPCA</td>\n",
       "      <td>14</td>\n",
       "      <td>Tamarugal</td>\n",
       "      <td>1402</td>\n",
       "      <td>Camiña</td>\n",
       "      <td>1402</td>\n",
       "      <td>4050.0</td>\n",
       "      <td>0.0</td>\n",
       "      <td>8.0</td>\n",
       "      <td>1402</td>\n",
       "      <td>CAMIÑA</td>\n",
       "      <td>1584008</td>\n",
       "    </tr>\n",
       "    <tr>\n",
       "      <th>4</th>\n",
       "      <td>1</td>\n",
       "      <td>Tarapacá</td>\n",
       "      <td>TPCA</td>\n",
       "      <td>14</td>\n",
       "      <td>Tamarugal</td>\n",
       "      <td>1403</td>\n",
       "      <td>Colchane</td>\n",
       "      <td>1403</td>\n",
       "      <td>2532.0</td>\n",
       "      <td>NaN</td>\n",
       "      <td>NaN</td>\n",
       "      <td>1403</td>\n",
       "      <td>COLCHANE</td>\n",
       "      <td>2500000</td>\n",
       "    </tr>\n",
       "    <tr>\n",
       "      <th>...</th>\n",
       "      <td>...</td>\n",
       "      <td>...</td>\n",
       "      <td>...</td>\n",
       "      <td>...</td>\n",
       "      <td>...</td>\n",
       "      <td>...</td>\n",
       "      <td>...</td>\n",
       "      <td>...</td>\n",
       "      <td>...</td>\n",
       "      <td>...</td>\n",
       "      <td>...</td>\n",
       "      <td>...</td>\n",
       "      <td>...</td>\n",
       "      <td>...</td>\n",
       "    </tr>\n",
       "    <tr>\n",
       "      <th>340</th>\n",
       "      <td>16</td>\n",
       "      <td>Ñuble</td>\n",
       "      <td>NUBLE</td>\n",
       "      <td>163</td>\n",
       "      <td>Punilla</td>\n",
       "      <td>16301</td>\n",
       "      <td>San Carlos</td>\n",
       "      <td>16301</td>\n",
       "      <td>168800.0</td>\n",
       "      <td>82226.0</td>\n",
       "      <td>19.0</td>\n",
       "      <td>16301</td>\n",
       "      <td>SAN CARLOS</td>\n",
       "      <td>10459691</td>\n",
       "    </tr>\n",
       "    <tr>\n",
       "      <th>341</th>\n",
       "      <td>16</td>\n",
       "      <td>Ñuble</td>\n",
       "      <td>NUBLE</td>\n",
       "      <td>163</td>\n",
       "      <td>Punilla</td>\n",
       "      <td>16302</td>\n",
       "      <td>Coihueco</td>\n",
       "      <td>16302</td>\n",
       "      <td>21282.0</td>\n",
       "      <td>0.0</td>\n",
       "      <td>62.0</td>\n",
       "      <td>16302</td>\n",
       "      <td>COIHUECO</td>\n",
       "      <td>5001190</td>\n",
       "    </tr>\n",
       "    <tr>\n",
       "      <th>342</th>\n",
       "      <td>16</td>\n",
       "      <td>Ñuble</td>\n",
       "      <td>NUBLE</td>\n",
       "      <td>163</td>\n",
       "      <td>Punilla</td>\n",
       "      <td>16303</td>\n",
       "      <td>Ñiquén</td>\n",
       "      <td>16303</td>\n",
       "      <td>21925.0</td>\n",
       "      <td>0.0</td>\n",
       "      <td>22.0</td>\n",
       "      <td>16303</td>\n",
       "      <td>ÑIQUÉN</td>\n",
       "      <td>3386698</td>\n",
       "    </tr>\n",
       "    <tr>\n",
       "      <th>343</th>\n",
       "      <td>16</td>\n",
       "      <td>Ñuble</td>\n",
       "      <td>NUBLE</td>\n",
       "      <td>163</td>\n",
       "      <td>Punilla</td>\n",
       "      <td>16304</td>\n",
       "      <td>San Fabián</td>\n",
       "      <td>16304</td>\n",
       "      <td>9500.0</td>\n",
       "      <td>0.0</td>\n",
       "      <td>26.0</td>\n",
       "      <td>16304</td>\n",
       "      <td>SAN FABIÁN</td>\n",
       "      <td>1798500</td>\n",
       "    </tr>\n",
       "    <tr>\n",
       "      <th>344</th>\n",
       "      <td>16</td>\n",
       "      <td>Ñuble</td>\n",
       "      <td>NUBLE</td>\n",
       "      <td>163</td>\n",
       "      <td>Punilla</td>\n",
       "      <td>16305</td>\n",
       "      <td>San Nicolás</td>\n",
       "      <td>16305</td>\n",
       "      <td>36300.0</td>\n",
       "      <td>4180.0</td>\n",
       "      <td>33.0</td>\n",
       "      <td>16305</td>\n",
       "      <td>SAN NICOLÁS</td>\n",
       "      <td>3979700</td>\n",
       "    </tr>\n",
       "  </tbody>\n",
       "</table>\n",
       "<p>345 rows × 14 columns</p>\n",
       "</div>"
      ],
      "text/plain": [
       "     Código Región Nombre Región Abreviatura Región  Código Provincia  \\\n",
       "0                1      Tarapacá               TPCA                11   \n",
       "1                1      Tarapacá               TPCA                11   \n",
       "2                1      Tarapacá               TPCA                14   \n",
       "3                1      Tarapacá               TPCA                14   \n",
       "4                1      Tarapacá               TPCA                14   \n",
       "..             ...           ...                ...               ...   \n",
       "340             16         Ñuble              NUBLE               163   \n",
       "341             16         Ñuble              NUBLE               163   \n",
       "342             16         Ñuble              NUBLE               163   \n",
       "343             16         Ñuble              NUBLE               163   \n",
       "344             16         Ñuble              NUBLE               163   \n",
       "\n",
       "    Nombre Provincia  Código Comuna 2018  Nombre Comuna     id  metros_plaza  \\\n",
       "0            Iquique                1101        Iquique   1101       58460.0   \n",
       "1            Iquique                1107  Alto Hospicio   1107      130316.0   \n",
       "2          Tamarugal                1401   Pozo Almonte   1401           NaN   \n",
       "3          Tamarugal                1402         Camiña   1402        4050.0   \n",
       "4          Tamarugal                1403       Colchane   1403        2532.0   \n",
       "..               ...                 ...            ...    ...           ...   \n",
       "340          Punilla               16301     San Carlos  16301      168800.0   \n",
       "341          Punilla               16302       Coihueco  16302       21282.0   \n",
       "342          Punilla               16303         Ñiquén  16303       21925.0   \n",
       "343          Punilla               16304     San Fabián  16304        9500.0   \n",
       "344          Punilla               16305    San Nicolás  16305       36300.0   \n",
       "\n",
       "     metros_parque  personas  CODIGO      MUNICIPIO PRESUPUESTO  \n",
       "0          94824.0     271.0    1101        IQUIQUE    59072234  \n",
       "1              0.0      55.0    1107  ALTO HOSPICIO    13984411  \n",
       "2              NaN       NaN    1401   POZO ALMONTE     7613962  \n",
       "3              0.0       8.0    1402         CAMIÑA     1584008  \n",
       "4              NaN       NaN    1403       COLCHANE     2500000  \n",
       "..             ...       ...     ...            ...         ...  \n",
       "340        82226.0      19.0   16301     SAN CARLOS    10459691  \n",
       "341            0.0      62.0   16302       COIHUECO     5001190  \n",
       "342            0.0      22.0   16303         ÑIQUÉN     3386698  \n",
       "343            0.0      26.0   16304     SAN FABIÁN     1798500  \n",
       "344         4180.0      33.0   16305    SAN NICOLÁS     3979700  \n",
       "\n",
       "[345 rows x 14 columns]"
      ]
     },
     "execution_count": 5,
     "metadata": {},
     "output_type": "execute_result"
    }
   ],
   "source": [
    "df_mg1 = df_codigos.merge(df_datos_comunas, left_on=\"Código Comuna 2018\", right_on=\"id\")\n",
    "df_mg2 = df_mg1.merge(df_presupuesto, left_on=\"id\", right_on=\"CODIGO\")\n",
    "\n",
    "df_mg2"
   ]
  },
  {
   "cell_type": "code",
   "execution_count": 6,
   "metadata": {},
   "outputs": [
    {
     "data": {
      "text/html": [
       "<div>\n",
       "<style scoped>\n",
       "    .dataframe tbody tr th:only-of-type {\n",
       "        vertical-align: middle;\n",
       "    }\n",
       "\n",
       "    .dataframe tbody tr th {\n",
       "        vertical-align: top;\n",
       "    }\n",
       "\n",
       "    .dataframe thead th {\n",
       "        text-align: right;\n",
       "    }\n",
       "</style>\n",
       "<table border=\"1\" class=\"dataframe\">\n",
       "  <thead>\n",
       "    <tr style=\"text-align: right;\">\n",
       "      <th></th>\n",
       "      <th>id</th>\n",
       "      <th>Nombre Provincia</th>\n",
       "      <th>metros_plaza</th>\n",
       "      <th>metros_parque</th>\n",
       "      <th>personas</th>\n",
       "      <th>PRESUPUESTO</th>\n",
       "    </tr>\n",
       "  </thead>\n",
       "  <tbody>\n",
       "    <tr>\n",
       "      <th>0</th>\n",
       "      <td>1101</td>\n",
       "      <td>Iquique</td>\n",
       "      <td>58460.0</td>\n",
       "      <td>94824.0</td>\n",
       "      <td>271.0</td>\n",
       "      <td>59072234</td>\n",
       "    </tr>\n",
       "    <tr>\n",
       "      <th>1</th>\n",
       "      <td>1107</td>\n",
       "      <td>Iquique</td>\n",
       "      <td>130316.0</td>\n",
       "      <td>0.0</td>\n",
       "      <td>55.0</td>\n",
       "      <td>13984411</td>\n",
       "    </tr>\n",
       "    <tr>\n",
       "      <th>2</th>\n",
       "      <td>1401</td>\n",
       "      <td>Tamarugal</td>\n",
       "      <td>NaN</td>\n",
       "      <td>NaN</td>\n",
       "      <td>NaN</td>\n",
       "      <td>7613962</td>\n",
       "    </tr>\n",
       "    <tr>\n",
       "      <th>3</th>\n",
       "      <td>1402</td>\n",
       "      <td>Tamarugal</td>\n",
       "      <td>4050.0</td>\n",
       "      <td>0.0</td>\n",
       "      <td>8.0</td>\n",
       "      <td>1584008</td>\n",
       "    </tr>\n",
       "    <tr>\n",
       "      <th>4</th>\n",
       "      <td>1403</td>\n",
       "      <td>Tamarugal</td>\n",
       "      <td>2532.0</td>\n",
       "      <td>NaN</td>\n",
       "      <td>NaN</td>\n",
       "      <td>2500000</td>\n",
       "    </tr>\n",
       "    <tr>\n",
       "      <th>...</th>\n",
       "      <td>...</td>\n",
       "      <td>...</td>\n",
       "      <td>...</td>\n",
       "      <td>...</td>\n",
       "      <td>...</td>\n",
       "      <td>...</td>\n",
       "    </tr>\n",
       "    <tr>\n",
       "      <th>340</th>\n",
       "      <td>16301</td>\n",
       "      <td>Punilla</td>\n",
       "      <td>168800.0</td>\n",
       "      <td>82226.0</td>\n",
       "      <td>19.0</td>\n",
       "      <td>10459691</td>\n",
       "    </tr>\n",
       "    <tr>\n",
       "      <th>341</th>\n",
       "      <td>16302</td>\n",
       "      <td>Punilla</td>\n",
       "      <td>21282.0</td>\n",
       "      <td>0.0</td>\n",
       "      <td>62.0</td>\n",
       "      <td>5001190</td>\n",
       "    </tr>\n",
       "    <tr>\n",
       "      <th>342</th>\n",
       "      <td>16303</td>\n",
       "      <td>Punilla</td>\n",
       "      <td>21925.0</td>\n",
       "      <td>0.0</td>\n",
       "      <td>22.0</td>\n",
       "      <td>3386698</td>\n",
       "    </tr>\n",
       "    <tr>\n",
       "      <th>343</th>\n",
       "      <td>16304</td>\n",
       "      <td>Punilla</td>\n",
       "      <td>9500.0</td>\n",
       "      <td>0.0</td>\n",
       "      <td>26.0</td>\n",
       "      <td>1798500</td>\n",
       "    </tr>\n",
       "    <tr>\n",
       "      <th>344</th>\n",
       "      <td>16305</td>\n",
       "      <td>Punilla</td>\n",
       "      <td>36300.0</td>\n",
       "      <td>4180.0</td>\n",
       "      <td>33.0</td>\n",
       "      <td>3979700</td>\n",
       "    </tr>\n",
       "  </tbody>\n",
       "</table>\n",
       "<p>345 rows × 6 columns</p>\n",
       "</div>"
      ],
      "text/plain": [
       "        id Nombre Provincia  metros_plaza  metros_parque  personas PRESUPUESTO\n",
       "0     1101          Iquique       58460.0        94824.0     271.0    59072234\n",
       "1     1107          Iquique      130316.0            0.0      55.0    13984411\n",
       "2     1401        Tamarugal           NaN            NaN       NaN     7613962\n",
       "3     1402        Tamarugal        4050.0            0.0       8.0     1584008\n",
       "4     1403        Tamarugal        2532.0            NaN       NaN     2500000\n",
       "..     ...              ...           ...            ...       ...         ...\n",
       "340  16301          Punilla      168800.0        82226.0      19.0    10459691\n",
       "341  16302          Punilla       21282.0            0.0      62.0     5001190\n",
       "342  16303          Punilla       21925.0            0.0      22.0     3386698\n",
       "343  16304          Punilla        9500.0            0.0      26.0     1798500\n",
       "344  16305          Punilla       36300.0         4180.0      33.0     3979700\n",
       "\n",
       "[345 rows x 6 columns]"
      ]
     },
     "execution_count": 6,
     "metadata": {},
     "output_type": "execute_result"
    }
   ],
   "source": [
    "df_util = df_mg2[[\"id\", \"Nombre Provincia\", \"metros_plaza\",\t\"metros_parque\", \"personas\", \"PRESUPUESTO\"]]\n",
    "df_util"
   ]
  },
  {
   "cell_type": "markdown",
   "metadata": {},
   "source": [
    "***Genere un proceso de limpieza de datos***"
   ]
  },
  {
   "cell_type": "code",
   "execution_count": 7,
   "metadata": {},
   "outputs": [
    {
     "name": "stdout",
     "output_type": "stream",
     "text": [
      "<class 'pandas.core.frame.DataFrame'>\n",
      "Int64Index: 345 entries, 0 to 344\n",
      "Data columns (total 6 columns):\n",
      " #   Column            Non-Null Count  Dtype  \n",
      "---  ------            --------------  -----  \n",
      " 0   id                345 non-null    int64  \n",
      " 1   Nombre Provincia  345 non-null    object \n",
      " 2   metros_plaza      326 non-null    float64\n",
      " 3   metros_parque     318 non-null    float64\n",
      " 4   personas          319 non-null    float64\n",
      " 5   PRESUPUESTO       345 non-null    object \n",
      "dtypes: float64(3), int64(1), object(2)\n",
      "memory usage: 18.9+ KB\n"
     ]
    }
   ],
   "source": [
    "df_util.info() #Verificamos que los datos están en su correcto formato\n",
    "               #lo que nos indica que PRESUPUESTO esta en formato de texto\n",
    "               #cosa que no corresponde ya que deberia ser numerico en formato int"
   ]
  },
  {
   "cell_type": "code",
   "execution_count": 8,
   "metadata": {},
   "outputs": [
    {
     "ename": "ValueError",
     "evalue": "Unable to parse string \"No Recepcionado\" at position 63",
     "output_type": "error",
     "traceback": [
      "\u001b[0;31m---------------------------------------------------------------------------\u001b[0m",
      "\u001b[0;31mValueError\u001b[0m                                Traceback (most recent call last)",
      "File \u001b[0;32m/usr/local/lib/python3.8/dist-packages/pandas/_libs/lib.pyx:2315\u001b[0m, in \u001b[0;36mpandas._libs.lib.maybe_convert_numeric\u001b[0;34m()\u001b[0m\n",
      "\u001b[0;31mValueError\u001b[0m: Unable to parse string \"No Recepcionado\"",
      "\nDuring handling of the above exception, another exception occurred:\n",
      "\u001b[0;31mValueError\u001b[0m                                Traceback (most recent call last)",
      "Cell \u001b[0;32mIn [8], line 1\u001b[0m\n\u001b[0;32m----> 1\u001b[0m df_util[\u001b[39m'\u001b[39m\u001b[39mPRESUPUESTO\u001b[39m\u001b[39m'\u001b[39m] \u001b[39m=\u001b[39m pd\u001b[39m.\u001b[39mDataFrame(pd\u001b[39m.\u001b[39;49mto_numeric(df_util[\u001b[39m'\u001b[39;49m\u001b[39mPRESUPUESTO\u001b[39;49m\u001b[39m'\u001b[39;49m]))\n",
      "File \u001b[0;32m/usr/local/lib/python3.8/dist-packages/pandas/core/tools/numeric.py:184\u001b[0m, in \u001b[0;36mto_numeric\u001b[0;34m(arg, errors, downcast)\u001b[0m\n\u001b[1;32m    182\u001b[0m coerce_numeric \u001b[39m=\u001b[39m errors \u001b[39mnot\u001b[39;00m \u001b[39min\u001b[39;00m (\u001b[39m\"\u001b[39m\u001b[39mignore\u001b[39m\u001b[39m\"\u001b[39m, \u001b[39m\"\u001b[39m\u001b[39mraise\u001b[39m\u001b[39m\"\u001b[39m)\n\u001b[1;32m    183\u001b[0m \u001b[39mtry\u001b[39;00m:\n\u001b[0;32m--> 184\u001b[0m     values, _ \u001b[39m=\u001b[39m lib\u001b[39m.\u001b[39;49mmaybe_convert_numeric(\n\u001b[1;32m    185\u001b[0m         values, \u001b[39mset\u001b[39;49m(), coerce_numeric\u001b[39m=\u001b[39;49mcoerce_numeric\n\u001b[1;32m    186\u001b[0m     )\n\u001b[1;32m    187\u001b[0m \u001b[39mexcept\u001b[39;00m (\u001b[39mValueError\u001b[39;00m, \u001b[39mTypeError\u001b[39;00m):\n\u001b[1;32m    188\u001b[0m     \u001b[39mif\u001b[39;00m errors \u001b[39m==\u001b[39m \u001b[39m\"\u001b[39m\u001b[39mraise\u001b[39m\u001b[39m\"\u001b[39m:\n",
      "File \u001b[0;32m/usr/local/lib/python3.8/dist-packages/pandas/_libs/lib.pyx:2357\u001b[0m, in \u001b[0;36mpandas._libs.lib.maybe_convert_numeric\u001b[0;34m()\u001b[0m\n",
      "\u001b[0;31mValueError\u001b[0m: Unable to parse string \"No Recepcionado\" at position 63"
     ]
    }
   ],
   "source": [
    "df_util['PRESUPUESTO'] = pd.DataFrame(pd.to_numeric(df_util['PRESUPUESTO']))\n",
    "               #Al aplicar la transformación, vemos que hay un dato en particular que no podemos cambiar,\n",
    "               #que es \"No Recepcionado\", por ende, vamos a ver cuantas veces se repite para ver así que decición\n",
    "               #podemos tomar al respecto."
   ]
  },
  {
   "cell_type": "code",
   "execution_count": 9,
   "metadata": {},
   "outputs": [
    {
     "name": "stdout",
     "output_type": "stream",
     "text": [
      "id                  2\n",
      "Nombre Provincia    2\n",
      "metros_plaza        2\n",
      "metros_parque       2\n",
      "personas            2\n",
      "PRESUPUESTO         2\n",
      "dtype: int64\n"
     ]
    }
   ],
   "source": [
    "print(df_util[df_util['PRESUPUESTO'] == \"No Recepcionado\"].count()) #Vemos que se repite 2 veces por cada variable (columna)"
   ]
  },
  {
   "cell_type": "code",
   "execution_count": 10,
   "metadata": {},
   "outputs": [
    {
     "data": {
      "text/plain": [
       "(345, 6)"
      ]
     },
     "execution_count": 10,
     "metadata": {},
     "output_type": "execute_result"
    }
   ],
   "source": [
    "df_util.shape #Recalcamos las dimensiones de nuestro df, por lo que vemos que no seria tan significativo \n",
    "              #la eliminacion de ambas filas, procedemos así"
   ]
  },
  {
   "cell_type": "code",
   "execution_count": 11,
   "metadata": {},
   "outputs": [
    {
     "name": "stderr",
     "output_type": "stream",
     "text": [
      "/tmp/ipykernel_26982/3008226518.py:1: SettingWithCopyWarning: \n",
      "A value is trying to be set on a copy of a slice from a DataFrame\n",
      "\n",
      "See the caveats in the documentation: https://pandas.pydata.org/pandas-docs/stable/user_guide/indexing.html#returning-a-view-versus-a-copy\n"
     ]
    }
   ],
   "source": [
    "df_util['PRESUPUESTO'].replace({'No Recepcionado':None},inplace=True) #Con esto estamos reemplazando los elementos de no recepcionados\n",
    "                                                                      #a datos nulos, los que despues se eliminaran en conunto de todos los nulos"
   ]
  },
  {
   "cell_type": "code",
   "execution_count": 12,
   "metadata": {},
   "outputs": [
    {
     "name": "stdout",
     "output_type": "stream",
     "text": [
      "id                  0\n",
      "Nombre Provincia    0\n",
      "metros_plaza        0\n",
      "metros_parque       0\n",
      "personas            0\n",
      "PRESUPUESTO         0\n",
      "dtype: int64\n"
     ]
    }
   ],
   "source": [
    "print(df_util[df_util['PRESUPUESTO'] == \"No Recepcionado\"].count())"
   ]
  },
  {
   "cell_type": "code",
   "execution_count": 13,
   "metadata": {},
   "outputs": [
    {
     "name": "stdout",
     "output_type": "stream",
     "text": [
      "<class 'pandas.core.frame.DataFrame'>\n",
      "Int64Index: 345 entries, 0 to 344\n",
      "Data columns (total 6 columns):\n",
      " #   Column            Non-Null Count  Dtype  \n",
      "---  ------            --------------  -----  \n",
      " 0   id                345 non-null    int64  \n",
      " 1   Nombre Provincia  345 non-null    object \n",
      " 2   metros_plaza      326 non-null    float64\n",
      " 3   metros_parque     318 non-null    float64\n",
      " 4   personas          319 non-null    float64\n",
      " 5   PRESUPUESTO       343 non-null    object \n",
      "dtypes: float64(3), int64(1), object(2)\n",
      "memory usage: 18.9+ KB\n"
     ]
    }
   ],
   "source": [
    "df_util.info() #Si volvemos a revisar PRESUUESTO sige en formato de texto, como ya no existe \n",
    "               #\"No Recepcionado\", podemos cambiar sin ningun problema el formato"
   ]
  },
  {
   "cell_type": "code",
   "execution_count": 14,
   "metadata": {},
   "outputs": [
    {
     "name": "stdout",
     "output_type": "stream",
     "text": [
      "<class 'pandas.core.frame.DataFrame'>\n",
      "Int64Index: 345 entries, 0 to 344\n",
      "Data columns (total 6 columns):\n",
      " #   Column            Non-Null Count  Dtype  \n",
      "---  ------            --------------  -----  \n",
      " 0   id                345 non-null    int64  \n",
      " 1   Nombre Provincia  345 non-null    object \n",
      " 2   metros_plaza      326 non-null    float64\n",
      " 3   metros_parque     318 non-null    float64\n",
      " 4   personas          319 non-null    float64\n",
      " 5   PRESUPUESTO       343 non-null    float64\n",
      "dtypes: float64(4), int64(1), object(1)\n",
      "memory usage: 18.9+ KB\n"
     ]
    },
    {
     "name": "stderr",
     "output_type": "stream",
     "text": [
      "/tmp/ipykernel_26982/1784021701.py:1: SettingWithCopyWarning: \n",
      "A value is trying to be set on a copy of a slice from a DataFrame.\n",
      "Try using .loc[row_indexer,col_indexer] = value instead\n",
      "\n",
      "See the caveats in the documentation: https://pandas.pydata.org/pandas-docs/stable/user_guide/indexing.html#returning-a-view-versus-a-copy\n"
     ]
    }
   ],
   "source": [
    "df_util['PRESUPUESTO'] = pd.DataFrame(pd.to_numeric(df_util['PRESUPUESTO']))\n",
    "df_util.info()"
   ]
  },
  {
   "cell_type": "code",
   "execution_count": 15,
   "metadata": {},
   "outputs": [
    {
     "name": "stdout",
     "output_type": "stream",
     "text": [
      "id                   0\n",
      "Nombre Provincia     0\n",
      "metros_plaza        19\n",
      "metros_parque       27\n",
      "personas            26\n",
      "PRESUPUESTO          2\n",
      "dtype: int64\n"
     ]
    }
   ],
   "source": [
    "print(df_util.isnull().sum()) #Vemos que hay poca cantidad de datos nulos\n",
    "                              #por ello, procederemos a eliminar directamente"
   ]
  },
  {
   "cell_type": "code",
   "execution_count": 16,
   "metadata": {},
   "outputs": [],
   "source": [
    "df_util = df_util.dropna() #Eliminamos los datos nulos"
   ]
  },
  {
   "cell_type": "code",
   "execution_count": 17,
   "metadata": {},
   "outputs": [
    {
     "name": "stdout",
     "output_type": "stream",
     "text": [
      "id                  0\n",
      "Nombre Provincia    0\n",
      "metros_plaza        0\n",
      "metros_parque       0\n",
      "personas            0\n",
      "PRESUPUESTO         0\n",
      "dtype: int64\n"
     ]
    }
   ],
   "source": [
    "print(df_util.loc[df_util.duplicated()].count()) #Vemos si existen datos duplicados\n",
    "                                                 #como no existen, dejamos tal cual"
   ]
  },
  {
   "cell_type": "code",
   "execution_count": 18,
   "metadata": {},
   "outputs": [
    {
     "data": {
      "text/html": [
       "<div>\n",
       "<style scoped>\n",
       "    .dataframe tbody tr th:only-of-type {\n",
       "        vertical-align: middle;\n",
       "    }\n",
       "\n",
       "    .dataframe tbody tr th {\n",
       "        vertical-align: top;\n",
       "    }\n",
       "\n",
       "    .dataframe thead th {\n",
       "        text-align: right;\n",
       "    }\n",
       "</style>\n",
       "<table border=\"1\" class=\"dataframe\">\n",
       "  <thead>\n",
       "    <tr style=\"text-align: right;\">\n",
       "      <th></th>\n",
       "      <th>id</th>\n",
       "      <th>Nombre Provincia</th>\n",
       "      <th>metros_plaza</th>\n",
       "      <th>metros_parque</th>\n",
       "      <th>personas</th>\n",
       "      <th>PRESUPUESTO</th>\n",
       "    </tr>\n",
       "  </thead>\n",
       "  <tbody>\n",
       "    <tr>\n",
       "      <th>0</th>\n",
       "      <td>1101</td>\n",
       "      <td>Iquique</td>\n",
       "      <td>58460.0</td>\n",
       "      <td>94824.0</td>\n",
       "      <td>271.0</td>\n",
       "      <td>59072234.0</td>\n",
       "    </tr>\n",
       "    <tr>\n",
       "      <th>1</th>\n",
       "      <td>1107</td>\n",
       "      <td>Iquique</td>\n",
       "      <td>130316.0</td>\n",
       "      <td>0.0</td>\n",
       "      <td>55.0</td>\n",
       "      <td>13984411.0</td>\n",
       "    </tr>\n",
       "    <tr>\n",
       "      <th>3</th>\n",
       "      <td>1402</td>\n",
       "      <td>Tamarugal</td>\n",
       "      <td>4050.0</td>\n",
       "      <td>0.0</td>\n",
       "      <td>8.0</td>\n",
       "      <td>1584008.0</td>\n",
       "    </tr>\n",
       "    <tr>\n",
       "      <th>5</th>\n",
       "      <td>1404</td>\n",
       "      <td>Tamarugal</td>\n",
       "      <td>2300.0</td>\n",
       "      <td>0.0</td>\n",
       "      <td>17.0</td>\n",
       "      <td>3950000.0</td>\n",
       "    </tr>\n",
       "    <tr>\n",
       "      <th>6</th>\n",
       "      <td>1405</td>\n",
       "      <td>Tamarugal</td>\n",
       "      <td>12925.0</td>\n",
       "      <td>20749.0</td>\n",
       "      <td>18.0</td>\n",
       "      <td>5887820.0</td>\n",
       "    </tr>\n",
       "    <tr>\n",
       "      <th>...</th>\n",
       "      <td>...</td>\n",
       "      <td>...</td>\n",
       "      <td>...</td>\n",
       "      <td>...</td>\n",
       "      <td>...</td>\n",
       "      <td>...</td>\n",
       "    </tr>\n",
       "    <tr>\n",
       "      <th>340</th>\n",
       "      <td>16301</td>\n",
       "      <td>Punilla</td>\n",
       "      <td>168800.0</td>\n",
       "      <td>82226.0</td>\n",
       "      <td>19.0</td>\n",
       "      <td>10459691.0</td>\n",
       "    </tr>\n",
       "    <tr>\n",
       "      <th>341</th>\n",
       "      <td>16302</td>\n",
       "      <td>Punilla</td>\n",
       "      <td>21282.0</td>\n",
       "      <td>0.0</td>\n",
       "      <td>62.0</td>\n",
       "      <td>5001190.0</td>\n",
       "    </tr>\n",
       "    <tr>\n",
       "      <th>342</th>\n",
       "      <td>16303</td>\n",
       "      <td>Punilla</td>\n",
       "      <td>21925.0</td>\n",
       "      <td>0.0</td>\n",
       "      <td>22.0</td>\n",
       "      <td>3386698.0</td>\n",
       "    </tr>\n",
       "    <tr>\n",
       "      <th>343</th>\n",
       "      <td>16304</td>\n",
       "      <td>Punilla</td>\n",
       "      <td>9500.0</td>\n",
       "      <td>0.0</td>\n",
       "      <td>26.0</td>\n",
       "      <td>1798500.0</td>\n",
       "    </tr>\n",
       "    <tr>\n",
       "      <th>344</th>\n",
       "      <td>16305</td>\n",
       "      <td>Punilla</td>\n",
       "      <td>36300.0</td>\n",
       "      <td>4180.0</td>\n",
       "      <td>33.0</td>\n",
       "      <td>3979700.0</td>\n",
       "    </tr>\n",
       "  </tbody>\n",
       "</table>\n",
       "<p>305 rows × 6 columns</p>\n",
       "</div>"
      ],
      "text/plain": [
       "        id Nombre Provincia  metros_plaza  metros_parque  personas  \\\n",
       "0     1101          Iquique       58460.0        94824.0     271.0   \n",
       "1     1107          Iquique      130316.0            0.0      55.0   \n",
       "3     1402        Tamarugal        4050.0            0.0       8.0   \n",
       "5     1404        Tamarugal        2300.0            0.0      17.0   \n",
       "6     1405        Tamarugal       12925.0        20749.0      18.0   \n",
       "..     ...              ...           ...            ...       ...   \n",
       "340  16301          Punilla      168800.0        82226.0      19.0   \n",
       "341  16302          Punilla       21282.0            0.0      62.0   \n",
       "342  16303          Punilla       21925.0            0.0      22.0   \n",
       "343  16304          Punilla        9500.0            0.0      26.0   \n",
       "344  16305          Punilla       36300.0         4180.0      33.0   \n",
       "\n",
       "     PRESUPUESTO  \n",
       "0     59072234.0  \n",
       "1     13984411.0  \n",
       "3      1584008.0  \n",
       "5      3950000.0  \n",
       "6      5887820.0  \n",
       "..           ...  \n",
       "340   10459691.0  \n",
       "341    5001190.0  \n",
       "342    3386698.0  \n",
       "343    1798500.0  \n",
       "344    3979700.0  \n",
       "\n",
       "[305 rows x 6 columns]"
      ]
     },
     "execution_count": 18,
     "metadata": {},
     "output_type": "execute_result"
    }
   ],
   "source": [
    "df_util #Vemos nuestro data final limpio, donde queda con 305 filas y 6 columnas."
   ]
  },
  {
   "cell_type": "markdown",
   "metadata": {},
   "source": [
    "***Analice estadísticamente los datos, vea medidas de tendencia central y grafique***"
   ]
  },
  {
   "cell_type": "code",
   "execution_count": 19,
   "metadata": {},
   "outputs": [
    {
     "data": {
      "text/html": [
       "<div>\n",
       "<style scoped>\n",
       "    .dataframe tbody tr th:only-of-type {\n",
       "        vertical-align: middle;\n",
       "    }\n",
       "\n",
       "    .dataframe tbody tr th {\n",
       "        vertical-align: top;\n",
       "    }\n",
       "\n",
       "    .dataframe thead th {\n",
       "        text-align: right;\n",
       "    }\n",
       "</style>\n",
       "<table border=\"1\" class=\"dataframe\">\n",
       "  <thead>\n",
       "    <tr style=\"text-align: right;\">\n",
       "      <th></th>\n",
       "      <th>metros_plaza</th>\n",
       "      <th>metros_parque</th>\n",
       "      <th>personas</th>\n",
       "      <th>PRESUPUESTO</th>\n",
       "    </tr>\n",
       "  </thead>\n",
       "  <tbody>\n",
       "    <tr>\n",
       "      <th>count</th>\n",
       "      <td>3.050000e+02</td>\n",
       "      <td>3.050000e+02</td>\n",
       "      <td>305.000000</td>\n",
       "      <td>3.050000e+02</td>\n",
       "    </tr>\n",
       "    <tr>\n",
       "      <th>mean</th>\n",
       "      <td>2.936579e+05</td>\n",
       "      <td>9.051248e+06</td>\n",
       "      <td>94.134426</td>\n",
       "      <td>1.496996e+07</td>\n",
       "    </tr>\n",
       "    <tr>\n",
       "      <th>std</th>\n",
       "      <td>2.194128e+06</td>\n",
       "      <td>1.377979e+08</td>\n",
       "      <td>136.877580</td>\n",
       "      <td>2.888553e+07</td>\n",
       "    </tr>\n",
       "    <tr>\n",
       "      <th>min</th>\n",
       "      <td>7.600000e+01</td>\n",
       "      <td>0.000000e+00</td>\n",
       "      <td>0.000000</td>\n",
       "      <td>1.323606e+06</td>\n",
       "    </tr>\n",
       "    <tr>\n",
       "      <th>25%</th>\n",
       "      <td>1.543700e+04</td>\n",
       "      <td>0.000000e+00</td>\n",
       "      <td>28.000000</td>\n",
       "      <td>3.234467e+06</td>\n",
       "    </tr>\n",
       "    <tr>\n",
       "      <th>50%</th>\n",
       "      <td>3.297200e+04</td>\n",
       "      <td>1.197400e+04</td>\n",
       "      <td>44.000000</td>\n",
       "      <td>5.469336e+06</td>\n",
       "    </tr>\n",
       "    <tr>\n",
       "      <th>75%</th>\n",
       "      <td>1.303160e+05</td>\n",
       "      <td>7.000000e+04</td>\n",
       "      <td>91.000000</td>\n",
       "      <td>1.276829e+07</td>\n",
       "    </tr>\n",
       "    <tr>\n",
       "      <th>max</th>\n",
       "      <td>3.799733e+07</td>\n",
       "      <td>2.384615e+09</td>\n",
       "      <td>1356.000000</td>\n",
       "      <td>3.399804e+08</td>\n",
       "    </tr>\n",
       "  </tbody>\n",
       "</table>\n",
       "</div>"
      ],
      "text/plain": [
       "       metros_plaza  metros_parque     personas   PRESUPUESTO\n",
       "count  3.050000e+02   3.050000e+02   305.000000  3.050000e+02\n",
       "mean   2.936579e+05   9.051248e+06    94.134426  1.496996e+07\n",
       "std    2.194128e+06   1.377979e+08   136.877580  2.888553e+07\n",
       "min    7.600000e+01   0.000000e+00     0.000000  1.323606e+06\n",
       "25%    1.543700e+04   0.000000e+00    28.000000  3.234467e+06\n",
       "50%    3.297200e+04   1.197400e+04    44.000000  5.469336e+06\n",
       "75%    1.303160e+05   7.000000e+04    91.000000  1.276829e+07\n",
       "max    3.799733e+07   2.384615e+09  1356.000000  3.399804e+08"
      ]
     },
     "execution_count": 19,
     "metadata": {},
     "output_type": "execute_result"
    }
   ],
   "source": [
    "df_num = df_util[['metros_plaza', 'metros_parque',\t'personas',\t'PRESUPUESTO']]\n",
    "df_num.describe() #Acá vemos loss las principales medidas de tendencia central \n",
    "                  #para los datos numericos"
   ]
  },
  {
   "cell_type": "markdown",
   "metadata": {},
   "source": [
    "Para visualizar en esta parte, vamos a introducir a Violin plot, una forma más bien completa de ver la distribucion de los datos numericos"
   ]
  },
  {
   "cell_type": "markdown",
   "metadata": {},
   "source": [
    "**Explicación del gráfico de violin**\n",
    "* Un gráfico de violín combinado con un boxplot mantiene todas las explicaciones de un boxplot.\n",
    "* Las partes **más anchas** del gráfico de violín se refieren a zonas de alta probabilidad, es decir, donde hay una mayor frecuencia de datos.\n",
    "* Las zonas **angostas** son zonas de baja probabilidad, donde vemos una menor frecuencia de datos."
   ]
  },
  {
   "cell_type": "markdown",
   "metadata": {},
   "source": [
    "![diagram-20210821.png](data:image/png;base64,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)"
   ]
  },
  {
   "cell_type": "code",
   "execution_count": 21,
   "metadata": {},
   "outputs": [
    {
     "data": {
      "image/png": "[encoded data removed]",
      "text/plain": [
       "<Figure size 640x480 with 1 Axes>"
      ]
     },
     "metadata": {
      "needs_background": "light"
     },
     "output_type": "display_data"
    },
    {
     "data": {
      "text/plain": [
       "<ggplot: (8783908005217)>"
      ]
     },
     "metadata": {},
     "output_type": "display_data"
    },
    {
     "data": {
      "image/png": "[encoded data removed]",
      "text/plain": [
       "<Figure size 640x480 with 1 Axes>"
      ]
     },
     "metadata": {
      "needs_background": "light"
     },
     "output_type": "display_data"
    },
    {
     "data": {
      "text/plain": [
       "<ggplot: (8783908001015)>"
      ]
     },
     "metadata": {},
     "output_type": "display_data"
    },
    {
     "data": {
      "image/png": "[encoded data removed]",
      "text/plain": [
       "<Figure size 640x480 with 1 Axes>"
      ]
     },
     "metadata": {
      "needs_background": "light"
     },
     "output_type": "display_data"
    },
    {
     "data": {
      "text/plain": [
       "<ggplot: (8783907977469)>"
      ]
     },
     "metadata": {},
     "output_type": "display_data"
    },
    {
     "data": {
      "image/png": "[encoded data removed]",
      "text/plain": [
       "<Figure size 640x480 with 1 Axes>"
      ]
     },
     "metadata": {
      "needs_background": "light"
     },
     "output_type": "display_data"
    },
    {
     "data": {
      "text/plain": [
       "<ggplot: (8783907835058)>"
      ]
     },
     "metadata": {},
     "output_type": "display_data"
    }
   ],
   "source": [
    "#Visualización \n",
    "\n",
    "display((ggplot(df_num[['metros_plaza']])+\n",
    " aes(y=\"metros_plaza\")+\n",
    " geom_violin(aes(x=0))+\n",
    " geom_boxplot(aes(x=0),width=0.1, fill=\"purple\", alpha=0.2) +\n",
    " scale_x_continuous(breaks=None)+\n",
    " theme_minimal()+\n",
    " ggtitle(\"ViolinPlot metros plaza\")+\n",
    " xlab(\"\")+\n",
    " coord_flip()\n",
    "))\n",
    "\n",
    "display((ggplot(df_num[['metros_parque']])+\n",
    " aes(y=\"metros_parque\")+\n",
    " geom_violin(aes(x=0))+\n",
    " geom_boxplot(aes(x=0),width=0.1, fill=\"purple\", alpha=0.2) +\n",
    " scale_x_continuous(breaks=None)+\n",
    " theme_minimal()+\n",
    " ggtitle(\"ViolinPlot metros parque\")+\n",
    " xlab(\"\")+\n",
    " coord_flip()\n",
    "))\n",
    "\n",
    "display((ggplot(df_num[['personas']])+\n",
    " aes(y=\"personas\")+\n",
    " geom_violin(aes(x=0))+\n",
    " geom_boxplot(aes(x=0),width=0.1, fill=\"purple\", alpha=0.2) +\n",
    " scale_x_continuous(breaks=None)+\n",
    " theme_minimal()+\n",
    " ggtitle(\"ViolinPlot cantidad personas\")+\n",
    " xlab(\"\")+\n",
    " coord_flip()\n",
    "))\n",
    "\n",
    "display((ggplot(df_num[['PRESUPUESTO']])+\n",
    " aes(y=\"PRESUPUESTO\")+\n",
    " geom_violin(aes(x=0))+\n",
    " geom_boxplot(aes(x=0),width=0.1, fill=\"purple\", alpha=0.2) +\n",
    " scale_x_continuous(breaks=None)+\n",
    " theme_minimal()+\n",
    " ggtitle(\"ViolinPlot PRESUPUESTO\")+\n",
    " xlab(\"\")+\n",
    " coord_flip()\n",
    "))"
   ]
  },
  {
   "cell_type": "markdown",
   "metadata": {},
   "source": [
    "***Proceda a aplicar regresión lineal para una variable, luego repita con las demás y compare***"
   ]
  },
  {
   "cell_type": "markdown",
   "metadata": {},
   "source": [
    "REGRESION LINEAL PARA METROS PLAZA"
   ]
  },
  {
   "cell_type": "code",
   "execution_count": 24,
   "metadata": {},
   "outputs": [],
   "source": [
    "from sklearn.model_selection import train_test_split\n",
    "\n",
    "\n",
    "data_M_plaza = df_util[['metros_plaza', 'PRESUPUESTO']]\n",
    "\n",
    "# Queremos un set de prueba del 15% del tamaño\n",
    "train_set, test_set = train_test_split(data_M_plaza, test_size=0.15)"
   ]
  },
  {
   "cell_type": "code",
   "execution_count": 25,
   "metadata": {},
   "outputs": [
    {
     "data": {
      "text/html": [
       "<div>\n",
       "<style scoped>\n",
       "    .dataframe tbody tr th:only-of-type {\n",
       "        vertical-align: middle;\n",
       "    }\n",
       "\n",
       "    .dataframe tbody tr th {\n",
       "        vertical-align: top;\n",
       "    }\n",
       "\n",
       "    .dataframe thead th {\n",
       "        text-align: right;\n",
       "    }\n",
       "</style>\n",
       "<table border=\"1\" class=\"dataframe\">\n",
       "  <thead>\n",
       "    <tr style=\"text-align: right;\">\n",
       "      <th></th>\n",
       "      <th>metros_plaza</th>\n",
       "      <th>PRESUPUESTO</th>\n",
       "    </tr>\n",
       "  </thead>\n",
       "  <tbody>\n",
       "    <tr>\n",
       "      <th>225</th>\n",
       "      <td>633325.0</td>\n",
       "      <td>30000000.0</td>\n",
       "    </tr>\n",
       "    <tr>\n",
       "      <th>214</th>\n",
       "      <td>111752.0</td>\n",
       "      <td>10032229.0</td>\n",
       "    </tr>\n",
       "    <tr>\n",
       "      <th>78</th>\n",
       "      <td>1628888.0</td>\n",
       "      <td>55996193.0</td>\n",
       "    </tr>\n",
       "    <tr>\n",
       "      <th>26</th>\n",
       "      <td>1499157.0</td>\n",
       "      <td>56819394.0</td>\n",
       "    </tr>\n",
       "    <tr>\n",
       "      <th>240</th>\n",
       "      <td>250.0</td>\n",
       "      <td>1974700.0</td>\n",
       "    </tr>\n",
       "  </tbody>\n",
       "</table>\n",
       "</div>"
      ],
      "text/plain": [
       "     metros_plaza  PRESUPUESTO\n",
       "225      633325.0   30000000.0\n",
       "214      111752.0   10032229.0\n",
       "78      1628888.0   55996193.0\n",
       "26      1499157.0   56819394.0\n",
       "240         250.0    1974700.0"
      ]
     },
     "execution_count": 25,
     "metadata": {},
     "output_type": "execute_result"
    }
   ],
   "source": [
    "train_set.head()"
   ]
  },
  {
   "cell_type": "code",
   "execution_count": 26,
   "metadata": {},
   "outputs": [
    {
     "data": {
      "text/html": [
       "<div>\n",
       "<style scoped>\n",
       "    .dataframe tbody tr th:only-of-type {\n",
       "        vertical-align: middle;\n",
       "    }\n",
       "\n",
       "    .dataframe tbody tr th {\n",
       "        vertical-align: top;\n",
       "    }\n",
       "\n",
       "    .dataframe thead th {\n",
       "        text-align: right;\n",
       "    }\n",
       "</style>\n",
       "<table border=\"1\" class=\"dataframe\">\n",
       "  <thead>\n",
       "    <tr style=\"text-align: right;\">\n",
       "      <th></th>\n",
       "      <th>metros_plaza</th>\n",
       "      <th>PRESUPUESTO</th>\n",
       "    </tr>\n",
       "  </thead>\n",
       "  <tbody>\n",
       "    <tr>\n",
       "      <th>189</th>\n",
       "      <td>26500.0</td>\n",
       "      <td>4134489.0</td>\n",
       "    </tr>\n",
       "    <tr>\n",
       "      <th>111</th>\n",
       "      <td>1329575.0</td>\n",
       "      <td>42998578.0</td>\n",
       "    </tr>\n",
       "    <tr>\n",
       "      <th>101</th>\n",
       "      <td>231241.0</td>\n",
       "      <td>14500000.0</td>\n",
       "    </tr>\n",
       "    <tr>\n",
       "      <th>276</th>\n",
       "      <td>136241.0</td>\n",
       "      <td>14788025.0</td>\n",
       "    </tr>\n",
       "    <tr>\n",
       "      <th>278</th>\n",
       "      <td>212347.0</td>\n",
       "      <td>125041538.0</td>\n",
       "    </tr>\n",
       "  </tbody>\n",
       "</table>\n",
       "</div>"
      ],
      "text/plain": [
       "     metros_plaza  PRESUPUESTO\n",
       "189       26500.0    4134489.0\n",
       "111     1329575.0   42998578.0\n",
       "101      231241.0   14500000.0\n",
       "276      136241.0   14788025.0\n",
       "278      212347.0  125041538.0"
      ]
     },
     "execution_count": 26,
     "metadata": {},
     "output_type": "execute_result"
    }
   ],
   "source": [
    "test_set.head()"
   ]
  },
  {
   "cell_type": "code",
   "execution_count": 27,
   "metadata": {},
   "outputs": [
    {
     "data": {
      "text/html": [
       "<style>#sk-container-id-1 {color: black;background-color: white;}#sk-container-id-1 pre{padding: 0;}#sk-container-id-1 div.sk-toggleable {background-color: white;}#sk-container-id-1 label.sk-toggleable__label {cursor: pointer;display: block;width: 100%;margin-bottom: 0;padding: 0.3em;box-sizing: border-box;text-align: center;}#sk-container-id-1 label.sk-toggleable__label-arrow:before {content: \"▸\";float: left;margin-right: 0.25em;color: #696969;}#sk-container-id-1 label.sk-toggleable__label-arrow:hover:before {color: black;}#sk-container-id-1 div.sk-estimator:hover label.sk-toggleable__label-arrow:before {color: black;}#sk-container-id-1 div.sk-toggleable__content {max-height: 0;max-width: 0;overflow: hidden;text-align: left;background-color: #f0f8ff;}#sk-container-id-1 div.sk-toggleable__content pre {margin: 0.2em;color: black;border-radius: 0.25em;background-color: #f0f8ff;}#sk-container-id-1 input.sk-toggleable__control:checked~div.sk-toggleable__content {max-height: 200px;max-width: 100%;overflow: auto;}#sk-container-id-1 input.sk-toggleable__control:checked~label.sk-toggleable__label-arrow:before {content: \"▾\";}#sk-container-id-1 div.sk-estimator input.sk-toggleable__control:checked~label.sk-toggleable__label {background-color: #d4ebff;}#sk-container-id-1 div.sk-label input.sk-toggleable__control:checked~label.sk-toggleable__label {background-color: #d4ebff;}#sk-container-id-1 input.sk-hidden--visually {border: 0;clip: rect(1px 1px 1px 1px);clip: rect(1px, 1px, 1px, 1px);height: 1px;margin: -1px;overflow: hidden;padding: 0;position: absolute;width: 1px;}#sk-container-id-1 div.sk-estimator {font-family: monospace;background-color: #f0f8ff;border: 1px dotted black;border-radius: 0.25em;box-sizing: border-box;margin-bottom: 0.5em;}#sk-container-id-1 div.sk-estimator:hover {background-color: #d4ebff;}#sk-container-id-1 div.sk-parallel-item::after {content: \"\";width: 100%;border-bottom: 1px solid gray;flex-grow: 1;}#sk-container-id-1 div.sk-label:hover label.sk-toggleable__label {background-color: #d4ebff;}#sk-container-id-1 div.sk-serial::before {content: \"\";position: absolute;border-left: 1px solid gray;box-sizing: border-box;top: 0;bottom: 0;left: 50%;z-index: 0;}#sk-container-id-1 div.sk-serial {display: flex;flex-direction: column;align-items: center;background-color: white;padding-right: 0.2em;padding-left: 0.2em;position: relative;}#sk-container-id-1 div.sk-item {position: relative;z-index: 1;}#sk-container-id-1 div.sk-parallel {display: flex;align-items: stretch;justify-content: center;background-color: white;position: relative;}#sk-container-id-1 div.sk-item::before, #sk-container-id-1 div.sk-parallel-item::before {content: \"\";position: absolute;border-left: 1px solid gray;box-sizing: border-box;top: 0;bottom: 0;left: 50%;z-index: -1;}#sk-container-id-1 div.sk-parallel-item {display: flex;flex-direction: column;z-index: 1;position: relative;background-color: white;}#sk-container-id-1 div.sk-parallel-item:first-child::after {align-self: flex-end;width: 50%;}#sk-container-id-1 div.sk-parallel-item:last-child::after {align-self: flex-start;width: 50%;}#sk-container-id-1 div.sk-parallel-item:only-child::after {width: 0;}#sk-container-id-1 div.sk-dashed-wrapped {border: 1px dashed gray;margin: 0 0.4em 0.5em 0.4em;box-sizing: border-box;padding-bottom: 0.4em;background-color: white;}#sk-container-id-1 div.sk-label label {font-family: monospace;font-weight: bold;display: inline-block;line-height: 1.2em;}#sk-container-id-1 div.sk-label-container {text-align: center;}#sk-container-id-1 div.sk-container {/* jupyter's `normalize.less` sets `[hidden] { display: none; }` but bootstrap.min.css set `[hidden] { display: none !important; }` so we also need the `!important` here to be able to override the default hidden behavior on the sphinx rendered scikit-learn.org. See: https://github.com/scikit-learn/scikit-learn/issues/21755 */display: inline-block !important;position: relative;}#sk-container-id-1 div.sk-text-repr-fallback {display: none;}</style><div id=\"sk-container-id-1\" class=\"sk-top-container\"><div class=\"sk-text-repr-fallback\"><pre>LinearRegression()</pre><b>In a Jupyter environment, please rerun this cell to show the HTML representation or trust the notebook. <br />On GitHub, the HTML representation is unable to render, please try loading this page with nbviewer.org.</b></div><div class=\"sk-container\" hidden><div class=\"sk-item\"><div class=\"sk-estimator sk-toggleable\"><input class=\"sk-toggleable__control sk-hidden--visually\" id=\"sk-estimator-id-1\" type=\"checkbox\" checked><label for=\"sk-estimator-id-1\" class=\"sk-toggleable__label sk-toggleable__label-arrow\">LinearRegression</label><div class=\"sk-toggleable__content\"><pre>LinearRegression()</pre></div></div></div></div></div>"
      ],
      "text/plain": [
       "LinearRegression()"
      ]
     },
     "execution_count": 27,
     "metadata": {},
     "output_type": "execute_result"
    }
   ],
   "source": [
    "from sklearn.linear_model import LinearRegression\n",
    "\n",
    "# Vamos a separar la respuesta de nuestras features\n",
    "\n",
    "X_train = train_set[['metros_plaza']] \n",
    "y_train = train_set[['PRESUPUESTO']]\n",
    "\n",
    "lin_reg = LinearRegression()\n",
    "\n",
    "lin_reg.fit(X_train, y_train)"
   ]
  },
  {
   "cell_type": "code",
   "execution_count": 28,
   "metadata": {},
   "outputs": [
    {
     "name": "stderr",
     "output_type": "stream",
     "text": [
      "/home/bruno/.local/lib/python3.8/site-packages/sklearn/base.py:450: UserWarning: X does not have valid feature names, but LinearRegression was fitted with feature names\n"
     ]
    },
    {
     "data": {
      "text/plain": [
       "array([[17961817.76249094],\n",
       "       [18857356.37397157],\n",
       "       [19752894.9854522 ]])"
      ]
     },
     "execution_count": 28,
     "metadata": {},
     "output_type": "execute_result"
    }
   ],
   "source": [
    "lin_reg.predict([[4000000], [5000000], [6000000]])"
   ]
  },
  {
   "cell_type": "code",
   "execution_count": 29,
   "metadata": {},
   "outputs": [
    {
     "data": {
      "image/png": "[encoded data removed]",
      "text/plain": [
       "<Figure size 640x480 with 1 Axes>"
      ]
     },
     "metadata": {},
     "output_type": "display_data"
    },
    {
     "data": {
      "text/plain": [
       "<ggplot: (8783907899805)>"
      ]
     },
     "execution_count": 29,
     "metadata": {},
     "output_type": "execute_result"
    }
   ],
   "source": [
    "(ggplot(df_util)+\n",
    " aes(x=\"PRESUPUESTO\", y=\"metros_plaza\")+\n",
    " geom_point(color=\"blue\")+\n",
    " geom_smooth(method='lm',color=\"orange\",se = False)+\n",
    " xlab(\"Metros de plaza\")+\n",
    " ylab(\"Presupuesto según la cantidad de metros de plaza\")+\n",
    " #scale_y_log10()+\n",
    "\n",
    "theme_linedraw())"
   ]
  },
  {
   "cell_type": "code",
   "execution_count": 30,
   "metadata": {},
   "outputs": [
    {
     "data": {
      "text/plain": [
       "array([[0.89553861]])"
      ]
     },
     "execution_count": 30,
     "metadata": {},
     "output_type": "execute_result"
    }
   ],
   "source": [
    "# La pendiente\n",
    "from sklearn.linear_model import LinearRegression\n",
    "\n",
    "lin_reg.coef_"
   ]
  },
  {
   "cell_type": "code",
   "execution_count": 31,
   "metadata": {},
   "outputs": [
    {
     "data": {
      "text/plain": [
       "array([14379663.31656842])"
      ]
     },
     "execution_count": 31,
     "metadata": {},
     "output_type": "execute_result"
    }
   ],
   "source": [
    "# El coeficiente de posición\n",
    "lin_reg.intercept_"
   ]
  },
  {
   "cell_type": "code",
   "execution_count": 32,
   "metadata": {},
   "outputs": [
    {
     "name": "stderr",
     "output_type": "stream",
     "text": [
      "/home/bruno/.local/lib/python3.8/site-packages/sklearn/base.py:493: FutureWarning: The feature names should match those that were passed during fit. Starting version 1.2, an error will be raised.\n",
      "Feature names unseen at fit time:\n",
      "- PRESUPUESTO\n",
      "Feature names seen at fit time, yet now missing:\n",
      "- metros_plaza\n",
      "\n"
     ]
    },
    {
     "data": {
      "text/plain": [
       "array([[1.80822579e+07],\n",
       "       [5.28865502e+07],\n",
       "       [2.73649732e+07],\n",
       "       [2.76229107e+07],\n",
       "       [1.26359189e+08],\n",
       "       [1.82155776e+07],\n",
       "       [1.67063765e+07],\n",
       "       [1.60620911e+07],\n",
       "       [2.08389030e+07],\n",
       "       [2.32438209e+07],\n",
       "       [1.66103981e+07],\n",
       "       [2.00788066e+07],\n",
       "       [2.17089000e+07],\n",
       "       [1.62447505e+07],\n",
       "       [1.56891020e+07],\n",
       "       [1.75018826e+07],\n",
       "       [2.12608925e+07],\n",
       "       [3.87633680e+07],\n",
       "       [7.11960457e+07],\n",
       "       [1.99633134e+07],\n",
       "       [1.76407931e+07],\n",
       "       [1.76267171e+07],\n",
       "       [2.22413308e+07],\n",
       "       [1.79893842e+07],\n",
       "       [1.75535659e+07],\n",
       "       [1.68462050e+07],\n",
       "       [1.71582510e+07],\n",
       "       [1.85856043e+07],\n",
       "       [1.65745882e+07],\n",
       "       [1.93371752e+07],\n",
       "       [2.58141573e+07],\n",
       "       [2.25533114e+07],\n",
       "       [2.23254120e+07],\n",
       "       [5.57643715e+07],\n",
       "       [1.21233777e+08],\n",
       "       [1.58391154e+07],\n",
       "       [2.54424058e+07],\n",
       "       [2.83286372e+07],\n",
       "       [2.94820265e+07],\n",
       "       [1.04502462e+08],\n",
       "       [2.40268449e+07],\n",
       "       [1.58061372e+07],\n",
       "       [2.07201976e+07],\n",
       "       [1.59902895e+07],\n",
       "       [1.66567028e+07],\n",
       "       [1.69669406e+07]])"
      ]
     },
     "execution_count": 32,
     "metadata": {},
     "output_type": "execute_result"
    }
   ],
   "source": [
    "from sklearn.metrics import mean_squared_error\n",
    "\n",
    "X_test = test_set[['PRESUPUESTO']]\n",
    "y_pred = lin_reg.predict(X_test)\n",
    "y_pred"
   ]
  },
  {
   "cell_type": "code",
   "execution_count": 33,
   "metadata": {},
   "outputs": [
    {
     "data": {
      "text/html": [
       "<div>\n",
       "<style scoped>\n",
       "    .dataframe tbody tr th:only-of-type {\n",
       "        vertical-align: middle;\n",
       "    }\n",
       "\n",
       "    .dataframe tbody tr th {\n",
       "        vertical-align: top;\n",
       "    }\n",
       "\n",
       "    .dataframe thead th {\n",
       "        text-align: right;\n",
       "    }\n",
       "</style>\n",
       "<table border=\"1\" class=\"dataframe\">\n",
       "  <thead>\n",
       "    <tr style=\"text-align: right;\">\n",
       "      <th></th>\n",
       "      <th>metros_plaza</th>\n",
       "    </tr>\n",
       "  </thead>\n",
       "  <tbody>\n",
       "    <tr>\n",
       "      <th>189</th>\n",
       "      <td>26500.0</td>\n",
       "    </tr>\n",
       "    <tr>\n",
       "      <th>111</th>\n",
       "      <td>1329575.0</td>\n",
       "    </tr>\n",
       "    <tr>\n",
       "      <th>101</th>\n",
       "      <td>231241.0</td>\n",
       "    </tr>\n",
       "    <tr>\n",
       "      <th>276</th>\n",
       "      <td>136241.0</td>\n",
       "    </tr>\n",
       "    <tr>\n",
       "      <th>278</th>\n",
       "      <td>212347.0</td>\n",
       "    </tr>\n",
       "    <tr>\n",
       "      <th>15</th>\n",
       "      <td>6410.0</td>\n",
       "    </tr>\n",
       "    <tr>\n",
       "      <th>98</th>\n",
       "      <td>31372.0</td>\n",
       "    </tr>\n",
       "    <tr>\n",
       "      <th>337</th>\n",
       "      <td>10000.0</td>\n",
       "    </tr>\n",
       "    <tr>\n",
       "      <th>238</th>\n",
       "      <td>10000.0</td>\n",
       "    </tr>\n",
       "    <tr>\n",
       "      <th>306</th>\n",
       "      <td>290000.0</td>\n",
       "    </tr>\n",
       "    <tr>\n",
       "      <th>96</th>\n",
       "      <td>11000.0</td>\n",
       "    </tr>\n",
       "    <tr>\n",
       "      <th>93</th>\n",
       "      <td>7093.0</td>\n",
       "    </tr>\n",
       "    <tr>\n",
       "      <th>9</th>\n",
       "      <td>8287.0</td>\n",
       "    </tr>\n",
       "    <tr>\n",
       "      <th>104</th>\n",
       "      <td>20880.0</td>\n",
       "    </tr>\n",
       "    <tr>\n",
       "      <th>243</th>\n",
       "      <td>1500.0</td>\n",
       "    </tr>\n",
       "    <tr>\n",
       "      <th>317</th>\n",
       "      <td>24799.0</td>\n",
       "    </tr>\n",
       "    <tr>\n",
       "      <th>44</th>\n",
       "      <td>10800.0</td>\n",
       "    </tr>\n",
       "    <tr>\n",
       "      <th>281</th>\n",
       "      <td>145303.0</td>\n",
       "    </tr>\n",
       "    <tr>\n",
       "      <th>275</th>\n",
       "      <td>583314.0</td>\n",
       "    </tr>\n",
       "    <tr>\n",
       "      <th>159</th>\n",
       "      <td>7043.0</td>\n",
       "    </tr>\n",
       "    <tr>\n",
       "      <th>190</th>\n",
       "      <td>43250.0</td>\n",
       "    </tr>\n",
       "    <tr>\n",
       "      <th>89</th>\n",
       "      <td>45761.0</td>\n",
       "    </tr>\n",
       "    <tr>\n",
       "      <th>289</th>\n",
       "      <td>58082.0</td>\n",
       "    </tr>\n",
       "    <tr>\n",
       "      <th>171</th>\n",
       "      <td>40000.0</td>\n",
       "    </tr>\n",
       "    <tr>\n",
       "      <th>55</th>\n",
       "      <td>13993.0</td>\n",
       "    </tr>\n",
       "    <tr>\n",
       "      <th>186</th>\n",
       "      <td>18543.0</td>\n",
       "    </tr>\n",
       "    <tr>\n",
       "      <th>117</th>\n",
       "      <td>24800.0</td>\n",
       "    </tr>\n",
       "    <tr>\n",
       "      <th>61</th>\n",
       "      <td>123.0</td>\n",
       "    </tr>\n",
       "    <tr>\n",
       "      <th>338</th>\n",
       "      <td>7338.0</td>\n",
       "    </tr>\n",
       "    <tr>\n",
       "      <th>116</th>\n",
       "      <td>17140.0</td>\n",
       "    </tr>\n",
       "    <tr>\n",
       "      <th>34</th>\n",
       "      <td>24543.0</td>\n",
       "    </tr>\n",
       "    <tr>\n",
       "      <th>17</th>\n",
       "      <td>170367.0</td>\n",
       "    </tr>\n",
       "    <tr>\n",
       "      <th>75</th>\n",
       "      <td>261000.0</td>\n",
       "    </tr>\n",
       "    <tr>\n",
       "      <th>11</th>\n",
       "      <td>283236.0</td>\n",
       "    </tr>\n",
       "    <tr>\n",
       "      <th>274</th>\n",
       "      <td>2661113.0</td>\n",
       "    </tr>\n",
       "    <tr>\n",
       "      <th>43</th>\n",
       "      <td>9500.0</td>\n",
       "    </tr>\n",
       "    <tr>\n",
       "      <th>65</th>\n",
       "      <td>97868.0</td>\n",
       "    </tr>\n",
       "    <tr>\n",
       "      <th>133</th>\n",
       "      <td>32972.0</td>\n",
       "    </tr>\n",
       "    <tr>\n",
       "      <th>315</th>\n",
       "      <td>23246.0</td>\n",
       "    </tr>\n",
       "    <tr>\n",
       "      <th>7</th>\n",
       "      <td>409807.0</td>\n",
       "    </tr>\n",
       "    <tr>\n",
       "      <th>193</th>\n",
       "      <td>223886.0</td>\n",
       "    </tr>\n",
       "    <tr>\n",
       "      <th>242</th>\n",
       "      <td>11072.0</td>\n",
       "    </tr>\n",
       "    <tr>\n",
       "      <th>134</th>\n",
       "      <td>15601.0</td>\n",
       "    </tr>\n",
       "    <tr>\n",
       "      <th>343</th>\n",
       "      <td>9500.0</td>\n",
       "    </tr>\n",
       "    <tr>\n",
       "      <th>71</th>\n",
       "      <td>71335.0</td>\n",
       "    </tr>\n",
       "    <tr>\n",
       "      <th>209</th>\n",
       "      <td>19343.0</td>\n",
       "    </tr>\n",
       "  </tbody>\n",
       "</table>\n",
       "</div>"
      ],
      "text/plain": [
       "     metros_plaza\n",
       "189       26500.0\n",
       "111     1329575.0\n",
       "101      231241.0\n",
       "276      136241.0\n",
       "278      212347.0\n",
       "15         6410.0\n",
       "98        31372.0\n",
       "337       10000.0\n",
       "238       10000.0\n",
       "306      290000.0\n",
       "96        11000.0\n",
       "93         7093.0\n",
       "9          8287.0\n",
       "104       20880.0\n",
       "243        1500.0\n",
       "317       24799.0\n",
       "44        10800.0\n",
       "281      145303.0\n",
       "275      583314.0\n",
       "159        7043.0\n",
       "190       43250.0\n",
       "89        45761.0\n",
       "289       58082.0\n",
       "171       40000.0\n",
       "55        13993.0\n",
       "186       18543.0\n",
       "117       24800.0\n",
       "61          123.0\n",
       "338        7338.0\n",
       "116       17140.0\n",
       "34        24543.0\n",
       "17       170367.0\n",
       "75       261000.0\n",
       "11       283236.0\n",
       "274     2661113.0\n",
       "43         9500.0\n",
       "65        97868.0\n",
       "133       32972.0\n",
       "315       23246.0\n",
       "7        409807.0\n",
       "193      223886.0\n",
       "242       11072.0\n",
       "134       15601.0\n",
       "343        9500.0\n",
       "71        71335.0\n",
       "209       19343.0"
      ]
     },
     "execution_count": 33,
     "metadata": {},
     "output_type": "execute_result"
    }
   ],
   "source": [
    "y_test = test_set[['metros_plaza']]\n",
    "y_test"
   ]
  },
  {
   "cell_type": "code",
   "execution_count": 34,
   "metadata": {},
   "outputs": [
    {
     "data": {
      "text/plain": [
       "1501490993397923.2"
      ]
     },
     "execution_count": 34,
     "metadata": {},
     "output_type": "execute_result"
    }
   ],
   "source": [
    "# Ahora calculamos el error medio cuadrado\n",
    "# El primer parámetro de la función son las respuestas reales\n",
    "lin_mse = mean_squared_error(y_test, y_pred)\n",
    "lin_mse"
   ]
  },
  {
   "cell_type": "code",
   "execution_count": 35,
   "metadata": {},
   "outputs": [
    {
     "data": {
      "text/plain": [
       "38749077.323181815"
      ]
     },
     "execution_count": 35,
     "metadata": {},
     "output_type": "execute_result"
    }
   ],
   "source": [
    "import numpy as np\n",
    "\n",
    "np.sqrt(lin_mse)"
   ]
  },
  {
   "cell_type": "markdown",
   "metadata": {},
   "source": [
    "Croos Validation"
   ]
  },
  {
   "cell_type": "code",
   "execution_count": 36,
   "metadata": {},
   "outputs": [
    {
     "data": {
      "text/plain": [
       "array([2.64238821e+08, 1.25625619e+07, 1.35373824e+07, 5.21147090e+07,\n",
       "       2.63787713e+07])"
      ]
     },
     "execution_count": 36,
     "metadata": {},
     "output_type": "execute_result"
    }
   ],
   "source": [
    "from sklearn.model_selection import cross_val_score\n",
    "\n",
    "#Instanciamos un modelo\n",
    "lin_reg = LinearRegression()\n",
    "\n",
    "\n",
    "X = df_util[['metros_plaza']]\n",
    "y = df_util[['PRESUPUESTO']]\n",
    "\n",
    "scores = cross_val_score(lin_reg, X, y, scoring='neg_mean_squared_error', cv=5)\n",
    "\n",
    "lin_rmse_scores = np.sqrt(-scores)\n",
    "lin_rmse_scores"
   ]
  },
  {
   "cell_type": "code",
   "execution_count": 37,
   "metadata": {},
   "outputs": [
    {
     "data": {
      "text/plain": [
       "array([-6.98221544e+16, -1.57817962e+14, -1.83260722e+14, -2.71594289e+15,\n",
       "       -6.95839573e+14])"
      ]
     },
     "execution_count": 37,
     "metadata": {},
     "output_type": "execute_result"
    }
   ],
   "source": [
    "scores"
   ]
  },
  {
   "cell_type": "code",
   "execution_count": 38,
   "metadata": {},
   "outputs": [
    {
     "name": "stdout",
     "output_type": "stream",
     "text": [
      "Puntuación promedio de validación cruzada: 73766449.08\n"
     ]
    }
   ],
   "source": [
    "print(\"Puntuación promedio de validación cruzada: {:.2f}\".format(lin_rmse_scores.mean()))"
   ]
  },
  {
   "cell_type": "code",
   "execution_count": 39,
   "metadata": {},
   "outputs": [
    {
     "name": "stdout",
     "output_type": "stream",
     "text": [
      "96299086.75492606\n"
     ]
    }
   ],
   "source": [
    "#desviación estandar\n",
    "print(lin_rmse_scores.std())"
   ]
  }
 ],
 "metadata": {
  "kernelspec": {
   "display_name": "Python 3.8.10 64-bit",
   "language": "python",
   "name": "python3"
  },
  "language_info": {
   "codemirror_mode": {
    "name": "ipython",
    "version": 3
   },
   "file_extension": ".py",
   "mimetype": "text/x-python",
   "name": "python",
   "nbconvert_exporter": "python",
   "pygments_lexer": "ipython3",
   "version": "3.8.10"
  },
  "orig_nbformat": 4,
  "vscode": {
   "interpreter": {
    "hash": "916dbcbb3f70747c44a77c7bcd40155683ae19c65e1c03b4aa3499c5328201f1"
   }
  }
 },
 "nbformat": 4,
 "nbformat_minor": 2
}
