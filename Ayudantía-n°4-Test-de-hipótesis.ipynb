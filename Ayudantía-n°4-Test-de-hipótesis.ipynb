{
 "cells": [
  {
   "cell_type": "markdown",
   "metadata": {
    "id": "WX_1evN-AHPA"
   },
   "source": [
    "![logo uai fic.png](data:image/png;base64,iVBORw0KGgoAAAANSUhEUgAAAgYAAABhCAMAAACaj5lZAAAAqFBMVEUAAAAAsNn///8ArtgdHR0dttx8zucArNcKCgoAq9deXl5gwuHv7++urq5wcHCkpKSPj4/a2tpZWVnPz8/k5OT19fW9vb2dnZ0Ap9Xg4ODHx8fr6+u/5vKP0+k4ud2JiYl7e3vM6/VnZ2ckJCRNTU3t+Pw4ODh+fn6u3u/g8/l1y+Wc1uvBwcGenp6M0umVlZVDQ0MWFhbE5/MsLCzn9fpQv+BJSUmk3O3WKokyAAAQxElEQVR4nO1dC3uiOhCFSZGioiKgIoqP+taqrWX9///szkyApt1dr+0+0m45+61AmGRczslrElyj8nWxhQxV48tDfFnYtVIGBcwvC1HK4Bm6ydCHUgYKdJOhD6UMFOgmQx9KGSjQTYY+lDJQoJsMfShloEA3GfpQykCBbjL0oZSBAt1k6EMpAwW6ydCHUgYKdJOhD6UMFOgmQx9KGSjQTYY+lDJQoJsMfShloEA3GfpQykCBbjL0oZSBAt1k6EMpAwW6ydCHUgYKdJOhD6UMFOgmQx9KGSjQTYY+lDJQoJsMfShloEA3GfpQykCBbjL0oZSBAt1k6MM7ZHD78PBw+yfZ0AbdZOjDlTIABaFx86Bew01h5tcR4e5Nz94N6+9D6L/Jz738spdMdJOhD1fKIAg7BesdvO4/X0FwV5hFnPQ2ep4Lfiu8N/kpZXABV8ogdN3i6Tfwelxcuf3oc8igW8rg57hWBs1mP+x4PvR9+SAhwmZg5/WDTissZfDpce3YoNkZtY5uALEnH74X+gDNUePQbUIpg0+Pa2XgNkdjI0aKgxYnHHiwsGi3Ru4naQ2apQx+jmtl0HcbAdIc9+HECQsI+nA0mu7IVWYK75dBeN+8HvfBO2SwqLYJl0wuPiibIeS5UFMFH0R+wXZFhiwLpcgjJ+X5X1yr9n8ZV3cK/YbfmE7H/ThLqdePh/Z0N+r8nk4heFOe/jtkcAUuPafNkLFBkuwNHxC2NVythonY8x2LDFKT7UyRDIfPWdAipQxost+etxszU4UpryuWgzZbaV/ToIMrZdCBzv3idFdtgpuluODfTW/vDk3ofwUZ2Oc5wHwOa8cUJvp2KNE58/eoOBO8d7aTJzzUzDUmTVA3+YPFLGYqD4JMGGdHljvJrh+xEaCM6GJgX/gefwjXzhSCfsdtnhYAeavaBpjNRh3XDX/L2ODPy2DpMy7FPy89KNuESa83eXJMewgT4FZhD/PUtqAiemdIbFP0JoBsOhXYOPRgLbzGv8i/PYA1JPS4eyuoOSSRoSTbqcHesWtPqAPT2cCw1/vIMoBwB+542pEULyUV0XTpRrH3W8YGf14GWfjovTIQFkwckWKL7TxBgucoAwDLFvZ6I+wVk4ytgsnqQJGI2pyuE3s7QYHAegMrohctsQg7zdoTajRQEEJgUUJUYOgkm/TPs/79v+7aISL0jZM7Drp05dKzvA+67jdjhHc+hwy6vy6D3nbODfyqNwfsG1IWg+kI8wcyMIXDMsCRoon87m1JvJQBS0mONlkGpjPAPGh2NudbDY3BtTKIY8+oHgII2SpY4EfDg7DTxqfrnQqzf1sGiCdu4C1ni+Tho1vl4/8fyEBeM9nOGmwkmvjPZTABWekzGYgzCgVlAEVv8Xdx7ZrC7miMGgbENA5Y1Dl2EEP72/LO8HdfRQZra4WtgYB5ktZQEPjoHrOB3o86BVHIQGAfkqYV2ZFkMlhjJ8DFvmwNts6Hbg1ogjBdHCAyFu2GH3jL6vHBR75HOFD4PXED9y2I9XQKjpWassoiUmQXiGwhlKbezGRgryoil4F9zrKYuaWdwPz12MBkGdhmmnzcCSP4baM+BeguRt2OF3ud7nLWwsvgePo94aP34K/KgGcKWMl7WI8RexwgYJVeJ46TpETg2nZwpE+zQp4pOHAWNHOwsG73YG5alrnCOYGcKeD0oOg3cKbQc5I19S9ypjD/yDMFGDfADcIjXYzqHDy4q0Mz3M2CLyEDsccZ/gBbgAHAyrJrj3glrDkXebZNG+f8a7yirmG15un/2SbbydBOJzBfCbuCBZzNAYUfMM8+607YGK9XDp8/TSYfesIIUzRx5XrCQzjlo7vEtPHXkIG9fRwMJhs7meAhsSt0hc348HE9WdFgT+zx7IytvmlN8N5g8LgRKdo+np0aZeECHgd883GwL6KIj3y9pUZD4L1HxP4Dy6A+IpuOvKov+MBbEDo7eCjM/l0ZmLatrhsIuW6AqY5jZ/fx7NXSgFxdyGxl4ut1g5frDna2HvHXcW0UUe4+kq2A4cv6P6Ok2FcW7f5hGfyZp29bOhaSvseVMoh8XtTLrvJ1hZDSOt/JIBi1rsfIe7cMgmnjekw7H08GQkzmn0oGu/qs+VzNu9kRn6zf3ilT/uj9lF7y/h36/1/gz/CBZEAzzuGnkgGPDGCUXeWDgSmnus9m/7IM6H+fyD+fj6ZyzNJ+elDOZJZkbdl54T/xk98VRcYfOhLf270s9kV575bBiU04XFgdLfxjc8zJnDr9EjKgYIFlCv7MLk1eOEhrKT1hS0LeQjbYEnt+ebCK2/iRJAnNFASn56W/cFSUT7CdpJYij8o3KBxZRLx0iN9FtcvKyvRBty6Fpa59XSUqqNqFAf3hc58yvrL6N2Vg88aAYY8+V45Y0ZHqs9wvYJlWVvzASehQEw4d1j0OIE56j9ltCixKO2GyBS8tOI8AOWFcUIVZkUlOhaMTSWYucke2yY5sh27PHdPZqHa8fjEAuaYhavPn8n5JBrQjvSnPAi+KInlOfYXSJ/zDMqD471rIJWLkwrZgjbM8pHxVS1e0SGwPYWhZsMI5IVI/x4QKxZWEmANWfeTsybLOgMkmrNPaGs5YVrb4TMsUsC3a8TVsbLsGk2wWOQTYbgaQkPmApp9D2KKjgXQEmLDhANae7GhtQ6RZBMoGCmJJadXMze+QAW1HlTtOXHpjKJCTNXp76UYx+lsy8P++DHhNAY+oBpjbZo/ixg4y5ghUBj5gpGFvO6s9nm3RZEUrT7xoNOcFZgft7XTCZxM8o8LyJUpahMjXGExi8cnBkrOFaIs2NaB9IvAGmdu0au2cydEQHQ3IEWmI7RLKlshiRQUqXKxAufWENf8dMphCKE86kYd/gpz3rmp0+368SQZ/yM91MthO4OwQrTjSX/fygRlyWemtK7SIuAVsMlKs0NsXMuht5j0pg15vSEzlMkDOaeE5Jwm7iM2Go8tSIrxfLWF9sAzY0VY6quWOkPNVZpfLgIqVq9v4dSq24/yGsQE2xH15jMMwxj8ykNitv4m+D47rZHDGCppQayBko17b1DYp70ibc/1HdhK8cF7JgJYO5Nl8MIEnGkVmMkDa0HjgPHuaP0E2sLdXchFKqDJARyshZVDJHIkzMi3tMhlgMQNHroVz7zFJf10Gs5lhNA+MehBAPQjvx0vE/cK4uOX7c+FKGfSw1X+WAa0q4RHZGexzGaRYE7evZDCvPOZntItVmLkMkGmrh2PP5wDzGSSnJg/zKvmooZABOspl0ENHqSIDs5ABlpL05DYp07GGazls/BUZPNxUvXzSGGJjAPUwrPMVThbBuPl5Tm1o0fLHqblsN96Q6UoZ2M4T8JpyCtTMO7SFULbVlVTKoIadNFRedwrJXp5NKrwgXcggI6CgUZjPIwUsLOseFBnsexvV0QYdkTjyPJkM5PInyJUq29njoPPXZGDEB8AuYUHB4ygIIvwTeHSBzziAztteZP8rqHtj/Bz7HozfkOuiDEyWAY4Hzg4SwlvV8UkPHeEQDTxyc3oTrKXOENnBujinZIH1kbcpoAywiaa9yTg2WFM+Ezt17PdpAjAcDrdSGtIX7W3KTpHmmmPT+hWOE0kRrx1t2RENJTfSTlAnQ4U/crFPDs5mE+GktPn512RQhZB08BBDDFEYBhDH9ZizBHhnUdjNqifDaM/weGPc4nm7faoecURXXczkK0P05tCMLKfLKaXPjGO7XZVRySpm4neLik1tbSruhCnSw2w0ZR9knpVn3I6XsjEiR8VrSQ9VcvKtjZaYl5PbN/zW0uydMhBJBZ5qWCOHMKmZzorfOxD0+sF5u+ZNQytYVbiXqA3gnFArwOzglL2WiKQG8w32CjiMr+GEkdoKS6RnLEuka6iYNhW1sTJXOG+o5cN6m1ytHnEkmG7JNTkaVCo0YcwcPQHL8Cztana6J7tkIoud4wHnsZshwIUtz9fJgJZ/OJI8Ho3Hy/F4NBqPlkxXgN1EVAy/A6p8EBl18I07aBkAR6hTeKEt+xAZdow5G9Qf7vDmjlI6LDWadfCbhtnaBfZCu+wdevoNBQoWBJSV9r7IqakMZ3O7v0RbXuqi202e3XrkG9wsuSr7tHfKQIaP9j1uaXGuPpc7C2X4aF0TefhoZXP4aE0tBo4UbP4vsAe9QXY7Cx+ZmHzmUBSw+ZnDEdkowB7IpMyzs6dXXJ5eh49WMnwkHXHvU2G7lMNJkM6fv0xFWqYXVrCvkgFFibJ5wnE0Xo4ah+V4JOvsN2wNniNIEVECHgUZqg8oHHzqIZxwmo8p42mjgQnfZh60lpilCY0HVEQH7qcx3PM6VUTLwe7UA9nNHJi1MfjVPvLfgmixw3wey8CD7ng8pl1RUxnHHKOW6tA+7ihzzN/JBzgY0JS+p3eNRjV+Eex6iwxMISeGcq9pNkmkKK2w6MPMQ/nPN7PP52zZYoSZD/zze6aaS3FVKNA2Cxfy/itHcn6A3T8Ht5X03Ab/Wual+eJ1MphhBQ2zAMHNsV1tVKunrOWe1uM6FC1tIYMQCZYy6NChj1QsHm7otRfardI9QDDChv6OZdAgLdF2R1JMF9uQ2yxAHdU9rNTEL4nJw/HoHRrmMiCnDWo4fO7/pQzubl3kfQEdagh8bn+auW9qJC5vUbgkg58/wb+wRniti5/a/d+XvK5TOMbQCeNsgfFmfFxmxGPNDoL4WNgVMuj70JUyaEC/DfxOPC1NYVeA3cPijhv6m5tMBphstGHZQQmQDND4m0EicVtYe1kGfWiHlIiGuQzCEKojuudyCEvKAHgzShdOMVr5sQsuy4B941e52CWUL7b/nwywIoU7L6o3F2raKILAj/tKSiED/8SjCa7lYRNukYpD6/CANHbqvCR58KnjV2TgQsvFnCwDOeocQfOABbAMsPIHr2Tg+f5sKWVwKGQwHvdROfg1fKTfr9NYpJn7XgCrq5TBD3B1FPHUj+kHTsLdYTr7NqsuXRyA+bQDSDXyiRFsqGOfunopA58raJz9Vk6I7PooAnoX1pMymBrEvxzHGdSGjIBjk3Jb0rcG8trGOx2s9FMcPni83u3xCseCLGXbIWVAHVg9H4iiDEZSBuw7hP+LIegmQx/e8LuIRzf0ghhwtsjhZN+P4nj50qRFgwiUQt2niitlgGlYwfOZAjUPcHIh7IewpCHiDmLqJmY0ePNgeQCaibK2qN/vQBOb8oDKwsrs06yA5whjT37fPtSD7PValkEU0f5paNyilzs/JI240je2SeipHr/+V5UyILzp5zFvl50QvLjv9f04Dnz3+zjyIQgDbBD6yOkyaBgeMnQXRVh9+x7BCDChGbXQDqKlcRP1jXtMdk9GK8Cmfhk1x5HndWRkAfMb7WjXxpQ+Bww8iDCpgxmiqRvI4Ylbly9NoHlXOmkaLg0Em1HDpTYnaMlk/+DJr1DK4Ad486+kHsf3zea925re/b/tZ4NuMvSh/M1kBbrJ0IdSBgp0k6EPpQwU6CZDH0oZKNBNhj6UMlCgmwx9KGWgQDcZ+lDKQIFuMvShlIEC3WToQykDBbrJ0IdSBgp0k6EPpQwU6CZDH0oZKNBNhj6UMlCgmwx9KGWgQDcZ+lDKQIFuMvShlIEC3WToQykDBbrJ0IdSBgp0k6EPpQwU6CZDH0oZKNBNhj6UMlCgmwx9KGWgQDcZ+lDKQIFuMvShlIEC3WToQykDBbrJ0IdSBgp0k6EPpQwUWF8XhQymDzdfHP8BvSjYH+e9OFMAAAAASUVORK5CYII=)\n",
    "\n",
    "\n",
    "**Fundamentos de ciencias de datos,   Sección 3,   2022-2.**\n",
    "\n",
    "\n",
    "**Profesora:   Carolina Lagos Campos.**\n",
    "\n",
    "\n",
    "**Ayudante:   Bruno Reyes Sánchez.**"
   ]
  },
  {
   "cell_type": "markdown",
   "metadata": {
    "id": "MxkoPKUT8HXu"
   },
   "source": [
    "## **Tópicos**\n",
    "\n",
    "  - Intervalos de confianza y error\n",
    "  - Test de hipótesis"
   ]
  },
  {
   "cell_type": "markdown",
   "metadata": {},
   "source": [
    "###### **Resumen métricas estadísticas**"
   ]
  },
  {
   "cell_type": "code",
   "execution_count": 6,
   "metadata": {},
   "outputs": [],
   "source": [
    "import pandas as pd\n",
    "import numpy as np"
   ]
  },
  {
   "cell_type": "code",
   "execution_count": 8,
   "metadata": {},
   "outputs": [
    {
     "data": {
      "text/html": [
       "<div>\n",
       "<style scoped>\n",
       "    .dataframe tbody tr th:only-of-type {\n",
       "        vertical-align: middle;\n",
       "    }\n",
       "\n",
       "    .dataframe tbody tr th {\n",
       "        vertical-align: top;\n",
       "    }\n",
       "\n",
       "    .dataframe thead th {\n",
       "        text-align: right;\n",
       "    }\n",
       "</style>\n",
       "<table border=\"1\" class=\"dataframe\">\n",
       "  <thead>\n",
       "    <tr style=\"text-align: right;\">\n",
       "      <th></th>\n",
       "      <th>Nombre</th>\n",
       "      <th>Genero</th>\n",
       "      <th>Edad</th>\n",
       "      <th>Puntaje</th>\n",
       "    </tr>\n",
       "  </thead>\n",
       "  <tbody>\n",
       "    <tr>\n",
       "      <th>0</th>\n",
       "      <td>Anita</td>\n",
       "      <td>M</td>\n",
       "      <td>17</td>\n",
       "      <td>630</td>\n",
       "    </tr>\n",
       "    <tr>\n",
       "      <th>1</th>\n",
       "      <td>Bastian</td>\n",
       "      <td>H</td>\n",
       "      <td>19</td>\n",
       "      <td>450</td>\n",
       "    </tr>\n",
       "    <tr>\n",
       "      <th>2</th>\n",
       "      <td>Carlos</td>\n",
       "      <td>H</td>\n",
       "      <td>17</td>\n",
       "      <td>550</td>\n",
       "    </tr>\n",
       "    <tr>\n",
       "      <th>3</th>\n",
       "      <td>Andrea</td>\n",
       "      <td>M</td>\n",
       "      <td>17</td>\n",
       "      <td>680</td>\n",
       "    </tr>\n",
       "    <tr>\n",
       "      <th>4</th>\n",
       "      <td>Ignacia</td>\n",
       "      <td>M</td>\n",
       "      <td>20</td>\n",
       "      <td>710</td>\n",
       "    </tr>\n",
       "  </tbody>\n",
       "</table>\n",
       "</div>"
      ],
      "text/plain": [
       "    Nombre Genero  Edad  Puntaje\n",
       "0    Anita      M    17      630\n",
       "1  Bastian      H    19      450\n",
       "2   Carlos      H    17      550\n",
       "3   Andrea      M    17      680\n",
       "4  Ignacia      M    20      710"
      ]
     },
     "execution_count": 8,
     "metadata": {},
     "output_type": "execute_result"
    }
   ],
   "source": [
    "#Puntajes PSU\n",
    "\n",
    "df_punt = pd.DataFrame({'Nombre': ['Anita', 'Bastian', 'Carlos', 'Andrea','Ignacia'],\n",
    "                 'Genero': ['M','H','H','M','M'],\n",
    "                 'Edad': [17,19,17,17,20],\n",
    "                 'Puntaje': [630, 450, 550, 680, 710]})\n",
    "df_punt"
   ]
  },
  {
   "cell_type": "code",
   "execution_count": 9,
   "metadata": {},
   "outputs": [
    {
     "data": {
      "text/plain": [
       "18.0"
      ]
     },
     "execution_count": 9,
     "metadata": {},
     "output_type": "execute_result"
    }
   ],
   "source": [
    "# Media poblacional\n",
    "\n",
    "Edad = df_punt['Edad']  #<== Selección de una columna en particular NUMERICA\n",
    "Edad.mean() #<== Calculo de la media/promedio de la población"
   ]
  },
  {
   "cell_type": "code",
   "execution_count": 19,
   "metadata": {},
   "outputs": [
    {
     "data": {
      "text/html": [
       "<div>\n",
       "<style scoped>\n",
       "    .dataframe tbody tr th:only-of-type {\n",
       "        vertical-align: middle;\n",
       "    }\n",
       "\n",
       "    .dataframe tbody tr th {\n",
       "        vertical-align: top;\n",
       "    }\n",
       "\n",
       "    .dataframe thead th {\n",
       "        text-align: right;\n",
       "    }\n",
       "</style>\n",
       "<table border=\"1\" class=\"dataframe\">\n",
       "  <thead>\n",
       "    <tr style=\"text-align: right;\">\n",
       "      <th></th>\n",
       "      <th>Edad</th>\n",
       "      <th>Puntaje</th>\n",
       "    </tr>\n",
       "  </thead>\n",
       "  <tbody>\n",
       "    <tr>\n",
       "      <th>0</th>\n",
       "      <td>17</td>\n",
       "      <td>630</td>\n",
       "    </tr>\n",
       "    <tr>\n",
       "      <th>1</th>\n",
       "      <td>36</td>\n",
       "      <td>1080</td>\n",
       "    </tr>\n",
       "    <tr>\n",
       "      <th>2</th>\n",
       "      <td>53</td>\n",
       "      <td>1630</td>\n",
       "    </tr>\n",
       "    <tr>\n",
       "      <th>3</th>\n",
       "      <td>70</td>\n",
       "      <td>2310</td>\n",
       "    </tr>\n",
       "    <tr>\n",
       "      <th>4</th>\n",
       "      <td>90</td>\n",
       "      <td>3020</td>\n",
       "    </tr>\n",
       "  </tbody>\n",
       "</table>\n",
       "</div>"
      ],
      "text/plain": [
       "   Edad  Puntaje\n",
       "0    17      630\n",
       "1    36     1080\n",
       "2    53     1630\n",
       "3    70     2310\n",
       "4    90     3020"
      ]
     },
     "execution_count": 19,
     "metadata": {},
     "output_type": "execute_result"
    }
   ],
   "source": [
    "#También puede calcular el valor acumulado: (Ignorar el valor NAN)\n",
    "\n",
    "df_punt[['Edad', 'Puntaje']].cumsum()  # <== buscar otro contexto para frecuencia acumulada\n"
   ]
  },
  {
   "cell_type": "code",
   "execution_count": 20,
   "metadata": {},
   "outputs": [
    {
     "data": {
      "text/html": [
       "<div>\n",
       "<style scoped>\n",
       "    .dataframe tbody tr th:only-of-type {\n",
       "        vertical-align: middle;\n",
       "    }\n",
       "\n",
       "    .dataframe tbody tr th {\n",
       "        vertical-align: top;\n",
       "    }\n",
       "\n",
       "    .dataframe thead th {\n",
       "        text-align: right;\n",
       "    }\n",
       "</style>\n",
       "<table border=\"1\" class=\"dataframe\">\n",
       "  <thead>\n",
       "    <tr style=\"text-align: right;\">\n",
       "      <th></th>\n",
       "      <th>Edad</th>\n",
       "      <th>Puntaje</th>\n",
       "    </tr>\n",
       "  </thead>\n",
       "  <tbody>\n",
       "    <tr>\n",
       "      <th>count</th>\n",
       "      <td>5.000000</td>\n",
       "      <td>5.000000</td>\n",
       "    </tr>\n",
       "    <tr>\n",
       "      <th>mean</th>\n",
       "      <td>18.000000</td>\n",
       "      <td>604.000000</td>\n",
       "    </tr>\n",
       "    <tr>\n",
       "      <th>std</th>\n",
       "      <td>1.414214</td>\n",
       "      <td>105.261579</td>\n",
       "    </tr>\n",
       "    <tr>\n",
       "      <th>min</th>\n",
       "      <td>17.000000</td>\n",
       "      <td>450.000000</td>\n",
       "    </tr>\n",
       "    <tr>\n",
       "      <th>25%</th>\n",
       "      <td>17.000000</td>\n",
       "      <td>550.000000</td>\n",
       "    </tr>\n",
       "    <tr>\n",
       "      <th>50%</th>\n",
       "      <td>17.000000</td>\n",
       "      <td>630.000000</td>\n",
       "    </tr>\n",
       "    <tr>\n",
       "      <th>75%</th>\n",
       "      <td>19.000000</td>\n",
       "      <td>680.000000</td>\n",
       "    </tr>\n",
       "    <tr>\n",
       "      <th>max</th>\n",
       "      <td>20.000000</td>\n",
       "      <td>710.000000</td>\n",
       "    </tr>\n",
       "  </tbody>\n",
       "</table>\n",
       "</div>"
      ],
      "text/plain": [
       "            Edad     Puntaje\n",
       "count   5.000000    5.000000\n",
       "mean   18.000000  604.000000\n",
       "std     1.414214  105.261579\n",
       "min    17.000000  450.000000\n",
       "25%    17.000000  550.000000\n",
       "50%    17.000000  630.000000\n",
       "75%    19.000000  680.000000\n",
       "max    20.000000  710.000000"
      ]
     },
     "execution_count": 20,
     "metadata": {},
     "output_type": "execute_result"
    }
   ],
   "source": [
    "#Resumen de metricas estadísticas\n",
    "\n",
    "df_punt.describe()"
   ]
  },
  {
   "cell_type": "code",
   "execution_count": null,
   "metadata": {},
   "outputs": [],
   "source": [
    "# [INSERTAR IMAGEN DE RESUMEN DE MEDIDAS]"
   ]
  },
  {
   "cell_type": "code",
   "execution_count": 22,
   "metadata": {},
   "outputs": [
    {
     "data": {
      "text/html": [
       "<div>\n",
       "<style scoped>\n",
       "    .dataframe tbody tr th:only-of-type {\n",
       "        vertical-align: middle;\n",
       "    }\n",
       "\n",
       "    .dataframe tbody tr th {\n",
       "        vertical-align: top;\n",
       "    }\n",
       "\n",
       "    .dataframe thead th {\n",
       "        text-align: right;\n",
       "    }\n",
       "</style>\n",
       "<table border=\"1\" class=\"dataframe\">\n",
       "  <thead>\n",
       "    <tr style=\"text-align: right;\">\n",
       "      <th></th>\n",
       "      <th>Edad</th>\n",
       "      <th>Puntaje</th>\n",
       "    </tr>\n",
       "  </thead>\n",
       "  <tbody>\n",
       "    <tr>\n",
       "      <th>Edad</th>\n",
       "      <td>1.000000</td>\n",
       "      <td>0.016794</td>\n",
       "    </tr>\n",
       "    <tr>\n",
       "      <th>Puntaje</th>\n",
       "      <td>0.016794</td>\n",
       "      <td>1.000000</td>\n",
       "    </tr>\n",
       "  </tbody>\n",
       "</table>\n",
       "</div>"
      ],
      "text/plain": [
       "             Edad   Puntaje\n",
       "Edad     1.000000  0.016794\n",
       "Puntaje  0.016794  1.000000"
      ]
     },
     "metadata": {},
     "output_type": "display_data"
    },
    {
     "data": {
      "text/html": [
       "<div>\n",
       "<style scoped>\n",
       "    .dataframe tbody tr th:only-of-type {\n",
       "        vertical-align: middle;\n",
       "    }\n",
       "\n",
       "    .dataframe tbody tr th {\n",
       "        vertical-align: top;\n",
       "    }\n",
       "\n",
       "    .dataframe thead th {\n",
       "        text-align: right;\n",
       "    }\n",
       "</style>\n",
       "<table border=\"1\" class=\"dataframe\">\n",
       "  <thead>\n",
       "    <tr style=\"text-align: right;\">\n",
       "      <th></th>\n",
       "      <th>Edad</th>\n",
       "      <th>Puntaje</th>\n",
       "    </tr>\n",
       "  </thead>\n",
       "  <tbody>\n",
       "    <tr>\n",
       "      <th>Edad</th>\n",
       "      <td>2.0</td>\n",
       "      <td>2.5</td>\n",
       "    </tr>\n",
       "    <tr>\n",
       "      <th>Puntaje</th>\n",
       "      <td>2.5</td>\n",
       "      <td>11080.0</td>\n",
       "    </tr>\n",
       "  </tbody>\n",
       "</table>\n",
       "</div>"
      ],
      "text/plain": [
       "         Edad  Puntaje\n",
       "Edad      2.0      2.5\n",
       "Puntaje   2.5  11080.0"
      ]
     },
     "metadata": {},
     "output_type": "display_data"
    }
   ],
   "source": [
    "# Los métodos corr y cov del marco de datos pueden devolver una matriz completa de similitud o varianza:\n",
    "display(df_punt.corr())\n",
    "display(df_punt.cov())"
   ]
  },
  {
   "cell_type": "code",
   "execution_count": 23,
   "metadata": {},
   "outputs": [
    {
     "data": {
      "text/plain": [
       "Edad       0.016794\n",
       "Puntaje    1.000000\n",
       "dtype: float64"
      ]
     },
     "execution_count": 23,
     "metadata": {},
     "output_type": "execute_result"
    }
   ],
   "source": [
    "# Usando el método corrwith de Dataframe, podemos calcular la similitud entre diferentes columnas o filas en el marco de datos. Pasar una serie:\n",
    "\n",
    "df_punt.corrwith(df_punt.Puntaje)"
   ]
  },
  {
   "cell_type": "markdown",
   "metadata": {},
   "source": [
    "### Intervalos de confianza y error "
   ]
  },
  {
   "cell_type": "markdown",
   "metadata": {},
   "source": []
  },
  {
   "cell_type": "markdown",
   "metadata": {},
   "source": [
    "### Test de hipótesis"
   ]
  },
  {
   "cell_type": "markdown",
   "metadata": {},
   "source": []
  },
  {
   "cell_type": "markdown",
   "metadata": {},
   "source": [
    "## Ejercicios"
   ]
  },
  {
   "cell_type": "markdown",
   "metadata": {},
   "source": [
    "1.- "
   ]
  },
  {
   "cell_type": "code",
   "execution_count": null,
   "metadata": {},
   "outputs": [],
   "source": []
  },
  {
   "cell_type": "markdown",
   "metadata": {},
   "source": [
    "2.-\n"
   ]
  },
  {
   "cell_type": "markdown",
   "metadata": {},
   "source": []
  },
  {
   "cell_type": "markdown",
   "metadata": {},
   "source": [
    "3.-"
   ]
  },
  {
   "cell_type": "markdown",
   "metadata": {},
   "source": []
  },
  {
   "cell_type": "markdown",
   "metadata": {},
   "source": [
    "4.-"
   ]
  },
  {
   "cell_type": "markdown",
   "metadata": {},
   "source": []
  },
  {
   "cell_type": "markdown",
   "metadata": {},
   "source": [
    "5.-\n"
   ]
  },
  {
   "cell_type": "markdown",
   "metadata": {},
   "source": []
  }
 ],
 "metadata": {
  "kernelspec": {
   "display_name": "Python 3.8.10 64-bit",
   "language": "python",
   "name": "python3"
  },
  "language_info": {
   "codemirror_mode": {
    "name": "ipython",
    "version": 3
   },
   "file_extension": ".py",
   "mimetype": "text/x-python",
   "name": "python",
   "nbconvert_exporter": "python",
   "pygments_lexer": "ipython3",
   "version": "3.8.10"
  },
  "orig_nbformat": 4,
  "vscode": {
   "interpreter": {
    "hash": "916dbcbb3f70747c44a77c7bcd40155683ae19c65e1c03b4aa3499c5328201f1"
   }
  }
 },
 "nbformat": 4,
 "nbformat_minor": 2
}
