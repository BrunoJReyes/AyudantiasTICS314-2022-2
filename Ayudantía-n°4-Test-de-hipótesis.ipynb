{
 "cells": [
  {
   "cell_type": "markdown",
   "metadata": {
    "id": "WX_1evN-AHPA"
   },
   "source": [
    "![logo uai fic.png](data:image/png;base64,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)\n",
    "\n",
    "\n",
    "**Fundamentos de ciencias de datos,   Sección 3,   2022-2.**\n",
    "\n",
    "\n",
    "**Profesora:   Carolina Lagos Campos.**\n",
    "\n",
    "\n",
    "**Ayudante:   Bruno Reyes Sánchez.**"
   ]
  },
  {
   "cell_type": "markdown",
   "metadata": {
    "id": "MxkoPKUT8HXu"
   },
   "source": [
    "## **Tópicos**\n",
    "\n",
    "  - Intervalos de confianza y error\n",
    "  - Test de hipótesis"
   ]
  },
  {
   "cell_type": "markdown",
   "metadata": {},
   "source": [
    "###### **Resumen métricas estadísticas**"
   ]
  },
  {
   "cell_type": "code",
   "execution_count": 1,
   "metadata": {},
   "outputs": [],
   "source": [
    "import pandas as pd\n",
    "import numpy as np"
   ]
  },
  {
   "cell_type": "code",
   "execution_count": 2,
   "metadata": {},
   "outputs": [
    {
     "data": {
      "text/html": [
       "<div>\n",
       "<style scoped>\n",
       "    .dataframe tbody tr th:only-of-type {\n",
       "        vertical-align: middle;\n",
       "    }\n",
       "\n",
       "    .dataframe tbody tr th {\n",
       "        vertical-align: top;\n",
       "    }\n",
       "\n",
       "    .dataframe thead th {\n",
       "        text-align: right;\n",
       "    }\n",
       "</style>\n",
       "<table border=\"1\" class=\"dataframe\">\n",
       "  <thead>\n",
       "    <tr style=\"text-align: right;\">\n",
       "      <th></th>\n",
       "      <th>Nombre</th>\n",
       "      <th>Sexo</th>\n",
       "      <th>Edad</th>\n",
       "      <th>Puntaje</th>\n",
       "    </tr>\n",
       "  </thead>\n",
       "  <tbody>\n",
       "    <tr>\n",
       "      <th>0</th>\n",
       "      <td>Anita</td>\n",
       "      <td>M</td>\n",
       "      <td>17</td>\n",
       "      <td>630</td>\n",
       "    </tr>\n",
       "    <tr>\n",
       "      <th>1</th>\n",
       "      <td>Bastian</td>\n",
       "      <td>H</td>\n",
       "      <td>19</td>\n",
       "      <td>450</td>\n",
       "    </tr>\n",
       "    <tr>\n",
       "      <th>2</th>\n",
       "      <td>Carlos</td>\n",
       "      <td>H</td>\n",
       "      <td>17</td>\n",
       "      <td>550</td>\n",
       "    </tr>\n",
       "    <tr>\n",
       "      <th>3</th>\n",
       "      <td>Andrea</td>\n",
       "      <td>M</td>\n",
       "      <td>17</td>\n",
       "      <td>680</td>\n",
       "    </tr>\n",
       "    <tr>\n",
       "      <th>4</th>\n",
       "      <td>Ignacia</td>\n",
       "      <td>M</td>\n",
       "      <td>20</td>\n",
       "      <td>710</td>\n",
       "    </tr>\n",
       "    <tr>\n",
       "      <th>5</th>\n",
       "      <td>Antonio</td>\n",
       "      <td>H</td>\n",
       "      <td>17</td>\n",
       "      <td>450</td>\n",
       "    </tr>\n",
       "    <tr>\n",
       "      <th>6</th>\n",
       "      <td>Nicholas</td>\n",
       "      <td>H</td>\n",
       "      <td>21</td>\n",
       "      <td>600</td>\n",
       "    </tr>\n",
       "    <tr>\n",
       "      <th>7</th>\n",
       "      <td>Vicente</td>\n",
       "      <td>H</td>\n",
       "      <td>19</td>\n",
       "      <td>630</td>\n",
       "    </tr>\n",
       "    <tr>\n",
       "      <th>8</th>\n",
       "      <td>Diego</td>\n",
       "      <td>H</td>\n",
       "      <td>20</td>\n",
       "      <td>700</td>\n",
       "    </tr>\n",
       "    <tr>\n",
       "      <th>9</th>\n",
       "      <td>Francisca</td>\n",
       "      <td>M</td>\n",
       "      <td>20</td>\n",
       "      <td>550</td>\n",
       "    </tr>\n",
       "    <tr>\n",
       "      <th>10</th>\n",
       "      <td>Antonia</td>\n",
       "      <td>M</td>\n",
       "      <td>20</td>\n",
       "      <td>650</td>\n",
       "    </tr>\n",
       "    <tr>\n",
       "      <th>11</th>\n",
       "      <td>Catalina</td>\n",
       "      <td>M</td>\n",
       "      <td>21</td>\n",
       "      <td>310</td>\n",
       "    </tr>\n",
       "    <tr>\n",
       "      <th>12</th>\n",
       "      <td>Maria</td>\n",
       "      <td>M</td>\n",
       "      <td>18</td>\n",
       "      <td>300</td>\n",
       "    </tr>\n",
       "    <tr>\n",
       "      <th>13</th>\n",
       "      <td>Carolina</td>\n",
       "      <td>M</td>\n",
       "      <td>20</td>\n",
       "      <td>480</td>\n",
       "    </tr>\n",
       "    <tr>\n",
       "      <th>14</th>\n",
       "      <td>Matias</td>\n",
       "      <td>H</td>\n",
       "      <td>18</td>\n",
       "      <td>780</td>\n",
       "    </tr>\n",
       "    <tr>\n",
       "      <th>15</th>\n",
       "      <td>Joaquin</td>\n",
       "      <td>H</td>\n",
       "      <td>21</td>\n",
       "      <td>850</td>\n",
       "    </tr>\n",
       "  </tbody>\n",
       "</table>\n",
       "</div>"
      ],
      "text/plain": [
       "       Nombre Sexo  Edad  Puntaje\n",
       "0       Anita    M    17      630\n",
       "1     Bastian    H    19      450\n",
       "2      Carlos    H    17      550\n",
       "3      Andrea    M    17      680\n",
       "4     Ignacia    M    20      710\n",
       "5     Antonio    H    17      450\n",
       "6    Nicholas    H    21      600\n",
       "7     Vicente    H    19      630\n",
       "8       Diego    H    20      700\n",
       "9   Francisca    M    20      550\n",
       "10    Antonia    M    20      650\n",
       "11   Catalina    M    21      310\n",
       "12      Maria    M    18      300\n",
       "13   Carolina    M    20      480\n",
       "14     Matias    H    18      780\n",
       "15    Joaquin    H    21      850"
      ]
     },
     "execution_count": 2,
     "metadata": {},
     "output_type": "execute_result"
    }
   ],
   "source": [
    "#Puntajes PSU\n",
    "\n",
    "df_punt = pd.DataFrame({'Nombre': ['Anita', 'Bastian', 'Carlos', 'Andrea','Ignacia',\"Antonio\", \"Nicholas\", \"Vicente\", \"Diego\", \"Francisca\", \"Antonia\", \"Catalina\", \"Maria\", \"Carolina\", \"Matias\", \"Joaquin\"],\n",
    "                 'Sexo':          ['M','H', 'H','M','M','H','H','H','H',\"M\",\"M\",\"M\",\"M\",\"M\",\"H\",\"H\"],\n",
    "                 'Edad':          [17, 19,17,17,20,17,21,19,20,20,20,21,18,20,18,21],\n",
    "                 'Puntaje':       [630, 450, 550, 680, 710,450,600,630,700,550,650,310,300,480,780,850]})\n",
    "df_punt"
   ]
  },
  {
   "cell_type": "code",
   "execution_count": 3,
   "metadata": {},
   "outputs": [
    {
     "data": {
      "text/plain": [
       "19.0625"
      ]
     },
     "execution_count": 3,
     "metadata": {},
     "output_type": "execute_result"
    }
   ],
   "source": [
    "# Media poblacional\n",
    "\n",
    "Edad = df_punt['Edad']  #<== Selección de una columna en particular NUMERICA\n",
    "Edad.mean() #<== Calculo de la media/promedio de la población"
   ]
  },
  {
   "cell_type": "code",
   "execution_count": 4,
   "metadata": {},
   "outputs": [
    {
     "data": {
      "text/plain": [
       "1.526160760426852"
      ]
     },
     "execution_count": 4,
     "metadata": {},
     "output_type": "execute_result"
    }
   ],
   "source": [
    "# Desviación estándar\n",
    "\n",
    "Edad.std()"
   ]
  },
  {
   "cell_type": "code",
   "execution_count": 5,
   "metadata": {},
   "outputs": [
    {
     "data": {
      "text/html": [
       "<div>\n",
       "<style scoped>\n",
       "    .dataframe tbody tr th:only-of-type {\n",
       "        vertical-align: middle;\n",
       "    }\n",
       "\n",
       "    .dataframe tbody tr th {\n",
       "        vertical-align: top;\n",
       "    }\n",
       "\n",
       "    .dataframe thead th {\n",
       "        text-align: right;\n",
       "    }\n",
       "</style>\n",
       "<table border=\"1\" class=\"dataframe\">\n",
       "  <thead>\n",
       "    <tr style=\"text-align: right;\">\n",
       "      <th></th>\n",
       "      <th>Edad</th>\n",
       "      <th>Puntaje</th>\n",
       "    </tr>\n",
       "  </thead>\n",
       "  <tbody>\n",
       "    <tr>\n",
       "      <th>0</th>\n",
       "      <td>17</td>\n",
       "      <td>630</td>\n",
       "    </tr>\n",
       "    <tr>\n",
       "      <th>1</th>\n",
       "      <td>36</td>\n",
       "      <td>1080</td>\n",
       "    </tr>\n",
       "    <tr>\n",
       "      <th>2</th>\n",
       "      <td>53</td>\n",
       "      <td>1630</td>\n",
       "    </tr>\n",
       "    <tr>\n",
       "      <th>3</th>\n",
       "      <td>70</td>\n",
       "      <td>2310</td>\n",
       "    </tr>\n",
       "    <tr>\n",
       "      <th>4</th>\n",
       "      <td>90</td>\n",
       "      <td>3020</td>\n",
       "    </tr>\n",
       "    <tr>\n",
       "      <th>5</th>\n",
       "      <td>107</td>\n",
       "      <td>3470</td>\n",
       "    </tr>\n",
       "    <tr>\n",
       "      <th>6</th>\n",
       "      <td>128</td>\n",
       "      <td>4070</td>\n",
       "    </tr>\n",
       "    <tr>\n",
       "      <th>7</th>\n",
       "      <td>147</td>\n",
       "      <td>4700</td>\n",
       "    </tr>\n",
       "    <tr>\n",
       "      <th>8</th>\n",
       "      <td>167</td>\n",
       "      <td>5400</td>\n",
       "    </tr>\n",
       "    <tr>\n",
       "      <th>9</th>\n",
       "      <td>187</td>\n",
       "      <td>5950</td>\n",
       "    </tr>\n",
       "    <tr>\n",
       "      <th>10</th>\n",
       "      <td>207</td>\n",
       "      <td>6600</td>\n",
       "    </tr>\n",
       "    <tr>\n",
       "      <th>11</th>\n",
       "      <td>228</td>\n",
       "      <td>6910</td>\n",
       "    </tr>\n",
       "    <tr>\n",
       "      <th>12</th>\n",
       "      <td>246</td>\n",
       "      <td>7210</td>\n",
       "    </tr>\n",
       "    <tr>\n",
       "      <th>13</th>\n",
       "      <td>266</td>\n",
       "      <td>7690</td>\n",
       "    </tr>\n",
       "    <tr>\n",
       "      <th>14</th>\n",
       "      <td>284</td>\n",
       "      <td>8470</td>\n",
       "    </tr>\n",
       "    <tr>\n",
       "      <th>15</th>\n",
       "      <td>305</td>\n",
       "      <td>9320</td>\n",
       "    </tr>\n",
       "  </tbody>\n",
       "</table>\n",
       "</div>"
      ],
      "text/plain": [
       "    Edad  Puntaje\n",
       "0     17      630\n",
       "1     36     1080\n",
       "2     53     1630\n",
       "3     70     2310\n",
       "4     90     3020\n",
       "5    107     3470\n",
       "6    128     4070\n",
       "7    147     4700\n",
       "8    167     5400\n",
       "9    187     5950\n",
       "10   207     6600\n",
       "11   228     6910\n",
       "12   246     7210\n",
       "13   266     7690\n",
       "14   284     8470\n",
       "15   305     9320"
      ]
     },
     "execution_count": 5,
     "metadata": {},
     "output_type": "execute_result"
    }
   ],
   "source": [
    "#También puede calcular el valor acumulado: (Ignorar el valor NAN)\n",
    "\n",
    "df_punt[['Edad', 'Puntaje']].cumsum()  # <== buscar otro contexto para frecuencia acumulada\n"
   ]
  },
  {
   "cell_type": "code",
   "execution_count": 6,
   "metadata": {},
   "outputs": [
    {
     "data": {
      "text/html": [
       "<div>\n",
       "<style scoped>\n",
       "    .dataframe tbody tr th:only-of-type {\n",
       "        vertical-align: middle;\n",
       "    }\n",
       "\n",
       "    .dataframe tbody tr th {\n",
       "        vertical-align: top;\n",
       "    }\n",
       "\n",
       "    .dataframe thead th {\n",
       "        text-align: right;\n",
       "    }\n",
       "</style>\n",
       "<table border=\"1\" class=\"dataframe\">\n",
       "  <thead>\n",
       "    <tr style=\"text-align: right;\">\n",
       "      <th></th>\n",
       "      <th>Edad</th>\n",
       "      <th>Puntaje</th>\n",
       "    </tr>\n",
       "  </thead>\n",
       "  <tbody>\n",
       "    <tr>\n",
       "      <th>count</th>\n",
       "      <td>16.000000</td>\n",
       "      <td>16.000000</td>\n",
       "    </tr>\n",
       "    <tr>\n",
       "      <th>mean</th>\n",
       "      <td>19.062500</td>\n",
       "      <td>582.500000</td>\n",
       "    </tr>\n",
       "    <tr>\n",
       "      <th>std</th>\n",
       "      <td>1.526161</td>\n",
       "      <td>155.198797</td>\n",
       "    </tr>\n",
       "    <tr>\n",
       "      <th>min</th>\n",
       "      <td>17.000000</td>\n",
       "      <td>300.000000</td>\n",
       "    </tr>\n",
       "    <tr>\n",
       "      <th>25%</th>\n",
       "      <td>17.750000</td>\n",
       "      <td>472.500000</td>\n",
       "    </tr>\n",
       "    <tr>\n",
       "      <th>50%</th>\n",
       "      <td>19.500000</td>\n",
       "      <td>615.000000</td>\n",
       "    </tr>\n",
       "    <tr>\n",
       "      <th>75%</th>\n",
       "      <td>20.000000</td>\n",
       "      <td>685.000000</td>\n",
       "    </tr>\n",
       "    <tr>\n",
       "      <th>max</th>\n",
       "      <td>21.000000</td>\n",
       "      <td>850.000000</td>\n",
       "    </tr>\n",
       "  </tbody>\n",
       "</table>\n",
       "</div>"
      ],
      "text/plain": [
       "            Edad     Puntaje\n",
       "count  16.000000   16.000000\n",
       "mean   19.062500  582.500000\n",
       "std     1.526161  155.198797\n",
       "min    17.000000  300.000000\n",
       "25%    17.750000  472.500000\n",
       "50%    19.500000  615.000000\n",
       "75%    20.000000  685.000000\n",
       "max    21.000000  850.000000"
      ]
     },
     "execution_count": 6,
     "metadata": {},
     "output_type": "execute_result"
    }
   ],
   "source": [
    "#Resumen de metricas estadísticas\n",
    "\n",
    "df_punt.describe()"
   ]
  },
  {
   "cell_type": "code",
   "execution_count": 7,
   "metadata": {},
   "outputs": [],
   "source": [
    "# [INSERTAR IMAGEN DE RESUMEN DE MEDIDAS]"
   ]
  },
  {
   "cell_type": "code",
   "execution_count": 8,
   "metadata": {},
   "outputs": [
    {
     "data": {
      "text/html": [
       "<div>\n",
       "<style scoped>\n",
       "    .dataframe tbody tr th:only-of-type {\n",
       "        vertical-align: middle;\n",
       "    }\n",
       "\n",
       "    .dataframe tbody tr th {\n",
       "        vertical-align: top;\n",
       "    }\n",
       "\n",
       "    .dataframe thead th {\n",
       "        text-align: right;\n",
       "    }\n",
       "</style>\n",
       "<table border=\"1\" class=\"dataframe\">\n",
       "  <thead>\n",
       "    <tr style=\"text-align: right;\">\n",
       "      <th></th>\n",
       "      <th>Edad</th>\n",
       "      <th>Puntaje</th>\n",
       "    </tr>\n",
       "  </thead>\n",
       "  <tbody>\n",
       "    <tr>\n",
       "      <th>Edad</th>\n",
       "      <td>1.000000</td>\n",
       "      <td>0.092179</td>\n",
       "    </tr>\n",
       "    <tr>\n",
       "      <th>Puntaje</th>\n",
       "      <td>0.092179</td>\n",
       "      <td>1.000000</td>\n",
       "    </tr>\n",
       "  </tbody>\n",
       "</table>\n",
       "</div>"
      ],
      "text/plain": [
       "             Edad   Puntaje\n",
       "Edad     1.000000  0.092179\n",
       "Puntaje  0.092179  1.000000"
      ]
     },
     "metadata": {},
     "output_type": "display_data"
    },
    {
     "data": {
      "text/html": [
       "<div>\n",
       "<style scoped>\n",
       "    .dataframe tbody tr th:only-of-type {\n",
       "        vertical-align: middle;\n",
       "    }\n",
       "\n",
       "    .dataframe tbody tr th {\n",
       "        vertical-align: top;\n",
       "    }\n",
       "\n",
       "    .dataframe thead th {\n",
       "        text-align: right;\n",
       "    }\n",
       "</style>\n",
       "<table border=\"1\" class=\"dataframe\">\n",
       "  <thead>\n",
       "    <tr style=\"text-align: right;\">\n",
       "      <th></th>\n",
       "      <th>Edad</th>\n",
       "      <th>Puntaje</th>\n",
       "    </tr>\n",
       "  </thead>\n",
       "  <tbody>\n",
       "    <tr>\n",
       "      <th>Edad</th>\n",
       "      <td>2.329167</td>\n",
       "      <td>21.833333</td>\n",
       "    </tr>\n",
       "    <tr>\n",
       "      <th>Puntaje</th>\n",
       "      <td>21.833333</td>\n",
       "      <td>24086.666667</td>\n",
       "    </tr>\n",
       "  </tbody>\n",
       "</table>\n",
       "</div>"
      ],
      "text/plain": [
       "              Edad       Puntaje\n",
       "Edad      2.329167     21.833333\n",
       "Puntaje  21.833333  24086.666667"
      ]
     },
     "metadata": {},
     "output_type": "display_data"
    }
   ],
   "source": [
    "# Los métodos corr y cov del marco de datos pueden devolver una matriz completa de similitud o varianza:\n",
    "display(df_punt.corr())\n",
    "display(df_punt.cov())"
   ]
  },
  {
   "cell_type": "code",
   "execution_count": 9,
   "metadata": {},
   "outputs": [
    {
     "data": {
      "text/plain": [
       "Edad       0.092179\n",
       "Puntaje    1.000000\n",
       "dtype: float64"
      ]
     },
     "execution_count": 9,
     "metadata": {},
     "output_type": "execute_result"
    }
   ],
   "source": [
    "# Usando el método corrwith de Dataframe, podemos calcular la similitud entre diferentes columnas o filas en el marco de datos. Pasar una serie:\n",
    "\n",
    "df_punt.corrwith(df_punt.Puntaje)"
   ]
  },
  {
   "cell_type": "markdown",
   "metadata": {},
   "source": [
    "### Intervalos de confianza y error "
   ]
  },
  {
   "cell_type": "markdown",
   "metadata": {},
   "source": [
    "**¿Cómo cuantificamos el error muestral?:** Podemos usar intervalos de\n",
    "confianza.\n"
   ]
  },
  {
   "cell_type": "markdown",
   "metadata": {},
   "source": [
    "Vamos a construir un intervalo de confianza para la **media**"
   ]
  },
  {
   "cell_type": "markdown",
   "metadata": {},
   "source": [
    "Tres casos:\n",
    "- Caso 1: Datos normales y varianza conocida.\n",
    "- Caso 2: Datos normales y varianza desconocida.\n",
    "- Caso 3: Datos de cualquier distribución pero tamaño de muestra grande."
   ]
  },
  {
   "cell_type": "markdown",
   "metadata": {},
   "source": [
    "- **Caso 1**: datos normales con varianza conocida.\n",
    "$$a_n=\\bar{X}- z_{1-\\alpha/2}\\frac{\\sigma}{\\sqrt{n}}\\qquad \\text{y}\\qquad b_n=\\bar{X}+ z_{1-\\alpha/2}\\frac{\\sigma}{\\sqrt{n}}$$\n",
    "- **Caso 2** datos normales con varianza desconocida.\n",
    "$$a_n=\\bar{X}- t_{1-\\alpha/2,n-1}\\frac{S}{\\sqrt{n}}\\qquad \\text{y}\\qquad b_n=\\bar{X}+ t_{1-\\alpha/2,n-1}\\frac{S}{\\sqrt{n}}$$\n",
    "- **Caso 3** datos de cualquier distribucion pero tamano de muestra grande.\n",
    "$$a_n=\\bar{X}- z_{1-\\alpha/2}\\frac{S}{\\sqrt{n}}\\qquad \\text{y}\\qquad b_n=\\bar{X}+ z_{1-\\alpha/2}\\frac{S}{\\sqrt{n}}$$"
   ]
  },
  {
   "cell_type": "markdown",
   "metadata": {},
   "source": [
    "Para los casos 1 y 3 ocuparemos la distribución normal y para el caso 2\n",
    "usaremos la distribución t-student"
   ]
  },
  {
   "cell_type": "markdown",
   "metadata": {},
   "source": [
    "Usamos la librería **stats** del paquete **scipy**"
   ]
  },
  {
   "cell_type": "code",
   "execution_count": 29,
   "metadata": {},
   "outputs": [],
   "source": [
    "from scipy import stats"
   ]
  },
  {
   "cell_type": "code",
   "execution_count": 43,
   "metadata": {},
   "outputs": [
    {
     "data": {
      "text/plain": [
       "Puntaje    582.5\n",
       "dtype: float64"
      ]
     },
     "execution_count": 43,
     "metadata": {},
     "output_type": "execute_result"
    }
   ],
   "source": [
    "punt = df_punt[[\"Puntaje\"]] # <== Selección de columna a utilizar\n",
    "punt.mean() "
   ]
  },
  {
   "cell_type": "code",
   "execution_count": 31,
   "metadata": {},
   "outputs": [
    {
     "data": {
      "text/plain": [
       "(array([532.7761846]), array([632.2238154]))"
      ]
     },
     "execution_count": 31,
     "metadata": {},
     "output_type": "execute_result"
    }
   ],
   "source": [
    "alpha=0.2\n",
    "confidence=1 - alpha   # <== error\n",
    "n=len(punt)\n",
    "\n",
    "stats.norm.interval(confidence,punt.mean(),stats.sem(punt))"
   ]
  },
  {
   "cell_type": "markdown",
   "metadata": {},
   "source": [
    "* Lo mismo pero hecho a mano"
   ]
  },
  {
   "cell_type": "code",
   "execution_count": 32,
   "metadata": {},
   "outputs": [
    {
     "data": {
      "text/plain": [
       "Puntaje    532.776185\n",
       "dtype: float64"
      ]
     },
     "execution_count": 32,
     "metadata": {},
     "output_type": "execute_result"
    }
   ],
   "source": [
    "#Calculamos el límite inferior \n",
    "LI=punt.mean()-stats.norm.ppf(1-alpha/2)*stats.sem(punt)\n",
    "LI"
   ]
  },
  {
   "cell_type": "code",
   "execution_count": 33,
   "metadata": {},
   "outputs": [
    {
     "data": {
      "text/plain": [
       "Puntaje    632.223815\n",
       "dtype: float64"
      ]
     },
     "execution_count": 33,
     "metadata": {},
     "output_type": "execute_result"
    }
   ],
   "source": [
    "#Calculamos el límite superior\n",
    "LS=punt.mean()+stats.norm.ppf(1-alpha/2)*stats.sem(punt)\n",
    "LS"
   ]
  },
  {
   "cell_type": "markdown",
   "metadata": {},
   "source": [
    "* Varianza"
   ]
  },
  {
   "cell_type": "code",
   "execution_count": 44,
   "metadata": {},
   "outputs": [
    {
     "data": {
      "text/plain": [
       "Puntaje    24086.666667\n",
       "dtype: float64"
      ]
     },
     "execution_count": 44,
     "metadata": {},
     "output_type": "execute_result"
    }
   ],
   "source": [
    "#La varianza de los puntajes esta dada por\n",
    "punt.var()"
   ]
  },
  {
   "cell_type": "markdown",
   "metadata": {},
   "source": [
    "El intervalo de confianza para la varianza esta dado por \n",
    "$$a_n=\\frac{(n-1)S^2}{\\chi^2_{1-\\frac{\\alpha}{2},n-1}}\\qquad\\text{y}\\qquad b_n=\\frac{(n-1)S^2}{\\chi^2_{\\frac{\\alpha}{2},n-1}}$$\n",
    "donde \n",
    "- $\\chi^2_{1-\\frac{\\alpha}{2},n-1}$ se calcula usando $\\texttt{stats.chi2.ppf(1-alpha/2,n-1)}$\n",
    "-$\\chi^2_{\\frac{\\alpha}{2},n-1}$ se calcula usando $\\texttt{stats.chi2.ppf(alpha/2,n-1)}$"
   ]
  },
  {
   "cell_type": "code",
   "execution_count": 39,
   "metadata": {},
   "outputs": [],
   "source": [
    "#Seteamos la confianza y la significancia\n",
    "alpha=0.1\n",
    "confianza=1-alpha\n",
    "S2=punt.var()\n",
    "n=len(punt)"
   ]
  },
  {
   "cell_type": "code",
   "execution_count": 40,
   "metadata": {},
   "outputs": [
    {
     "data": {
      "text/plain": [
       "Puntaje    14454.434046\n",
       "dtype: float64"
      ]
     },
     "execution_count": 40,
     "metadata": {},
     "output_type": "execute_result"
    }
   ],
   "source": [
    "#Calculamos el limite inferior\n",
    "LI=(n-1)*S2/stats.chi2.ppf(1-alpha/2,n-1)\n",
    "LI"
   ]
  },
  {
   "cell_type": "code",
   "execution_count": 41,
   "metadata": {},
   "outputs": [
    {
     "data": {
      "text/plain": [
       "Puntaje    49759.370627\n",
       "dtype: float64"
      ]
     },
     "execution_count": 41,
     "metadata": {},
     "output_type": "execute_result"
    }
   ],
   "source": [
    "#Calculamos el limite superior\n",
    "LS=(n-1)*S2/stats.chi2.ppf(alpha/2,n-1)\n",
    "LS"
   ]
  },
  {
   "cell_type": "markdown",
   "metadata": {},
   "source": [
    "**Visualización** "
   ]
  },
  {
   "cell_type": "code",
   "execution_count": 23,
   "metadata": {},
   "outputs": [],
   "source": [
    "from plotnine import *"
   ]
  },
  {
   "cell_type": "code",
   "execution_count": 26,
   "metadata": {},
   "outputs": [
    {
     "name": "stderr",
     "output_type": "stream",
     "text": [
      "/usr/local/lib/python3.8/dist-packages/plotnine/stats/stat_bin.py:95: PlotnineWarning: 'stat_bin()' using 'bins = 4'. Pick better value with 'binwidth'.\n"
     ]
    },
    {
     "data": {
      "image/png": "[encoded data removed]",
      "text/plain": [
       "<Figure size 640x480 with 1 Axes>"
      ]
     },
     "metadata": {},
     "output_type": "display_data"
    },
    {
     "data": {
      "text/plain": [
       "<ggplot: (8763003162868)>"
      ]
     },
     "execution_count": 26,
     "metadata": {},
     "output_type": "execute_result"
    }
   ],
   "source": [
    "(ggplot(punt)+\n",
    " aes(x=\"Puntaje\")+\n",
    " geom_histogram(color=\"red\",fill=\"red\",alpha=0.5)+ \n",
    " theme_linedraw()+\n",
    " ggtitle(\"Distribución de puntajes de PSU\")+\n",
    " xlab(\"Puntaje\")+\n",
    " ylab(\"Frecuencia\")\n",
    ")"
   ]
  },
  {
   "cell_type": "markdown",
   "metadata": {},
   "source": [
    "### Test de hipótesis"
   ]
  },
  {
   "cell_type": "markdown",
   "metadata": {},
   "source": [
    "• Una **hipótesis** estadística es una afirmación sobre los parámetros de una o más \n",
    "poblaciones. En vez de hacer una estimación de un parámetro se hace una afirmación."
   ]
  },
  {
   "cell_type": "markdown",
   "metadata": {},
   "source": [
    "• Utilizaremos la información proporcionada de una muestra aleatoria para decidir si \n",
    "esta afirmación es verdadera o falsa."
   ]
  },
  {
   "cell_type": "code",
   "execution_count": 46,
   "metadata": {},
   "outputs": [
    {
     "data": {
      "text/html": [
       "<div>\n",
       "<style scoped>\n",
       "    .dataframe tbody tr th:only-of-type {\n",
       "        vertical-align: middle;\n",
       "    }\n",
       "\n",
       "    .dataframe tbody tr th {\n",
       "        vertical-align: top;\n",
       "    }\n",
       "\n",
       "    .dataframe thead th {\n",
       "        text-align: right;\n",
       "    }\n",
       "</style>\n",
       "<table border=\"1\" class=\"dataframe\">\n",
       "  <thead>\n",
       "    <tr style=\"text-align: right;\">\n",
       "      <th></th>\n",
       "      <th>Nombre</th>\n",
       "      <th>Sexo</th>\n",
       "      <th>Edad</th>\n",
       "      <th>Puntaje</th>\n",
       "    </tr>\n",
       "  </thead>\n",
       "  <tbody>\n",
       "    <tr>\n",
       "      <th>0</th>\n",
       "      <td>Anita</td>\n",
       "      <td>M</td>\n",
       "      <td>17</td>\n",
       "      <td>630</td>\n",
       "    </tr>\n",
       "    <tr>\n",
       "      <th>1</th>\n",
       "      <td>Bastian</td>\n",
       "      <td>H</td>\n",
       "      <td>19</td>\n",
       "      <td>450</td>\n",
       "    </tr>\n",
       "    <tr>\n",
       "      <th>2</th>\n",
       "      <td>Carlos</td>\n",
       "      <td>H</td>\n",
       "      <td>17</td>\n",
       "      <td>550</td>\n",
       "    </tr>\n",
       "    <tr>\n",
       "      <th>3</th>\n",
       "      <td>Andrea</td>\n",
       "      <td>M</td>\n",
       "      <td>17</td>\n",
       "      <td>680</td>\n",
       "    </tr>\n",
       "    <tr>\n",
       "      <th>4</th>\n",
       "      <td>Ignacia</td>\n",
       "      <td>M</td>\n",
       "      <td>20</td>\n",
       "      <td>710</td>\n",
       "    </tr>\n",
       "    <tr>\n",
       "      <th>5</th>\n",
       "      <td>Antonio</td>\n",
       "      <td>H</td>\n",
       "      <td>17</td>\n",
       "      <td>450</td>\n",
       "    </tr>\n",
       "    <tr>\n",
       "      <th>6</th>\n",
       "      <td>Nicholas</td>\n",
       "      <td>H</td>\n",
       "      <td>21</td>\n",
       "      <td>600</td>\n",
       "    </tr>\n",
       "    <tr>\n",
       "      <th>7</th>\n",
       "      <td>Vicente</td>\n",
       "      <td>H</td>\n",
       "      <td>19</td>\n",
       "      <td>630</td>\n",
       "    </tr>\n",
       "    <tr>\n",
       "      <th>8</th>\n",
       "      <td>Diego</td>\n",
       "      <td>H</td>\n",
       "      <td>20</td>\n",
       "      <td>700</td>\n",
       "    </tr>\n",
       "    <tr>\n",
       "      <th>9</th>\n",
       "      <td>Francisca</td>\n",
       "      <td>M</td>\n",
       "      <td>20</td>\n",
       "      <td>550</td>\n",
       "    </tr>\n",
       "    <tr>\n",
       "      <th>10</th>\n",
       "      <td>Antonia</td>\n",
       "      <td>M</td>\n",
       "      <td>20</td>\n",
       "      <td>650</td>\n",
       "    </tr>\n",
       "    <tr>\n",
       "      <th>11</th>\n",
       "      <td>Catalina</td>\n",
       "      <td>M</td>\n",
       "      <td>21</td>\n",
       "      <td>310</td>\n",
       "    </tr>\n",
       "    <tr>\n",
       "      <th>12</th>\n",
       "      <td>Maria</td>\n",
       "      <td>M</td>\n",
       "      <td>18</td>\n",
       "      <td>300</td>\n",
       "    </tr>\n",
       "    <tr>\n",
       "      <th>13</th>\n",
       "      <td>Carolina</td>\n",
       "      <td>M</td>\n",
       "      <td>20</td>\n",
       "      <td>480</td>\n",
       "    </tr>\n",
       "    <tr>\n",
       "      <th>14</th>\n",
       "      <td>Matias</td>\n",
       "      <td>H</td>\n",
       "      <td>18</td>\n",
       "      <td>780</td>\n",
       "    </tr>\n",
       "    <tr>\n",
       "      <th>15</th>\n",
       "      <td>Joaquin</td>\n",
       "      <td>H</td>\n",
       "      <td>21</td>\n",
       "      <td>850</td>\n",
       "    </tr>\n",
       "  </tbody>\n",
       "</table>\n",
       "</div>"
      ],
      "text/plain": [
       "       Nombre Sexo  Edad  Puntaje\n",
       "0       Anita    M    17      630\n",
       "1     Bastian    H    19      450\n",
       "2      Carlos    H    17      550\n",
       "3      Andrea    M    17      680\n",
       "4     Ignacia    M    20      710\n",
       "5     Antonio    H    17      450\n",
       "6    Nicholas    H    21      600\n",
       "7     Vicente    H    19      630\n",
       "8       Diego    H    20      700\n",
       "9   Francisca    M    20      550\n",
       "10    Antonia    M    20      650\n",
       "11   Catalina    M    21      310\n",
       "12      Maria    M    18      300\n",
       "13   Carolina    M    20      480\n",
       "14     Matias    H    18      780\n",
       "15    Joaquin    H    21      850"
      ]
     },
     "execution_count": 46,
     "metadata": {},
     "output_type": "execute_result"
    }
   ],
   "source": [
    "df_punt # <== data a utilizar"
   ]
  },
  {
   "cell_type": "code",
   "execution_count": 50,
   "metadata": {},
   "outputs": [],
   "source": [
    "punt=df_punt['Puntaje']\n",
    "media=punt.mean()\n",
    "ds=punt.std()"
   ]
  },
  {
   "cell_type": "code",
   "execution_count": 48,
   "metadata": {},
   "outputs": [
    {
     "data": {
      "text/plain": [
       "Ttest_1sampResult(statistic=array([14.23980108]), pvalue=array([4.03604992e-10]))"
      ]
     },
     "execution_count": 48,
     "metadata": {},
     "output_type": "execute_result"
    }
   ],
   "source": [
    "#Podemos concluir que el parametro pobalcional es igual a 30 años?\n",
    "stats.ttest_1samp(punt,30,alternative='two-sided')"
   ]
  },
  {
   "cell_type": "markdown",
   "metadata": {},
   "source": [
    "**Test de Bondad de ajuste**"
   ]
  },
  {
   "cell_type": "code",
   "execution_count": 52,
   "metadata": {},
   "outputs": [
    {
     "data": {
      "image/png": "[encoded data removed]",
      "text/plain": [
       "<Figure size 640x480 with 1 Axes>"
      ]
     },
     "metadata": {},
     "output_type": "display_data"
    },
    {
     "data": {
      "text/plain": [
       "<ggplot: (8763002714612)>"
      ]
     },
     "execution_count": 52,
     "metadata": {},
     "output_type": "execute_result"
    }
   ],
   "source": [
    "#Siguen nuestros datos una distribucion normal?\n",
    "from plotnine import *\n",
    "(ggplot(df_punt)+\n",
    " aes(x='Puntaje')+\n",
    " geom_density(color='red')+\n",
    " stat_function(fun=stats.norm.pdf,args = dict(loc=media, scale=ds)))"
   ]
  },
  {
   "cell_type": "code",
   "execution_count": 53,
   "metadata": {},
   "outputs": [
    {
     "name": "stdout",
     "output_type": "stream",
     "text": [
      "8.727804961077874e-05\n",
      "5.754757853138032e-05\n",
      "9.174672286894683e-05\n",
      "0.00014386387064703463\n",
      "0.00022187614032486048\n",
      "0.999397687638017\n"
     ]
    }
   ],
   "source": [
    "#Definimos 6 regiones: (-Inf,0),(0,20),(20,40),(40,60),(60,80),(80,Inf)\n",
    "p1=stats.norm.cdf(0,loc=media,scale=ds)\n",
    "print(p1)\n",
    "p2=stats.norm.cdf(20,loc=media,scale=ds)-stats.norm.cdf(0,loc=media,scale=ds)\n",
    "print(p2)\n",
    "p3=stats.norm.cdf(40,loc=media,scale=ds)-stats.norm.cdf(20,loc=media,scale=ds)\n",
    "print(p3)\n",
    "p4=stats.norm.cdf(60,loc=media,scale=ds)-stats.norm.cdf(40,loc=media,scale=ds)\n",
    "print(p4)\n",
    "p5=stats.norm.cdf(80,loc=media,scale=ds)-stats.norm.cdf(60,loc=media,scale=ds)\n",
    "print(p5)\n",
    "p6=1-stats.norm.cdf(80,loc=media,scale=ds)\n",
    "print(p6)\n"
   ]
  },
  {
   "cell_type": "code",
   "execution_count": 56,
   "metadata": {},
   "outputs": [
    {
     "data": {
      "text/plain": [
       "16"
      ]
     },
     "execution_count": 56,
     "metadata": {},
     "output_type": "execute_result"
    }
   ],
   "source": [
    "#Calculamos el tamano de muestra\n",
    "n=len(punt)\n",
    "n"
   ]
  },
  {
   "cell_type": "code",
   "execution_count": 55,
   "metadata": {},
   "outputs": [
    {
     "data": {
      "text/plain": [
       "[0.0013964487937724599,\n",
       " 0.0009207612565020852,\n",
       " 0.0014679475659031493,\n",
       " 0.002301821930352554,\n",
       " 0.0035500182451977677,\n",
       " 15.990363002208271]"
      ]
     },
     "execution_count": 55,
     "metadata": {},
     "output_type": "execute_result"
    }
   ],
   "source": [
    "#Calculamos las frecuencias esperadas\n",
    "E1=n*p1\n",
    "E2=n*p2\n",
    "E3=n*p3\n",
    "E4=n*p4\n",
    "E5=n*p5\n",
    "E6=n*p6\n",
    "\n",
    "FE=[E1,E2,E3,E4,E5,E6]\n",
    "FE"
   ]
  },
  {
   "cell_type": "code",
   "execution_count": 57,
   "metadata": {},
   "outputs": [
    {
     "data": {
      "text/plain": [
       "array([ 0,  0,  0,  0,  0, 16])"
      ]
     },
     "execution_count": 57,
     "metadata": {},
     "output_type": "execute_result"
    }
   ],
   "source": [
    "FO=pd.cut(pd.array(punt), bins=[-np.inf,0,20,40,60,80,np.inf]).value_counts()\n",
    "FO=np.array(FO)\n",
    "FO"
   ]
  },
  {
   "cell_type": "code",
   "execution_count": 58,
   "metadata": {},
   "outputs": [
    {
     "data": {
      "text/plain": [
       "Power_divergenceResult(statistic=0.009642805772849206, pvalue=0.9999995159815346)"
      ]
     },
     "execution_count": 58,
     "metadata": {},
     "output_type": "execute_result"
    }
   ],
   "source": [
    "#Aplicamos el test\n",
    "stats.chisquare(FO,FE)"
   ]
  },
  {
   "cell_type": "markdown",
   "metadata": {},
   "source": [
    "## Ejercicios"
   ]
  },
  {
   "cell_type": "markdown",
   "metadata": {},
   "source": [
    "1.- "
   ]
  },
  {
   "cell_type": "code",
   "execution_count": null,
   "metadata": {},
   "outputs": [],
   "source": []
  },
  {
   "cell_type": "markdown",
   "metadata": {},
   "source": [
    "2.-\n"
   ]
  },
  {
   "cell_type": "code",
   "execution_count": null,
   "metadata": {},
   "outputs": [],
   "source": []
  },
  {
   "cell_type": "markdown",
   "metadata": {},
   "source": [
    "3.-"
   ]
  },
  {
   "cell_type": "code",
   "execution_count": null,
   "metadata": {},
   "outputs": [],
   "source": []
  },
  {
   "cell_type": "markdown",
   "metadata": {},
   "source": [
    "4.-"
   ]
  },
  {
   "cell_type": "code",
   "execution_count": null,
   "metadata": {},
   "outputs": [],
   "source": []
  },
  {
   "cell_type": "markdown",
   "metadata": {},
   "source": [
    "5.-\n"
   ]
  },
  {
   "cell_type": "code",
   "execution_count": null,
   "metadata": {},
   "outputs": [],
   "source": []
  }
 ],
 "metadata": {
  "kernelspec": {
   "display_name": "Python 3.8.10 64-bit",
   "language": "python",
   "name": "python3"
  },
  "language_info": {
   "codemirror_mode": {
    "name": "ipython",
    "version": 3
   },
   "file_extension": ".py",
   "mimetype": "text/x-python",
   "name": "python",
   "nbconvert_exporter": "python",
   "pygments_lexer": "ipython3",
   "version": "3.8.10"
  },
  "orig_nbformat": 4,
  "vscode": {
   "interpreter": {
    "hash": "916dbcbb3f70747c44a77c7bcd40155683ae19c65e1c03b4aa3499c5328201f1"
   }
  }
 },
 "nbformat": 4,
 "nbformat_minor": 2
}
