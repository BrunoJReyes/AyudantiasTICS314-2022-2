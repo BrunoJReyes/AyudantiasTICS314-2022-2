{
 "cells": [
  {
   "cell_type": "markdown",
   "metadata": {
    "id": "WX_1evN-AHPA"
   },
   "source": [
    "![logo uai fic.png](data:image/png;base64,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)\n",
    "\n",
    "\n",
    "**Fundamentos de ciencias de datos,   Sección 3,   2022-2.**\n",
    "\n",
    "\n",
    "**Profesora:   Carolina Lagos Campos.**\n",
    "\n",
    "\n",
    "**Ayudante:   Bruno Reyes Sánchez.**"
   ]
  },
  {
   "cell_type": "markdown",
   "metadata": {},
   "source": [
    "## **Tópicos**\n",
    "* Resumen ML\n",
    "* Regresión lineal\n",
    " "
   ]
  },
  {
   "cell_type": "markdown",
   "metadata": {},
   "source": [
    "## Resumen Machine Learning"
   ]
  },
  {
   "cell_type": "markdown",
   "metadata": {},
   "source": [
    "El Machine Learning es una disciplina que, a través de algoritmos, dota a los programas la capacidad de identificar patrones en datos masivos y elaborar predicciones."
   ]
  },
  {
   "cell_type": "markdown",
   "metadata": {},
   "source": [
    "*Supervised Learning*\n",
    "\n",
    "* En *Supervised Learning* la máquina recibe cada\n",
    "ejemplo con una etiqueta o ‘label’. Estas etiquetas\n",
    "ayudan al algoritmo para poder correlacionar dichas\n",
    "etiquetas con las características del vector de\n",
    "características (input del modelo).\n",
    "\n",
    "\n",
    "* El aprendizaje supervisado resuelve problemas conocidos y utiliza un conjunto de datos etiquetados para entrenar un algoritmo para realizar tareas específicas. Utiliza modelos para predecir resultados conocidos como \"¿Cuál es el color de la imagen?\" \"¿Cuántas personas hay en la imagen?\" \"¿Cuáles son los factores determinantes para el fraude o los defectos del producto?\" etc.\n",
    "\n",
    "* **Problemas de clasificación (identificación de dígitos, diagnósticos, o detección de fraude de identidad)**\n",
    "\n",
    "* Ejemplo: Clasificar vehiculos de dos y cuatro ruedas a partir de imagenes, clasificador de spam (muy famoso), etc."
   ]
  },
  {
   "cell_type": "markdown",
   "metadata": {},
   "source": [
    "*Unsupervised Learning*\n",
    "\n",
    "* En *Unsupervised Learning*, la principal característica\n",
    "es que el set de datos no contiene ninguna etiqueta.\n",
    "En este caso, la máquina intentará encontrar patrones\n",
    "comunes entre los datos y los agrupará siguiendo\n",
    "esos patrones\n",
    "\n",
    "* **Se utiliza para identificar nuevos patrones y detectar anomalías.**\n",
    "\n",
    "* Ejemplos: Algoritmos de clustering (buscan agrupamientos basados en similitudes)"
   ]
  },
  {
   "cell_type": "markdown",
   "metadata": {},
   "source": [
    "*Flujo de trabajo*\n",
    "\n",
    "Hay que aprender a realizar un proyecto desde el inicio hasta\n",
    "el final:\n",
    "\n",
    "* Recolectar datos\n",
    "* Limpiar datos\n",
    "* Entender los datos (visualizar, asociaciones, ...)\n",
    "* Entrenar el modelo (o los modelos)\n",
    "* Entender su rendimiento\n",
    "* Analizar errores y mejorar\n",
    "* Llevar a producción (desiciones sobre las predicciones finales)"
   ]
  },
  {
   "cell_type": "markdown",
   "metadata": {},
   "source": [
    "## Regresión lineal"
   ]
  },
  {
   "cell_type": "markdown",
   "metadata": {},
   "source": [
    "* La regresión lineal en el aprendizaje supervisado entrena a un algoritmo para encontrar una relación lineal entre los datos de entrada y salida.\n",
    "\n",
    "* Es el modelo más simple utilizado donde las salidas representan una combinación linealmente ponderada de las salidas.\n",
    "\n",
    "*  **La regresión lineal se puede utilizar para predecir valores dentro de un rango continuo (por ejemplo, ventas, pronóstico de precios).**"
   ]
  },
  {
   "cell_type": "markdown",
   "metadata": {},
   "source": [
    "*Overfitting: => El modelo tiene buenos resultados en los datos de entrenamiento pero no generaliza bien.*\n",
    "\n",
    "*Underfitting: => Ocurre cuando el modelo es muy simple para aprender de los datos, ejemplo modelo de la calidad de vida. Se debe considerar un modelo más potente y con mayor cantidad de variables*\n",
    "\n"
   ]
  },
  {
   "cell_type": "code",
   "execution_count": null,
   "metadata": {},
   "outputs": [],
   "source": [
    "import pandas as pd\n",
    "import numpy as np\n",
    "from scipy import stats\n",
    "import scipy.stats as stats"
   ]
  },
  {
   "cell_type": "code",
   "execution_count": 2,
   "metadata": {},
   "outputs": [],
   "source": [
    "import matplotlib.pyplot as plt\n",
    "import numpy as np\n",
    "from sklearn import datasets, linear_model\n",
    "from sklearn.metrics import mean_squared_error, r2_score"
   ]
  },
  {
   "cell_type": "code",
   "execution_count": 3,
   "metadata": {},
   "outputs": [],
   "source": [
    "# Load the diabetes dataset\n",
    "diabetes_X, diabetes_y = datasets.load_diabetes(return_X_y=True)"
   ]
  },
  {
   "cell_type": "code",
   "execution_count": 4,
   "metadata": {},
   "outputs": [],
   "source": [
    "# Use only one feature\n",
    "diabetes_X = diabetes_X[:, np.newaxis, 2]"
   ]
  },
  {
   "cell_type": "code",
   "execution_count": 5,
   "metadata": {},
   "outputs": [],
   "source": [
    "# Split the data into training/testing sets\n",
    "diabetes_X_train = diabetes_X[:-20]\n",
    "diabetes_X_test = diabetes_X[-20:]"
   ]
  },
  {
   "cell_type": "code",
   "execution_count": 6,
   "metadata": {},
   "outputs": [],
   "source": [
    "# Split the targets into training/testing sets\n",
    "diabetes_y_train = diabetes_y[:-20]\n",
    "diabetes_y_test = diabetes_y[-20:]"
   ]
  },
  {
   "cell_type": "code",
   "execution_count": 7,
   "metadata": {},
   "outputs": [],
   "source": [
    "# Create linear regression object\n",
    "regr = linear_model.LinearRegression()"
   ]
  },
  {
   "cell_type": "code",
   "execution_count": 9,
   "metadata": {},
   "outputs": [
    {
     "data": {
      "text/html": [
       "<style>#sk-container-id-1 {color: black;background-color: white;}#sk-container-id-1 pre{padding: 0;}#sk-container-id-1 div.sk-toggleable {background-color: white;}#sk-container-id-1 label.sk-toggleable__label {cursor: pointer;display: block;width: 100%;margin-bottom: 0;padding: 0.3em;box-sizing: border-box;text-align: center;}#sk-container-id-1 label.sk-toggleable__label-arrow:before {content: \"▸\";float: left;margin-right: 0.25em;color: #696969;}#sk-container-id-1 label.sk-toggleable__label-arrow:hover:before {color: black;}#sk-container-id-1 div.sk-estimator:hover label.sk-toggleable__label-arrow:before {color: black;}#sk-container-id-1 div.sk-toggleable__content {max-height: 0;max-width: 0;overflow: hidden;text-align: left;background-color: #f0f8ff;}#sk-container-id-1 div.sk-toggleable__content pre {margin: 0.2em;color: black;border-radius: 0.25em;background-color: #f0f8ff;}#sk-container-id-1 input.sk-toggleable__control:checked~div.sk-toggleable__content {max-height: 200px;max-width: 100%;overflow: auto;}#sk-container-id-1 input.sk-toggleable__control:checked~label.sk-toggleable__label-arrow:before {content: \"▾\";}#sk-container-id-1 div.sk-estimator input.sk-toggleable__control:checked~label.sk-toggleable__label {background-color: #d4ebff;}#sk-container-id-1 div.sk-label input.sk-toggleable__control:checked~label.sk-toggleable__label {background-color: #d4ebff;}#sk-container-id-1 input.sk-hidden--visually {border: 0;clip: rect(1px 1px 1px 1px);clip: rect(1px, 1px, 1px, 1px);height: 1px;margin: -1px;overflow: hidden;padding: 0;position: absolute;width: 1px;}#sk-container-id-1 div.sk-estimator {font-family: monospace;background-color: #f0f8ff;border: 1px dotted black;border-radius: 0.25em;box-sizing: border-box;margin-bottom: 0.5em;}#sk-container-id-1 div.sk-estimator:hover {background-color: #d4ebff;}#sk-container-id-1 div.sk-parallel-item::after {content: \"\";width: 100%;border-bottom: 1px solid gray;flex-grow: 1;}#sk-container-id-1 div.sk-label:hover label.sk-toggleable__label {background-color: #d4ebff;}#sk-container-id-1 div.sk-serial::before {content: \"\";position: absolute;border-left: 1px solid gray;box-sizing: border-box;top: 0;bottom: 0;left: 50%;z-index: 0;}#sk-container-id-1 div.sk-serial {display: flex;flex-direction: column;align-items: center;background-color: white;padding-right: 0.2em;padding-left: 0.2em;position: relative;}#sk-container-id-1 div.sk-item {position: relative;z-index: 1;}#sk-container-id-1 div.sk-parallel {display: flex;align-items: stretch;justify-content: center;background-color: white;position: relative;}#sk-container-id-1 div.sk-item::before, #sk-container-id-1 div.sk-parallel-item::before {content: \"\";position: absolute;border-left: 1px solid gray;box-sizing: border-box;top: 0;bottom: 0;left: 50%;z-index: -1;}#sk-container-id-1 div.sk-parallel-item {display: flex;flex-direction: column;z-index: 1;position: relative;background-color: white;}#sk-container-id-1 div.sk-parallel-item:first-child::after {align-self: flex-end;width: 50%;}#sk-container-id-1 div.sk-parallel-item:last-child::after {align-self: flex-start;width: 50%;}#sk-container-id-1 div.sk-parallel-item:only-child::after {width: 0;}#sk-container-id-1 div.sk-dashed-wrapped {border: 1px dashed gray;margin: 0 0.4em 0.5em 0.4em;box-sizing: border-box;padding-bottom: 0.4em;background-color: white;}#sk-container-id-1 div.sk-label label {font-family: monospace;font-weight: bold;display: inline-block;line-height: 1.2em;}#sk-container-id-1 div.sk-label-container {text-align: center;}#sk-container-id-1 div.sk-container {/* jupyter's `normalize.less` sets `[hidden] { display: none; }` but bootstrap.min.css set `[hidden] { display: none !important; }` so we also need the `!important` here to be able to override the default hidden behavior on the sphinx rendered scikit-learn.org. See: https://github.com/scikit-learn/scikit-learn/issues/21755 */display: inline-block !important;position: relative;}#sk-container-id-1 div.sk-text-repr-fallback {display: none;}</style><div id=\"sk-container-id-1\" class=\"sk-top-container\"><div class=\"sk-text-repr-fallback\"><pre>LinearRegression()</pre><b>In a Jupyter environment, please rerun this cell to show the HTML representation or trust the notebook. <br />On GitHub, the HTML representation is unable to render, please try loading this page with nbviewer.org.</b></div><div class=\"sk-container\" hidden><div class=\"sk-item\"><div class=\"sk-estimator sk-toggleable\"><input class=\"sk-toggleable__control sk-hidden--visually\" id=\"sk-estimator-id-1\" type=\"checkbox\" checked><label for=\"sk-estimator-id-1\" class=\"sk-toggleable__label sk-toggleable__label-arrow\">LinearRegression</label><div class=\"sk-toggleable__content\"><pre>LinearRegression()</pre></div></div></div></div></div>"
      ],
      "text/plain": [
       "LinearRegression()"
      ]
     },
     "execution_count": 9,
     "metadata": {},
     "output_type": "execute_result"
    }
   ],
   "source": [
    "# Train the model using the training sets\n",
    "regr.fit(diabetes_X_train, diabetes_y_train)"
   ]
  },
  {
   "cell_type": "code",
   "execution_count": 10,
   "metadata": {},
   "outputs": [],
   "source": [
    "# Make predictions using the testing set\n",
    "diabetes_y_pred = regr.predict(diabetes_X_test)"
   ]
  },
  {
   "cell_type": "code",
   "execution_count": 11,
   "metadata": {},
   "outputs": [
    {
     "name": "stdout",
     "output_type": "stream",
     "text": [
      "Coefficients: \n",
      " [938.23786125]\n",
      "Mean squared error: 2548.07\n",
      "Coefficient of determination: 0.47\n"
     ]
    }
   ],
   "source": [
    "# The coefficients\n",
    "print(\"Coefficients: \\n\", regr.coef_)\n",
    "# The mean squared error\n",
    "print(\"Mean squared error: %.2f\" % mean_squared_error(diabetes_y_test, diabetes_y_pred))\n",
    "# The coefficient of determination: 1 is perfect prediction\n",
    "print(\"Coefficient of determination: %.2f\" % r2_score(diabetes_y_test, diabetes_y_pred))"
   ]
  },
  {
   "cell_type": "code",
   "execution_count": 12,
   "metadata": {},
   "outputs": [
    {
     "data": {
      "image/png": "[encoded data removed]",
      "text/plain": [
       "<Figure size 640x480 with 1 Axes>"
      ]
     },
     "metadata": {},
     "output_type": "display_data"
    }
   ],
   "source": [
    "# Plot outputs\n",
    "plt.scatter(diabetes_X_test, diabetes_y_test, color=\"black\")\n",
    "plt.plot(diabetes_X_test, diabetes_y_pred, color=\"blue\", linewidth=3)\n",
    "\n",
    "plt.xticks(())\n",
    "plt.yticks(())\n",
    "\n",
    "plt.show()"
   ]
  }
 ],
 "metadata": {
  "kernelspec": {
   "display_name": "Python 3.8.10 64-bit",
   "language": "python",
   "name": "python3"
  },
  "language_info": {
   "codemirror_mode": {
    "name": "ipython",
    "version": 3
   },
   "file_extension": ".py",
   "mimetype": "text/x-python",
   "name": "python",
   "nbconvert_exporter": "python",
   "pygments_lexer": "ipython3",
   "version": "3.8.10"
  },
  "orig_nbformat": 4,
  "vscode": {
   "interpreter": {
    "hash": "916dbcbb3f70747c44a77c7bcd40155683ae19c65e1c03b4aa3499c5328201f1"
   }
  }
 },
 "nbformat": 4,
 "nbformat_minor": 2
}
