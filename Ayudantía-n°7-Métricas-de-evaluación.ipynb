{
 "cells": [
  {
   "cell_type": "markdown",
   "metadata": {},
   "source": [
    "![logo uai fic.png](data:image/png;base64,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)\n",
    "\n",
    "\n",
    "**Fundamentos de ciencias de datos,   Sección 3,   2022-2.**\n",
    "\n",
    "\n",
    "**Profesora:   Carolina Lagos Campos.**\n",
    "\n",
    "\n",
    "**Ayudante:   Bruno Reyes Sánchez.**"
   ]
  },
  {
   "cell_type": "markdown",
   "metadata": {},
   "source": [
    "## **Tópicos:**\n",
    "- Matriz de confusión\n",
    "- Acuarracy\n",
    "- Recall\n",
    "- F1-score"
   ]
  },
  {
   "cell_type": "markdown",
   "metadata": {},
   "source": [
    "*Cuando necesitamos evaluar el rendimiento en clasificación, podemos usar las métricas de precision, recall, F1, accuracy y la matriz de confusión.*"
   ]
  },
  {
   "cell_type": "markdown",
   "metadata": {},
   "source": [
    "Ejemplo de Marketing\n",
    "\n",
    "Vamos a utilizar un ejemplo de marketing para entender mejor qué es lo que miden cada una de estas métricas y su significado en el ámbito de los negocios.\n",
    "\n",
    "Imagínate que estamos llevando la campaña de marketing para un banco. Al banco le interesa vender un fondo de inversión a sus clientes, porque así pueden ganar dinero por la comisión de gestión.\n",
    "\n",
    "Podríamos contactar con todos los clientes del banco y ofrecerles el fondo de inversión. Esto es bastante ineficiente porque la mayoría de los clientes no estarán interesados. Sería más eficiente contactar con unos pocos, recoger datos, hacer machine learning y predecir qué otros clientes tienen más probabilidad de aceptar la oferta del banco.\n",
    "\n",
    "Sin embargo, (casi) ningún modelo de Machine Learning es perfecto. Esto quiere decir que:\n",
    "\n",
    "- habrá clientes con los que contactaremos porque el modelo ha predicho que aceptarían y en realidad no lo hacen *(False Positive [FP], Positivos Falsos)*.\n",
    "- habrá también clientes con los que no contactaremos porque el modelo ha predicho que no aceptarían que en realidad si lo hubieran hecho *(False Negative [FN], Negativos Falsos)*.\n",
    "\n",
    "El modelo de Machine Learning también acertará (esperemos que mucho). A efectos prácticos esto significa que:\n",
    "\n",
    "- habrá clientes con los que contactaremos porque el modelo ha predicho que aceptarían y en realidad sí que lo hacen *(True Positive [TP], Positivos Verdaderos)*.\n",
    "- habrá clientes que no contactaremos porque el modelo ha predicho que no aceptarían la oferta y en realidad no lo hacen *(True Negative [TN], Negativos Verdaderos)*."
   ]
  },
  {
   "cell_type": "markdown",
   "metadata": {},
   "source": [
    "### Confusion Matrix (Matriz de Confusión)\n",
    "\n",
    "Vamos a explicar como funciona la matriz de confusión con un ejemplo hipotético de marketing. En este ejemplo, contactamos a 100 clientes y 80 de ellos nos dicen que no están interesados y 20 de ellos que sí.\n",
    "\n",
    "Nuestro modelo (en el ejemplo) no es muy bueno, aunque dependiendo de qué métrica usemos podría parecer que es mejor de lo que es.\n",
    "\n",
    "Hemos utilizado como valores de la clasificación binaria:\n",
    "\n",
    "- 0: no está interesado\n",
    "- 1: sí está interesado"
   ]
  },
  {
   "cell_type": "markdown",
   "metadata": {},
   "source": [
    "![conf matrix.png](data/conf_matrix.png)"
   ]
  },
  {
   "cell_type": "markdown",
   "metadata": {},
   "source": [
    "En la matriz de confusión de la izquierda podéis ver los valores para este ejemplo. En la matriz de confusión de la derecha, los nombres genéricos cuando usamos la nomenclatura inglesa: *True Negative [TN], True Positive [TP], False Positive [FP], False Negative [FN].*"
   ]
  },
  {
   "cell_type": "markdown",
   "metadata": {},
   "source": [
    "![truco](data/truco.png)"
   ]
  },
  {
   "cell_type": "markdown",
   "metadata": {},
   "source": [
    "### Precision (Precisión)\n",
    "\n",
    "Con la métrica de precisión podemos medir la calidad del modelo de machine learning en tareas de clasificación. En el ejemplo, se refiere a que la precisión es la respuesta a la pregunta ¿qué porcentaje de los clientes que contactemos estarán interesados?\n",
    "\n",
    "Para calcular la precisión usaremos la siguiente fórmula:"
   ]
  },
  {
   "cell_type": "markdown",
   "metadata": {},
   "source": [
    "$$presicion=\\frac{\\text{TP}}{\\text{TP + FP}}\\qquad \\$$"
   ]
  },
  {
   "cell_type": "markdown",
   "metadata": {},
   "source": [
    "![presicion](data/presicion.png)"
   ]
  },
  {
   "cell_type": "markdown",
   "metadata": {},
   "source": [
    "En el ejemplo de marketing, siguiendo los datos de la matriz de confusión, tenemos que:\n",
    "\n",
    "$$precision = \\frac{TP}{TP + FP} = \\frac{5}{5 + 10} = 0.33$$\n",
    "\n",
    "Es decir, que sólo un 33% de los clientes a los que contactemos estarán realmente interesados. Esto significa que el modelo del ejemplo se equivocará un 66% de las veces cuando prediga que un cliente va a estar interesado"
   ]
  },
  {
   "cell_type": "markdown",
   "metadata": {},
   "source": [
    "### Recall (Exhaustividad)\n",
    "\n",
    "La métrica de exhaustividad nos va a informar sobre la cantidad que el modelo de machine learning es capaz de identificar. En el ejemplo, se refiere a que la exhaustividad (recall) es la respuesta a la pregunta ¿qué porcentaje de los clientes están interesados somos capaces de identificar?\n",
    "\n",
    "Para calcular la exhaustividad (recall) usaremos la siguiente fórmula:"
   ]
  },
  {
   "cell_type": "markdown",
   "metadata": {},
   "source": [
    "$$recall=\\frac{\\text{TP}}{\\text{TP + FN}}\\qquad \\$$"
   ]
  },
  {
   "cell_type": "markdown",
   "metadata": {},
   "source": [
    "![recall](data/recall.png)"
   ]
  },
  {
   "cell_type": "markdown",
   "metadata": {},
   "source": [
    "En el ejemplo de marketing, siguiendo los datos de la matriz de confusión, tenemos que:\n",
    "\n",
    "$$recall = \\frac{TP}{TP + FN} = \\frac{5}{5 + 15} = 0.25$$\n",
    "\n",
    "Es decir, el modelo sólo es capaz de identificar un 25% de los clientes que estarían interesados en adquirir el producto. Esto significa que el modelo del ejemplo sólo es capaz de identificar 1 de cada 4 de los clientes que sí aceptarían la oferta."
   ]
  },
  {
   "cell_type": "markdown",
   "metadata": {},
   "source": [
    "### F1\n",
    "\n",
    "El valor F1 se utiliza para combinar las medidas de precision y recall en un sólo valor. Esto es práctico porque hace más fácil el poder comparar el rendimiento combinado de la precisión y la exhaustividad entre varias soluciones.\n",
    "\n",
    "F1 se calcula haciendo la media armónica entre la precisión y la exhaustividad:\n",
    "\n",
    "$$F1 = 2 \\cdot \\frac{precision \\cdot recall}{precision + recall}$$\n",
    "\t​\n",
    "\n",
    "\n",
    "En el ejemplo de marketing, combinando precision y recall en F1 nos quedaría:\n",
    "\n",
    "$$F1 = 2 \\cdot \\frac{precision \\cdot recall}{precision + recall} = 2 \\cdot \\frac{0.33\\cdot 0.25}{0.33+ 0.25} = 0.28$$\n",
    "\n",
    "El valor F1 asume que nos importa de igual forma la precisión y la exhaustividad. Esto no tiene que ser así en todos los problemas. Por ejemplo, cuando necesitamos predecir si hay riesgo de que un trozo de basura espacialse choque con un satélite, podemos valorar más la exhaustividad a riesgo de tener una peor precisión. Por eso elegimos F2 en lugar de F1 para esa competición de machine learning.\n",
    "\n",
    "En este caso podemos usar F2, que es la fórmula genérica del valor F para beta = 2. La fórmula genérica de F es la siguiente:\n",
    "\n",
    "$$F_{\\beta} = (1 + \\beta^2) \\cdot \\frac{precision \\cdot recall}{(\\beta^2 \\cdot precision) + recall}$$\n"
   ]
  },
  {
   "cell_type": "markdown",
   "metadata": {},
   "source": [
    "### Accuracy (Exactitud)\n",
    "\n",
    "La exactitud (accuracy) mide el porcentaje de casos que el modelo ha acertado. Esta es una de las métricas más usadas y favoritas … que te recomiendo evitar! El problema con la exactitud es que nos puede llevar al engaño, es decir, puede hacer que un modelo malo (como el del ejemplo) parezca que es mucho mejor de lo que es.\n",
    "\n",
    "El accuracy (exactitud) se calcula con la siguiente fórmula:\n",
    "\n",
    "$$accuracy = \\frac{TP + TN}{TP + TN + FP + FN}$$\n",
    "\t​\n",
    "\n",
    "\n",
    "La exactitud del ejemplo de marketing sería:\n",
    "\n",
    "$$accuracy = \\frac{TP + TN}{TP + TN + FP + FN} = \\frac{5+ 70}{5+ 70 + 10+ 15} = 0.75$$\n",
    "\n",
    "Es decir, el modelo acierta el 75% de las veces. Como ves, la exactitud es una métrica muy engañosa. De hecho, si tuviésemos un modelo que siempre predijera que el cliente nunca va a estar interesado, su accuracy sería del 80%."
   ]
  },
  {
   "cell_type": "markdown",
   "metadata": {},
   "source": [
    "![peligro](data/peligro.png)"
   ]
  },
  {
   "cell_type": "markdown",
   "metadata": {},
   "source": [
    "### Resumen\n",
    "\n",
    "En este artículo hemos visto cuáles son las métricas más extendidas para evaluar el rendimiento de modelo supervisado en tareas de clasificación.\n",
    "\n",
    "Hemos destacado que la métrica accuracy (exactitud) es engañosa cuando las clases están desbalanceadas. Cuando decimos que es engañosa nos referimos a que nos hace creer que el modelo es mejor de lo que en realidad es. De hecho, he puesto un ejemplo de un modelo relativamente malo para poner de manifiesto este ejemplo.\n",
    "\n",
    "Las medidas de precision, recall y F1 son mucho más representativas y funcionan tanto si las clases están balanceadas como si no:\n",
    "\n",
    "- *Precision* nos da la calidad de la predicción: ¿qué porcentaje de los que hemos dicho que son la clase positiva, en realidad lo son?\n",
    "- *Recall* nos da la cantidad: ¿qué porcentaje de la clase positiva hemos sido capaces de identificar?\n",
    "- *F1* combina Precision y Recall en una sola medida\n",
    "- La *Matriz de Confusión* indica qué tipos de errores se cometen"
   ]
  }
 ],
 "metadata": {
  "kernelspec": {
   "display_name": "Python 3.8.10 64-bit",
   "language": "python",
   "name": "python3"
  },
  "language_info": {
   "name": "python",
   "version": "3.8.10"
  },
  "orig_nbformat": 4,
  "vscode": {
   "interpreter": {
    "hash": "916dbcbb3f70747c44a77c7bcd40155683ae19c65e1c03b4aa3499c5328201f1"
   }
  }
 },
 "nbformat": 4,
 "nbformat_minor": 2
}
