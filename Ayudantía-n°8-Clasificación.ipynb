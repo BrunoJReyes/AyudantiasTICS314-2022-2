{
 "cells": [
  {
   "cell_type": "markdown",
   "metadata": {},
   "source": [
    "![logo uai fic.png](data:image/png;base64,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)\n",
    "\n",
    "\n",
    "**Fundamentos de ciencias de datos,   Sección 3,   2022-2.**\n",
    "\n",
    "\n",
    "**Profesora:   Carolina Lagos Campos.**\n",
    "\n",
    "\n",
    "**Ayudante:   Bruno Reyes Sánchez.**"
   ]
  },
  {
   "cell_type": "markdown",
   "metadata": {},
   "source": [
    "## **Tópicos:**\n",
    "- Ejemplo completo de clasificador binario"
   ]
  },
  {
   "cell_type": "markdown",
   "metadata": {},
   "source": [
    "*El set de datos para este análisis corresponde al resgistro de canciones de Spotify, donde se mustran las caracteristicas de cada canción.*\n",
    "\n",
    "*La actividad constará de clasificar las canciones respecto a la variable target de \"explicit\", determinando si las canciones son explicitas en su contenido o no.*"
   ]
  },
  {
   "cell_type": "code",
   "execution_count": 3,
   "metadata": {},
   "outputs": [],
   "source": [
    "# Se importan librerías necesarias\n",
    "import pandas as pd\n",
    "import numpy as np"
   ]
  },
  {
   "cell_type": "code",
   "execution_count": 4,
   "metadata": {},
   "outputs": [],
   "source": [
    "# Se cargan datasets necesarios\n",
    "\n",
    "df_songs = pd.read_csv(\"data/songs_normalize.csv\", sep = \",\")\n",
    "# En caso de cargar los datos desde collab es necesario eliminar el \"data/\" que está a la izquierda del nombre del csv"
   ]
  },
  {
   "cell_type": "code",
   "execution_count": 5,
   "metadata": {},
   "outputs": [
    {
     "data": {
      "text/html": [
       "<div>\n",
       "<style scoped>\n",
       "    .dataframe tbody tr th:only-of-type {\n",
       "        vertical-align: middle;\n",
       "    }\n",
       "\n",
       "    .dataframe tbody tr th {\n",
       "        vertical-align: top;\n",
       "    }\n",
       "\n",
       "    .dataframe thead th {\n",
       "        text-align: right;\n",
       "    }\n",
       "</style>\n",
       "<table border=\"1\" class=\"dataframe\">\n",
       "  <thead>\n",
       "    <tr style=\"text-align: right;\">\n",
       "      <th></th>\n",
       "      <th>artist</th>\n",
       "      <th>song</th>\n",
       "      <th>duration_ms</th>\n",
       "      <th>explicit</th>\n",
       "      <th>year</th>\n",
       "      <th>popularity</th>\n",
       "      <th>danceability</th>\n",
       "      <th>energy</th>\n",
       "      <th>key</th>\n",
       "      <th>loudness</th>\n",
       "      <th>mode</th>\n",
       "      <th>speechiness</th>\n",
       "      <th>acousticness</th>\n",
       "      <th>instrumentalness</th>\n",
       "      <th>liveness</th>\n",
       "      <th>valence</th>\n",
       "      <th>tempo</th>\n",
       "      <th>genre</th>\n",
       "    </tr>\n",
       "  </thead>\n",
       "  <tbody>\n",
       "    <tr>\n",
       "      <th>0</th>\n",
       "      <td>Britney Spears</td>\n",
       "      <td>Oops!...I Did It Again</td>\n",
       "      <td>211160</td>\n",
       "      <td>False</td>\n",
       "      <td>2000</td>\n",
       "      <td>77</td>\n",
       "      <td>0.751</td>\n",
       "      <td>0.834</td>\n",
       "      <td>1</td>\n",
       "      <td>-5.444</td>\n",
       "      <td>0</td>\n",
       "      <td>0.0437</td>\n",
       "      <td>0.3000</td>\n",
       "      <td>0.000018</td>\n",
       "      <td>0.3550</td>\n",
       "      <td>0.894</td>\n",
       "      <td>95.053</td>\n",
       "      <td>pop</td>\n",
       "    </tr>\n",
       "    <tr>\n",
       "      <th>1</th>\n",
       "      <td>blink-182</td>\n",
       "      <td>All The Small Things</td>\n",
       "      <td>167066</td>\n",
       "      <td>False</td>\n",
       "      <td>1999</td>\n",
       "      <td>79</td>\n",
       "      <td>0.434</td>\n",
       "      <td>0.897</td>\n",
       "      <td>0</td>\n",
       "      <td>-4.918</td>\n",
       "      <td>1</td>\n",
       "      <td>0.0488</td>\n",
       "      <td>0.0103</td>\n",
       "      <td>0.000000</td>\n",
       "      <td>0.6120</td>\n",
       "      <td>0.684</td>\n",
       "      <td>148.726</td>\n",
       "      <td>rock, pop</td>\n",
       "    </tr>\n",
       "    <tr>\n",
       "      <th>2</th>\n",
       "      <td>Faith Hill</td>\n",
       "      <td>Breathe</td>\n",
       "      <td>250546</td>\n",
       "      <td>False</td>\n",
       "      <td>1999</td>\n",
       "      <td>66</td>\n",
       "      <td>0.529</td>\n",
       "      <td>0.496</td>\n",
       "      <td>7</td>\n",
       "      <td>-9.007</td>\n",
       "      <td>1</td>\n",
       "      <td>0.0290</td>\n",
       "      <td>0.1730</td>\n",
       "      <td>0.000000</td>\n",
       "      <td>0.2510</td>\n",
       "      <td>0.278</td>\n",
       "      <td>136.859</td>\n",
       "      <td>pop, country</td>\n",
       "    </tr>\n",
       "    <tr>\n",
       "      <th>3</th>\n",
       "      <td>Bon Jovi</td>\n",
       "      <td>It's My Life</td>\n",
       "      <td>224493</td>\n",
       "      <td>False</td>\n",
       "      <td>2000</td>\n",
       "      <td>78</td>\n",
       "      <td>0.551</td>\n",
       "      <td>0.913</td>\n",
       "      <td>0</td>\n",
       "      <td>-4.063</td>\n",
       "      <td>0</td>\n",
       "      <td>0.0466</td>\n",
       "      <td>0.0263</td>\n",
       "      <td>0.000013</td>\n",
       "      <td>0.3470</td>\n",
       "      <td>0.544</td>\n",
       "      <td>119.992</td>\n",
       "      <td>rock, metal</td>\n",
       "    </tr>\n",
       "    <tr>\n",
       "      <th>4</th>\n",
       "      <td>*NSYNC</td>\n",
       "      <td>Bye Bye Bye</td>\n",
       "      <td>200560</td>\n",
       "      <td>False</td>\n",
       "      <td>2000</td>\n",
       "      <td>65</td>\n",
       "      <td>0.614</td>\n",
       "      <td>0.928</td>\n",
       "      <td>8</td>\n",
       "      <td>-4.806</td>\n",
       "      <td>0</td>\n",
       "      <td>0.0516</td>\n",
       "      <td>0.0408</td>\n",
       "      <td>0.001040</td>\n",
       "      <td>0.0845</td>\n",
       "      <td>0.879</td>\n",
       "      <td>172.656</td>\n",
       "      <td>pop</td>\n",
       "    </tr>\n",
       "  </tbody>\n",
       "</table>\n",
       "</div>"
      ],
      "text/plain": [
       "           artist                    song  duration_ms  explicit  year  \\\n",
       "0  Britney Spears  Oops!...I Did It Again       211160     False  2000   \n",
       "1       blink-182    All The Small Things       167066     False  1999   \n",
       "2      Faith Hill                 Breathe       250546     False  1999   \n",
       "3        Bon Jovi            It's My Life       224493     False  2000   \n",
       "4          *NSYNC             Bye Bye Bye       200560     False  2000   \n",
       "\n",
       "   popularity  danceability  energy  key  loudness  mode  speechiness  \\\n",
       "0          77         0.751   0.834    1    -5.444     0       0.0437   \n",
       "1          79         0.434   0.897    0    -4.918     1       0.0488   \n",
       "2          66         0.529   0.496    7    -9.007     1       0.0290   \n",
       "3          78         0.551   0.913    0    -4.063     0       0.0466   \n",
       "4          65         0.614   0.928    8    -4.806     0       0.0516   \n",
       "\n",
       "   acousticness  instrumentalness  liveness  valence    tempo         genre  \n",
       "0        0.3000          0.000018    0.3550    0.894   95.053           pop  \n",
       "1        0.0103          0.000000    0.6120    0.684  148.726     rock, pop  \n",
       "2        0.1730          0.000000    0.2510    0.278  136.859  pop, country  \n",
       "3        0.0263          0.000013    0.3470    0.544  119.992   rock, metal  \n",
       "4        0.0408          0.001040    0.0845    0.879  172.656           pop  "
      ]
     },
     "execution_count": 5,
     "metadata": {},
     "output_type": "execute_result"
    }
   ],
   "source": [
    "# Se visualiza de forma tabular los datos\n",
    "\n",
    "df_songs.head()"
   ]
  },
  {
   "cell_type": "markdown",
   "metadata": {},
   "source": [
    "### **Proceso de limpieza de datos**"
   ]
  },
  {
   "cell_type": "code",
   "execution_count": 6,
   "metadata": {},
   "outputs": [
    {
     "name": "stdout",
     "output_type": "stream",
     "text": [
      "<class 'pandas.core.frame.DataFrame'>\n",
      "RangeIndex: 2000 entries, 0 to 1999\n",
      "Data columns (total 18 columns):\n",
      " #   Column            Non-Null Count  Dtype  \n",
      "---  ------            --------------  -----  \n",
      " 0   artist            2000 non-null   object \n",
      " 1   song              2000 non-null   object \n",
      " 2   duration_ms       2000 non-null   int64  \n",
      " 3   explicit          2000 non-null   bool   \n",
      " 4   year              2000 non-null   int64  \n",
      " 5   popularity        2000 non-null   int64  \n",
      " 6   danceability      2000 non-null   float64\n",
      " 7   energy            2000 non-null   float64\n",
      " 8   key               2000 non-null   int64  \n",
      " 9   loudness          2000 non-null   float64\n",
      " 10  mode              2000 non-null   int64  \n",
      " 11  speechiness       2000 non-null   float64\n",
      " 12  acousticness      2000 non-null   float64\n",
      " 13  instrumentalness  2000 non-null   float64\n",
      " 14  liveness          2000 non-null   float64\n",
      " 15  valence           2000 non-null   float64\n",
      " 16  tempo             2000 non-null   float64\n",
      " 17  genre             2000 non-null   object \n",
      "dtypes: bool(1), float64(9), int64(5), object(3)\n",
      "memory usage: 267.7+ KB\n"
     ]
    },
    {
     "data": {
      "text/plain": [
       "None"
      ]
     },
     "metadata": {},
     "output_type": "display_data"
    }
   ],
   "source": [
    "display(df_songs.info()) # Vemos si los datos están en su correcto formato"
   ]
  },
  {
   "cell_type": "code",
   "execution_count": 7,
   "metadata": {},
   "outputs": [
    {
     "data": {
      "text/plain": [
       "artist              59\n",
       "song                59\n",
       "duration_ms         59\n",
       "explicit            59\n",
       "year                59\n",
       "popularity          59\n",
       "danceability        59\n",
       "energy              59\n",
       "key                 59\n",
       "loudness            59\n",
       "mode                59\n",
       "speechiness         59\n",
       "acousticness        59\n",
       "instrumentalness    59\n",
       "liveness            59\n",
       "valence             59\n",
       "tempo               59\n",
       "genre               59\n",
       "dtype: int64"
      ]
     },
     "metadata": {},
     "output_type": "display_data"
    },
    {
     "data": {
      "text/plain": [
       "artist              0\n",
       "song                0\n",
       "duration_ms         0\n",
       "explicit            0\n",
       "year                0\n",
       "popularity          0\n",
       "danceability        0\n",
       "energy              0\n",
       "key                 0\n",
       "loudness            0\n",
       "mode                0\n",
       "speechiness         0\n",
       "acousticness        0\n",
       "instrumentalness    0\n",
       "liveness            0\n",
       "valence             0\n",
       "tempo               0\n",
       "genre               0\n",
       "dtype: int64"
      ]
     },
     "metadata": {},
     "output_type": "display_data"
    }
   ],
   "source": [
    "# Verificamos la existencia de datos nulos y duplicados\n",
    "\n",
    "display(df_songs.loc[df_songs.duplicated()].count()) # .duplicated() verifica la existencia de algún dato duplicado.\n",
    "\n",
    "display(df_songs.isnull().sum()) # .isnull() verifica la existencia de algún dato nulo."
   ]
  },
  {
   "cell_type": "code",
   "execution_count": 8,
   "metadata": {},
   "outputs": [
    {
     "name": "stdout",
     "output_type": "stream",
     "text": [
      "artist              0\n",
      "song                0\n",
      "duration_ms         0\n",
      "explicit            0\n",
      "year                0\n",
      "popularity          0\n",
      "danceability        0\n",
      "energy              0\n",
      "key                 0\n",
      "loudness            0\n",
      "mode                0\n",
      "speechiness         0\n",
      "acousticness        0\n",
      "instrumentalness    0\n",
      "liveness            0\n",
      "valence             0\n",
      "tempo               0\n",
      "genre               0\n",
      "dtype: int64\n"
     ]
    }
   ],
   "source": [
    "# Se procede a eliminar los datos duplicados\n",
    "\n",
    "df_songs.drop_duplicates(inplace=True) #Elimino datos duplicados.\n",
    "\n",
    "print(df_songs.loc[df_songs.duplicated()].count()) # .duplicated() verifica la existencia de algún dato duplicado."
   ]
  },
  {
   "cell_type": "markdown",
   "metadata": {},
   "source": [
    "* **Selección de variables (columnas), se escogeran aquellos datos numericos que nos aporten a la *tesis* inicial, determinar si una cancion es explicita o no en su contenido, por lo que nos detendremoa a pensar en que datos nos podrian servir**\n",
    "\n"
   ]
  },
  {
   "cell_type": "markdown",
   "metadata": {},
   "source": [
    "- Descripción de la selección de las variables:\n",
    "\n",
    "  - **'acousticness':** Una medida de 0.0 a 1.0 que detecta sonidos acústicos en una pista.\n",
    "\n",
    "  - **'danceability':** Una medida de 0,0 a 1 que indica qué tan adecuada es una pista para bailar en función de una combinación de elementos musicales, incluidos el tempo, la estabilidad del ritmo y la fuerza del compás. Un valor más cercano a 0,0 indica que una pista es menos bailable, y un valor más cercano a 1,0 indica que una pista es más bailable.\n",
    "\n",
    "  - **'energy':** Una medida de 0,0 a 1,0 que refleja la intensidad de una pista. Las pistas enérgicas suelen ser rápidas, fuertes y ruidosas.\n",
    "\n",
    "  - **'instrumentalness':** Una medida de 0,0 a 1 que refleja hasta qué punto una pista no contiene vocalizaciones. Cuanto más cerca esté el valor de instrumentalidad de 1,0, mayor será la probabilidad de que la pista no contenga contenido vocal.\n",
    "\n",
    "  - **'liveness':** Una medida de 0.0 a 1.0 que detecta la presencia de una audiencia en la grabación. Los valores de vivacidad más altos representan una mayor probabilidad de que la pista se interprete en vivo.\n",
    "\n",
    "  - **'tempo':** La velocidad general estimada de una pista medida en latidos por minuto (BPM).\n",
    "\n",
    "  - **'valence':** Una medida de 0,0 a 1,0 que refleja la positividad musical que transmite una pista. Las pistas con una valencia alta suenan más positivas (p. ej., felices, alegres, eufóricas), mientras que las pistas con una valencia baja suenan más negativas (p. ej., tristes, deprimidas, enfadadas)."
   ]
  },
  {
   "cell_type": "markdown",
   "metadata": {},
   "source": [
    "**Por lo tanto, nos quedamos con las variables anteriores, las cuales nos demuestran caracteristicas respecto a la calidad de la propia canción**\n",
    "\n",
    "***Nótese que fue necesario buscar en internet la descripcion de cada columna***"
   ]
  },
  {
   "cell_type": "code",
   "execution_count": 9,
   "metadata": {},
   "outputs": [
    {
     "data": {
      "text/html": [
       "<div>\n",
       "<style scoped>\n",
       "    .dataframe tbody tr th:only-of-type {\n",
       "        vertical-align: middle;\n",
       "    }\n",
       "\n",
       "    .dataframe tbody tr th {\n",
       "        vertical-align: top;\n",
       "    }\n",
       "\n",
       "    .dataframe thead th {\n",
       "        text-align: right;\n",
       "    }\n",
       "</style>\n",
       "<table border=\"1\" class=\"dataframe\">\n",
       "  <thead>\n",
       "    <tr style=\"text-align: right;\">\n",
       "      <th></th>\n",
       "      <th>acousticness</th>\n",
       "      <th>danceability</th>\n",
       "      <th>energy</th>\n",
       "      <th>instrumentalness</th>\n",
       "      <th>liveness</th>\n",
       "      <th>tempo</th>\n",
       "      <th>valence</th>\n",
       "    </tr>\n",
       "  </thead>\n",
       "  <tbody>\n",
       "    <tr>\n",
       "      <th>0</th>\n",
       "      <td>0.3000</td>\n",
       "      <td>0.751</td>\n",
       "      <td>0.834</td>\n",
       "      <td>0.000018</td>\n",
       "      <td>0.3550</td>\n",
       "      <td>95.053</td>\n",
       "      <td>0.894</td>\n",
       "    </tr>\n",
       "    <tr>\n",
       "      <th>1</th>\n",
       "      <td>0.0103</td>\n",
       "      <td>0.434</td>\n",
       "      <td>0.897</td>\n",
       "      <td>0.000000</td>\n",
       "      <td>0.6120</td>\n",
       "      <td>148.726</td>\n",
       "      <td>0.684</td>\n",
       "    </tr>\n",
       "    <tr>\n",
       "      <th>2</th>\n",
       "      <td>0.1730</td>\n",
       "      <td>0.529</td>\n",
       "      <td>0.496</td>\n",
       "      <td>0.000000</td>\n",
       "      <td>0.2510</td>\n",
       "      <td>136.859</td>\n",
       "      <td>0.278</td>\n",
       "    </tr>\n",
       "    <tr>\n",
       "      <th>3</th>\n",
       "      <td>0.0263</td>\n",
       "      <td>0.551</td>\n",
       "      <td>0.913</td>\n",
       "      <td>0.000013</td>\n",
       "      <td>0.3470</td>\n",
       "      <td>119.992</td>\n",
       "      <td>0.544</td>\n",
       "    </tr>\n",
       "    <tr>\n",
       "      <th>4</th>\n",
       "      <td>0.0408</td>\n",
       "      <td>0.614</td>\n",
       "      <td>0.928</td>\n",
       "      <td>0.001040</td>\n",
       "      <td>0.0845</td>\n",
       "      <td>172.656</td>\n",
       "      <td>0.879</td>\n",
       "    </tr>\n",
       "    <tr>\n",
       "      <th>...</th>\n",
       "      <td>...</td>\n",
       "      <td>...</td>\n",
       "      <td>...</td>\n",
       "      <td>...</td>\n",
       "      <td>...</td>\n",
       "      <td>...</td>\n",
       "      <td>...</td>\n",
       "    </tr>\n",
       "    <tr>\n",
       "      <th>1995</th>\n",
       "      <td>0.0427</td>\n",
       "      <td>0.842</td>\n",
       "      <td>0.734</td>\n",
       "      <td>0.000000</td>\n",
       "      <td>0.1060</td>\n",
       "      <td>137.958</td>\n",
       "      <td>0.952</td>\n",
       "    </tr>\n",
       "    <tr>\n",
       "      <th>1996</th>\n",
       "      <td>0.1170</td>\n",
       "      <td>0.552</td>\n",
       "      <td>0.702</td>\n",
       "      <td>0.000021</td>\n",
       "      <td>0.1050</td>\n",
       "      <td>169.994</td>\n",
       "      <td>0.564</td>\n",
       "    </tr>\n",
       "    <tr>\n",
       "      <th>1997</th>\n",
       "      <td>0.0669</td>\n",
       "      <td>0.847</td>\n",
       "      <td>0.678</td>\n",
       "      <td>0.000000</td>\n",
       "      <td>0.2740</td>\n",
       "      <td>97.984</td>\n",
       "      <td>0.811</td>\n",
       "    </tr>\n",
       "    <tr>\n",
       "      <th>1998</th>\n",
       "      <td>0.4500</td>\n",
       "      <td>0.741</td>\n",
       "      <td>0.520</td>\n",
       "      <td>0.000002</td>\n",
       "      <td>0.2220</td>\n",
       "      <td>102.998</td>\n",
       "      <td>0.347</td>\n",
       "    </tr>\n",
       "    <tr>\n",
       "      <th>1999</th>\n",
       "      <td>0.1920</td>\n",
       "      <td>0.695</td>\n",
       "      <td>0.762</td>\n",
       "      <td>0.002440</td>\n",
       "      <td>0.0863</td>\n",
       "      <td>120.042</td>\n",
       "      <td>0.553</td>\n",
       "    </tr>\n",
       "  </tbody>\n",
       "</table>\n",
       "<p>1941 rows × 7 columns</p>\n",
       "</div>"
      ],
      "text/plain": [
       "      acousticness  danceability  energy  instrumentalness  liveness    tempo  \\\n",
       "0           0.3000         0.751   0.834          0.000018    0.3550   95.053   \n",
       "1           0.0103         0.434   0.897          0.000000    0.6120  148.726   \n",
       "2           0.1730         0.529   0.496          0.000000    0.2510  136.859   \n",
       "3           0.0263         0.551   0.913          0.000013    0.3470  119.992   \n",
       "4           0.0408         0.614   0.928          0.001040    0.0845  172.656   \n",
       "...            ...           ...     ...               ...       ...      ...   \n",
       "1995        0.0427         0.842   0.734          0.000000    0.1060  137.958   \n",
       "1996        0.1170         0.552   0.702          0.000021    0.1050  169.994   \n",
       "1997        0.0669         0.847   0.678          0.000000    0.2740   97.984   \n",
       "1998        0.4500         0.741   0.520          0.000002    0.2220  102.998   \n",
       "1999        0.1920         0.695   0.762          0.002440    0.0863  120.042   \n",
       "\n",
       "      valence  \n",
       "0       0.894  \n",
       "1       0.684  \n",
       "2       0.278  \n",
       "3       0.544  \n",
       "4       0.879  \n",
       "...       ...  \n",
       "1995    0.952  \n",
       "1996    0.564  \n",
       "1997    0.811  \n",
       "1998    0.347  \n",
       "1999    0.553  \n",
       "\n",
       "[1941 rows x 7 columns]"
      ]
     },
     "execution_count": 9,
     "metadata": {},
     "output_type": "execute_result"
    }
   ],
   "source": [
    "# Variables seleccionadas\n",
    "\n",
    "df_songs_num = df_songs[['acousticness', 'danceability', 'energy', 'instrumentalness', 'liveness', 'tempo', 'valence']]\n",
    "df_songs_num"
   ]
  },
  {
   "cell_type": "code",
   "execution_count": 10,
   "metadata": {},
   "outputs": [
    {
     "data": {
      "text/html": [
       "<div>\n",
       "<style scoped>\n",
       "    .dataframe tbody tr th:only-of-type {\n",
       "        vertical-align: middle;\n",
       "    }\n",
       "\n",
       "    .dataframe tbody tr th {\n",
       "        vertical-align: top;\n",
       "    }\n",
       "\n",
       "    .dataframe thead th {\n",
       "        text-align: right;\n",
       "    }\n",
       "</style>\n",
       "<table border=\"1\" class=\"dataframe\">\n",
       "  <thead>\n",
       "    <tr style=\"text-align: right;\">\n",
       "      <th></th>\n",
       "      <th>acousticness</th>\n",
       "      <th>danceability</th>\n",
       "      <th>energy</th>\n",
       "      <th>instrumentalness</th>\n",
       "      <th>liveness</th>\n",
       "      <th>tempo</th>\n",
       "      <th>valence</th>\n",
       "    </tr>\n",
       "  </thead>\n",
       "  <tbody>\n",
       "    <tr>\n",
       "      <th>count</th>\n",
       "      <td>1941.000000</td>\n",
       "      <td>1941.000000</td>\n",
       "      <td>1941.000000</td>\n",
       "      <td>1941.000000</td>\n",
       "      <td>1941.000000</td>\n",
       "      <td>1941.000000</td>\n",
       "      <td>1941.000000</td>\n",
       "    </tr>\n",
       "    <tr>\n",
       "      <th>mean</th>\n",
       "      <td>0.128173</td>\n",
       "      <td>0.667814</td>\n",
       "      <td>0.721549</td>\n",
       "      <td>0.015372</td>\n",
       "      <td>0.181726</td>\n",
       "      <td>120.158442</td>\n",
       "      <td>0.552966</td>\n",
       "    </tr>\n",
       "    <tr>\n",
       "      <th>std</th>\n",
       "      <td>0.172584</td>\n",
       "      <td>0.140608</td>\n",
       "      <td>0.152872</td>\n",
       "      <td>0.088371</td>\n",
       "      <td>0.140910</td>\n",
       "      <td>26.990475</td>\n",
       "      <td>0.220845</td>\n",
       "    </tr>\n",
       "    <tr>\n",
       "      <th>min</th>\n",
       "      <td>0.000019</td>\n",
       "      <td>0.129000</td>\n",
       "      <td>0.054900</td>\n",
       "      <td>0.000000</td>\n",
       "      <td>0.021500</td>\n",
       "      <td>60.019000</td>\n",
       "      <td>0.038100</td>\n",
       "    </tr>\n",
       "    <tr>\n",
       "      <th>25%</th>\n",
       "      <td>0.013500</td>\n",
       "      <td>0.581000</td>\n",
       "      <td>0.624000</td>\n",
       "      <td>0.000000</td>\n",
       "      <td>0.088400</td>\n",
       "      <td>98.986000</td>\n",
       "      <td>0.390000</td>\n",
       "    </tr>\n",
       "    <tr>\n",
       "      <th>50%</th>\n",
       "      <td>0.055800</td>\n",
       "      <td>0.676000</td>\n",
       "      <td>0.739000</td>\n",
       "      <td>0.000000</td>\n",
       "      <td>0.124000</td>\n",
       "      <td>120.028000</td>\n",
       "      <td>0.560000</td>\n",
       "    </tr>\n",
       "    <tr>\n",
       "      <th>75%</th>\n",
       "      <td>0.176000</td>\n",
       "      <td>0.765000</td>\n",
       "      <td>0.840000</td>\n",
       "      <td>0.000069</td>\n",
       "      <td>0.242000</td>\n",
       "      <td>134.199000</td>\n",
       "      <td>0.731000</td>\n",
       "    </tr>\n",
       "    <tr>\n",
       "      <th>max</th>\n",
       "      <td>0.976000</td>\n",
       "      <td>0.975000</td>\n",
       "      <td>0.999000</td>\n",
       "      <td>0.985000</td>\n",
       "      <td>0.853000</td>\n",
       "      <td>210.851000</td>\n",
       "      <td>0.973000</td>\n",
       "    </tr>\n",
       "  </tbody>\n",
       "</table>\n",
       "</div>"
      ],
      "text/plain": [
       "       acousticness  danceability       energy  instrumentalness     liveness  \\\n",
       "count   1941.000000   1941.000000  1941.000000       1941.000000  1941.000000   \n",
       "mean       0.128173      0.667814     0.721549          0.015372     0.181726   \n",
       "std        0.172584      0.140608     0.152872          0.088371     0.140910   \n",
       "min        0.000019      0.129000     0.054900          0.000000     0.021500   \n",
       "25%        0.013500      0.581000     0.624000          0.000000     0.088400   \n",
       "50%        0.055800      0.676000     0.739000          0.000000     0.124000   \n",
       "75%        0.176000      0.765000     0.840000          0.000069     0.242000   \n",
       "max        0.976000      0.975000     0.999000          0.985000     0.853000   \n",
       "\n",
       "             tempo      valence  \n",
       "count  1941.000000  1941.000000  \n",
       "mean    120.158442     0.552966  \n",
       "std      26.990475     0.220845  \n",
       "min      60.019000     0.038100  \n",
       "25%      98.986000     0.390000  \n",
       "50%     120.028000     0.560000  \n",
       "75%     134.199000     0.731000  \n",
       "max     210.851000     0.973000  "
      ]
     },
     "execution_count": 10,
     "metadata": {},
     "output_type": "execute_result"
    }
   ],
   "source": [
    "df_songs_num.describe()"
   ]
  },
  {
   "cell_type": "code",
   "execution_count": 11,
   "metadata": {},
   "outputs": [],
   "source": [
    "# Librerias para graficar\n",
    "\n",
    "import matplotlib.pyplot as plt\n",
    "from matplotlib import style\n",
    "import matplotlib.ticker as ticker\n",
    "import seaborn as sns"
   ]
  },
  {
   "cell_type": "code",
   "execution_count": 12,
   "metadata": {},
   "outputs": [
    {
     "data": {
      "image/png": "[encoded data removed]",
      "text/plain": [
       "<Figure size 900x500 with 9 Axes>"
      ]
     },
     "metadata": {},
     "output_type": "display_data"
    }
   ],
   "source": [
    "#Visualización\n",
    "\n",
    "# Gráfico de distribución para cada variable numérica\n",
    "# ==============================================================================\n",
    "# Ajustar número de subplots en función del número de columnas\n",
    "fig, axes = plt.subplots(nrows=3, ncols=3, figsize=(9, 5))\n",
    "axes = axes.flat\n",
    "\n",
    "\n",
    "for i, colum in enumerate(df_songs_num):\n",
    "    sns.histplot(\n",
    "        data    = df_songs_num,\n",
    "        x       = colum,  \n",
    "        stat    = \"count\",\n",
    "        kde     = True,\n",
    "        color   = (list(plt.rcParams['axes.prop_cycle'])*2)[i][\"color\"],\n",
    "        line_kws= {'linewidth': 2},\n",
    "        alpha   = 0.3,\n",
    "        ax      = axes[i]\n",
    "    )\n",
    "    axes[i].set_title(colum, fontsize = 7, fontweight = \"bold\")\n",
    "    axes[i].tick_params(labelsize = 6)\n",
    "    axes[i].set_xlabel(\"\")\n",
    "    \n",
    "    \n",
    "fig.tight_layout()\n",
    "plt.subplots_adjust(top = 0.9)\n",
    "fig.suptitle('Distribución variables numéricas', fontsize = 10, fontweight = \"bold\");"
   ]
  },
  {
   "cell_type": "markdown",
   "metadata": {},
   "source": [
    "### **Proceso de clasificación**"
   ]
  },
  {
   "cell_type": "code",
   "execution_count": 18,
   "metadata": {},
   "outputs": [
    {
     "data": {
      "text/html": [
       "<div>\n",
       "<style scoped>\n",
       "    .dataframe tbody tr th:only-of-type {\n",
       "        vertical-align: middle;\n",
       "    }\n",
       "\n",
       "    .dataframe tbody tr th {\n",
       "        vertical-align: top;\n",
       "    }\n",
       "\n",
       "    .dataframe thead th {\n",
       "        text-align: right;\n",
       "    }\n",
       "</style>\n",
       "<table border=\"1\" class=\"dataframe\">\n",
       "  <thead>\n",
       "    <tr style=\"text-align: right;\">\n",
       "      <th></th>\n",
       "      <th>0</th>\n",
       "      <th>1</th>\n",
       "      <th>2</th>\n",
       "      <th>3</th>\n",
       "      <th>4</th>\n",
       "      <th>5</th>\n",
       "      <th>6</th>\n",
       "    </tr>\n",
       "  </thead>\n",
       "  <tbody>\n",
       "    <tr>\n",
       "      <th>0</th>\n",
       "      <td>0.995873</td>\n",
       "      <td>0.591768</td>\n",
       "      <td>0.735783</td>\n",
       "      <td>-0.173798</td>\n",
       "      <td>1.229997</td>\n",
       "      <td>-0.930399</td>\n",
       "      <td>1.544618</td>\n",
       "    </tr>\n",
       "    <tr>\n",
       "      <th>1</th>\n",
       "      <td>-0.683164</td>\n",
       "      <td>-1.663304</td>\n",
       "      <td>1.147999</td>\n",
       "      <td>-0.173998</td>\n",
       "      <td>3.054332</td>\n",
       "      <td>1.058704</td>\n",
       "      <td>0.593481</td>\n",
       "    </tr>\n",
       "    <tr>\n",
       "      <th>2</th>\n",
       "      <td>0.259809</td>\n",
       "      <td>-0.987494</td>\n",
       "      <td>-1.475793</td>\n",
       "      <td>-0.173998</td>\n",
       "      <td>0.491745</td>\n",
       "      <td>0.618917</td>\n",
       "      <td>-1.245383</td>\n",
       "    </tr>\n",
       "    <tr>\n",
       "      <th>3</th>\n",
       "      <td>-0.590431</td>\n",
       "      <td>-0.830990</td>\n",
       "      <td>1.252689</td>\n",
       "      <td>-0.173845</td>\n",
       "      <td>1.173208</td>\n",
       "      <td>-0.006168</td>\n",
       "      <td>-0.040610</td>\n",
       "    </tr>\n",
       "    <tr>\n",
       "      <th>4</th>\n",
       "      <td>-0.506393</td>\n",
       "      <td>-0.382822</td>\n",
       "      <td>1.350836</td>\n",
       "      <td>-0.162226</td>\n",
       "      <td>-0.690169</td>\n",
       "      <td>1.945541</td>\n",
       "      <td>1.476680</td>\n",
       "    </tr>\n",
       "    <tr>\n",
       "      <th>...</th>\n",
       "      <td>...</td>\n",
       "      <td>...</td>\n",
       "      <td>...</td>\n",
       "      <td>...</td>\n",
       "      <td>...</td>\n",
       "      <td>...</td>\n",
       "      <td>...</td>\n",
       "    </tr>\n",
       "    <tr>\n",
       "      <th>1936</th>\n",
       "      <td>-0.495381</td>\n",
       "      <td>1.239122</td>\n",
       "      <td>0.081470</td>\n",
       "      <td>-0.173998</td>\n",
       "      <td>-0.537549</td>\n",
       "      <td>0.659645</td>\n",
       "      <td>1.807313</td>\n",
       "    </tr>\n",
       "    <tr>\n",
       "      <th>1937</th>\n",
       "      <td>-0.064754</td>\n",
       "      <td>-0.823877</td>\n",
       "      <td>-0.127909</td>\n",
       "      <td>-0.173765</td>\n",
       "      <td>-0.544648</td>\n",
       "      <td>1.846889</td>\n",
       "      <td>0.049975</td>\n",
       "    </tr>\n",
       "    <tr>\n",
       "      <th>1938</th>\n",
       "      <td>-0.355123</td>\n",
       "      <td>1.274691</td>\n",
       "      <td>-0.284944</td>\n",
       "      <td>-0.173998</td>\n",
       "      <td>0.655012</td>\n",
       "      <td>-0.821777</td>\n",
       "      <td>1.168693</td>\n",
       "    </tr>\n",
       "    <tr>\n",
       "      <th>1939</th>\n",
       "      <td>1.865240</td>\n",
       "      <td>0.520630</td>\n",
       "      <td>-1.318758</td>\n",
       "      <td>-0.173976</td>\n",
       "      <td>0.285886</td>\n",
       "      <td>-0.635960</td>\n",
       "      <td>-0.932866</td>\n",
       "    </tr>\n",
       "    <tr>\n",
       "      <th>1940</th>\n",
       "      <td>0.369929</td>\n",
       "      <td>0.193395</td>\n",
       "      <td>0.264678</td>\n",
       "      <td>-0.146380</td>\n",
       "      <td>-0.677391</td>\n",
       "      <td>-0.004315</td>\n",
       "      <td>0.000153</td>\n",
       "    </tr>\n",
       "  </tbody>\n",
       "</table>\n",
       "<p>1941 rows × 7 columns</p>\n",
       "</div>"
      ],
      "text/plain": [
       "             0         1         2         3         4         5         6\n",
       "0     0.995873  0.591768  0.735783 -0.173798  1.229997 -0.930399  1.544618\n",
       "1    -0.683164 -1.663304  1.147999 -0.173998  3.054332  1.058704  0.593481\n",
       "2     0.259809 -0.987494 -1.475793 -0.173998  0.491745  0.618917 -1.245383\n",
       "3    -0.590431 -0.830990  1.252689 -0.173845  1.173208 -0.006168 -0.040610\n",
       "4    -0.506393 -0.382822  1.350836 -0.162226 -0.690169  1.945541  1.476680\n",
       "...        ...       ...       ...       ...       ...       ...       ...\n",
       "1936 -0.495381  1.239122  0.081470 -0.173998 -0.537549  0.659645  1.807313\n",
       "1937 -0.064754 -0.823877 -0.127909 -0.173765 -0.544648  1.846889  0.049975\n",
       "1938 -0.355123  1.274691 -0.284944 -0.173998  0.655012 -0.821777  1.168693\n",
       "1939  1.865240  0.520630 -1.318758 -0.173976  0.285886 -0.635960 -0.932866\n",
       "1940  0.369929  0.193395  0.264678 -0.146380 -0.677391 -0.004315  0.000153\n",
       "\n",
       "[1941 rows x 7 columns]"
      ]
     },
     "execution_count": 18,
     "metadata": {},
     "output_type": "execute_result"
    }
   ],
   "source": [
    "# Estandarización de los datos, antes de considerar los datos en un modelo de clasificación se recomienda\n",
    "# estandarizar los datos para favorecer el proceso\n",
    "\n",
    "from sklearn.preprocessing import StandardScaler\n",
    "scaler = StandardScaler() # Creamos un objeto de la clase StandardScaler\n",
    "scaled_features = scaler.fit_transform(df_songs_num) # Estandarización los datos (media 0, varianza 1)\n",
    "\n",
    "X = pd.DataFrame(scaled_features)\n",
    "X\n"
   ]
  },
  {
   "cell_type": "code",
   "execution_count": 19,
   "metadata": {},
   "outputs": [
    {
     "data": {
      "text/html": [
       "<div>\n",
       "<style scoped>\n",
       "    .dataframe tbody tr th:only-of-type {\n",
       "        vertical-align: middle;\n",
       "    }\n",
       "\n",
       "    .dataframe tbody tr th {\n",
       "        vertical-align: top;\n",
       "    }\n",
       "\n",
       "    .dataframe thead th {\n",
       "        text-align: right;\n",
       "    }\n",
       "</style>\n",
       "<table border=\"1\" class=\"dataframe\">\n",
       "  <thead>\n",
       "    <tr style=\"text-align: right;\">\n",
       "      <th></th>\n",
       "      <th>explicit</th>\n",
       "    </tr>\n",
       "  </thead>\n",
       "  <tbody>\n",
       "    <tr>\n",
       "      <th>0</th>\n",
       "      <td>False</td>\n",
       "    </tr>\n",
       "    <tr>\n",
       "      <th>1</th>\n",
       "      <td>False</td>\n",
       "    </tr>\n",
       "    <tr>\n",
       "      <th>2</th>\n",
       "      <td>False</td>\n",
       "    </tr>\n",
       "    <tr>\n",
       "      <th>3</th>\n",
       "      <td>False</td>\n",
       "    </tr>\n",
       "    <tr>\n",
       "      <th>4</th>\n",
       "      <td>False</td>\n",
       "    </tr>\n",
       "    <tr>\n",
       "      <th>...</th>\n",
       "      <td>...</td>\n",
       "    </tr>\n",
       "    <tr>\n",
       "      <th>1995</th>\n",
       "      <td>False</td>\n",
       "    </tr>\n",
       "    <tr>\n",
       "      <th>1996</th>\n",
       "      <td>False</td>\n",
       "    </tr>\n",
       "    <tr>\n",
       "      <th>1997</th>\n",
       "      <td>False</td>\n",
       "    </tr>\n",
       "    <tr>\n",
       "      <th>1998</th>\n",
       "      <td>False</td>\n",
       "    </tr>\n",
       "    <tr>\n",
       "      <th>1999</th>\n",
       "      <td>False</td>\n",
       "    </tr>\n",
       "  </tbody>\n",
       "</table>\n",
       "<p>1941 rows × 1 columns</p>\n",
       "</div>"
      ],
      "text/plain": [
       "      explicit\n",
       "0        False\n",
       "1        False\n",
       "2        False\n",
       "3        False\n",
       "4        False\n",
       "...        ...\n",
       "1995     False\n",
       "1996     False\n",
       "1997     False\n",
       "1998     False\n",
       "1999     False\n",
       "\n",
       "[1941 rows x 1 columns]"
      ]
     },
     "execution_count": 19,
     "metadata": {},
     "output_type": "execute_result"
    }
   ],
   "source": [
    "# Determinar la variable target binaria\n",
    "\n",
    "varTarget = df_songs[[\"explicit\"]]\n",
    "varTarget"
   ]
  },
  {
   "cell_type": "code",
   "execution_count": 20,
   "metadata": {},
   "outputs": [
    {
     "data": {
      "text/html": [
       "<div>\n",
       "<style scoped>\n",
       "    .dataframe tbody tr th:only-of-type {\n",
       "        vertical-align: middle;\n",
       "    }\n",
       "\n",
       "    .dataframe tbody tr th {\n",
       "        vertical-align: top;\n",
       "    }\n",
       "\n",
       "    .dataframe thead th {\n",
       "        text-align: right;\n",
       "    }\n",
       "</style>\n",
       "<table border=\"1\" class=\"dataframe\">\n",
       "  <thead>\n",
       "    <tr style=\"text-align: right;\">\n",
       "      <th></th>\n",
       "      <th>False</th>\n",
       "      <th>True</th>\n",
       "    </tr>\n",
       "  </thead>\n",
       "  <tbody>\n",
       "    <tr>\n",
       "      <th>0</th>\n",
       "      <td>1</td>\n",
       "      <td>0</td>\n",
       "    </tr>\n",
       "    <tr>\n",
       "      <th>1</th>\n",
       "      <td>1</td>\n",
       "      <td>0</td>\n",
       "    </tr>\n",
       "    <tr>\n",
       "      <th>2</th>\n",
       "      <td>1</td>\n",
       "      <td>0</td>\n",
       "    </tr>\n",
       "    <tr>\n",
       "      <th>3</th>\n",
       "      <td>1</td>\n",
       "      <td>0</td>\n",
       "    </tr>\n",
       "    <tr>\n",
       "      <th>4</th>\n",
       "      <td>1</td>\n",
       "      <td>0</td>\n",
       "    </tr>\n",
       "  </tbody>\n",
       "</table>\n",
       "</div>"
      ],
      "text/plain": [
       "   False  True\n",
       "0      1     0\n",
       "1      1     0\n",
       "2      1     0\n",
       "3      1     0\n",
       "4      1     0"
      ]
     },
     "execution_count": 20,
     "metadata": {},
     "output_type": "execute_result"
    }
   ],
   "source": [
    "# Convertir a Bool variable target, notar que es importante que el valor True haga referencia al valor que se busca predecir\n",
    "\n",
    "varTarget = df_songs[['explicit']]\n",
    "varTarget_duo = pd.get_dummies(varTarget['explicit'])\n",
    "varTarget_duo.head()"
   ]
  },
  {
   "cell_type": "code",
   "execution_count": 21,
   "metadata": {},
   "outputs": [
    {
     "data": {
      "text/plain": [
       "0       0\n",
       "1       0\n",
       "2       0\n",
       "3       0\n",
       "4       0\n",
       "       ..\n",
       "1995    0\n",
       "1996    0\n",
       "1997    0\n",
       "1998    0\n",
       "1999    0\n",
       "Name: True, Length: 1941, dtype: uint8"
      ]
     },
     "execution_count": 21,
     "metadata": {},
     "output_type": "execute_result"
    }
   ],
   "source": [
    "y = varTarget_duo[True]\n",
    "y"
   ]
  },
  {
   "cell_type": "code",
   "execution_count": 22,
   "metadata": {},
   "outputs": [
    {
     "data": {
      "text/plain": [
       "0       0\n",
       "1       0\n",
       "2       0\n",
       "3       0\n",
       "4       0\n",
       "       ..\n",
       "1995    0\n",
       "1996    0\n",
       "1997    0\n",
       "1998    0\n",
       "1999    0\n",
       "Name: True, Length: 1941, dtype: uint8"
      ]
     },
     "execution_count": 22,
     "metadata": {},
     "output_type": "execute_result"
    }
   ],
   "source": [
    "# X\n",
    "y"
   ]
  },
  {
   "cell_type": "code",
   "execution_count": 23,
   "metadata": {},
   "outputs": [],
   "source": [
    "from sklearn.model_selection import train_test_split\n",
    "\n",
    "np.random.seed(2021) # Dejamos fija una semilla\n",
    "\n",
    "X_train, X_test, y_train, y_test = train_test_split(X, y, test_size=0.3)"
   ]
  },
  {
   "cell_type": "code",
   "execution_count": 24,
   "metadata": {},
   "outputs": [],
   "source": [
    "# Generamos arreglos que sean True en las posiciones donde hay un 1\n",
    "\n",
    "y_train_1 = (y_train == 1)\n",
    "y_test_1 = (y_test == 1)"
   ]
  },
  {
   "cell_type": "code",
   "execution_count": 25,
   "metadata": {},
   "outputs": [
    {
     "data": {
      "text/plain": [
       "5       1\n",
       "6       1\n",
       "19      1\n",
       "23      1\n",
       "27      1\n",
       "       ..\n",
       "1983    1\n",
       "1985    1\n",
       "1987    1\n",
       "1991    1\n",
       "1994    1\n",
       "Name: True, Length: 537, dtype: uint8"
      ]
     },
     "execution_count": 25,
     "metadata": {},
     "output_type": "execute_result"
    }
   ],
   "source": [
    "y[y==True]"
   ]
  },
  {
   "cell_type": "code",
   "execution_count": 26,
   "metadata": {},
   "outputs": [
    {
     "data": {
      "text/html": [
       "<style>#sk-container-id-1 {color: black;background-color: white;}#sk-container-id-1 pre{padding: 0;}#sk-container-id-1 div.sk-toggleable {background-color: white;}#sk-container-id-1 label.sk-toggleable__label {cursor: pointer;display: block;width: 100%;margin-bottom: 0;padding: 0.3em;box-sizing: border-box;text-align: center;}#sk-container-id-1 label.sk-toggleable__label-arrow:before {content: \"▸\";float: left;margin-right: 0.25em;color: #696969;}#sk-container-id-1 label.sk-toggleable__label-arrow:hover:before {color: black;}#sk-container-id-1 div.sk-estimator:hover label.sk-toggleable__label-arrow:before {color: black;}#sk-container-id-1 div.sk-toggleable__content {max-height: 0;max-width: 0;overflow: hidden;text-align: left;background-color: #f0f8ff;}#sk-container-id-1 div.sk-toggleable__content pre {margin: 0.2em;color: black;border-radius: 0.25em;background-color: #f0f8ff;}#sk-container-id-1 input.sk-toggleable__control:checked~div.sk-toggleable__content {max-height: 200px;max-width: 100%;overflow: auto;}#sk-container-id-1 input.sk-toggleable__control:checked~label.sk-toggleable__label-arrow:before {content: \"▾\";}#sk-container-id-1 div.sk-estimator input.sk-toggleable__control:checked~label.sk-toggleable__label {background-color: #d4ebff;}#sk-container-id-1 div.sk-label input.sk-toggleable__control:checked~label.sk-toggleable__label {background-color: #d4ebff;}#sk-container-id-1 input.sk-hidden--visually {border: 0;clip: rect(1px 1px 1px 1px);clip: rect(1px, 1px, 1px, 1px);height: 1px;margin: -1px;overflow: hidden;padding: 0;position: absolute;width: 1px;}#sk-container-id-1 div.sk-estimator {font-family: monospace;background-color: #f0f8ff;border: 1px dotted black;border-radius: 0.25em;box-sizing: border-box;margin-bottom: 0.5em;}#sk-container-id-1 div.sk-estimator:hover {background-color: #d4ebff;}#sk-container-id-1 div.sk-parallel-item::after {content: \"\";width: 100%;border-bottom: 1px solid gray;flex-grow: 1;}#sk-container-id-1 div.sk-label:hover label.sk-toggleable__label {background-color: #d4ebff;}#sk-container-id-1 div.sk-serial::before {content: \"\";position: absolute;border-left: 1px solid gray;box-sizing: border-box;top: 0;bottom: 0;left: 50%;z-index: 0;}#sk-container-id-1 div.sk-serial {display: flex;flex-direction: column;align-items: center;background-color: white;padding-right: 0.2em;padding-left: 0.2em;position: relative;}#sk-container-id-1 div.sk-item {position: relative;z-index: 1;}#sk-container-id-1 div.sk-parallel {display: flex;align-items: stretch;justify-content: center;background-color: white;position: relative;}#sk-container-id-1 div.sk-item::before, #sk-container-id-1 div.sk-parallel-item::before {content: \"\";position: absolute;border-left: 1px solid gray;box-sizing: border-box;top: 0;bottom: 0;left: 50%;z-index: -1;}#sk-container-id-1 div.sk-parallel-item {display: flex;flex-direction: column;z-index: 1;position: relative;background-color: white;}#sk-container-id-1 div.sk-parallel-item:first-child::after {align-self: flex-end;width: 50%;}#sk-container-id-1 div.sk-parallel-item:last-child::after {align-self: flex-start;width: 50%;}#sk-container-id-1 div.sk-parallel-item:only-child::after {width: 0;}#sk-container-id-1 div.sk-dashed-wrapped {border: 1px dashed gray;margin: 0 0.4em 0.5em 0.4em;box-sizing: border-box;padding-bottom: 0.4em;background-color: white;}#sk-container-id-1 div.sk-label label {font-family: monospace;font-weight: bold;display: inline-block;line-height: 1.2em;}#sk-container-id-1 div.sk-label-container {text-align: center;}#sk-container-id-1 div.sk-container {/* jupyter's `normalize.less` sets `[hidden] { display: none; }` but bootstrap.min.css set `[hidden] { display: none !important; }` so we also need the `!important` here to be able to override the default hidden behavior on the sphinx rendered scikit-learn.org. See: https://github.com/scikit-learn/scikit-learn/issues/21755 */display: inline-block !important;position: relative;}#sk-container-id-1 div.sk-text-repr-fallback {display: none;}</style><div id=\"sk-container-id-1\" class=\"sk-top-container\"><div class=\"sk-text-repr-fallback\"><pre>SGDClassifier()</pre><b>In a Jupyter environment, please rerun this cell to show the HTML representation or trust the notebook. <br />On GitHub, the HTML representation is unable to render, please try loading this page with nbviewer.org.</b></div><div class=\"sk-container\" hidden><div class=\"sk-item\"><div class=\"sk-estimator sk-toggleable\"><input class=\"sk-toggleable__control sk-hidden--visually\" id=\"sk-estimator-id-1\" type=\"checkbox\" checked><label for=\"sk-estimator-id-1\" class=\"sk-toggleable__label sk-toggleable__label-arrow\">SGDClassifier</label><div class=\"sk-toggleable__content\"><pre>SGDClassifier()</pre></div></div></div></div></div>"
      ],
      "text/plain": [
       "SGDClassifier()"
      ]
     },
     "execution_count": 26,
     "metadata": {},
     "output_type": "execute_result"
    }
   ],
   "source": [
    "# Modelo que vamos a entrenar\n",
    "\n",
    "from sklearn.linear_model import SGDClassifier\n",
    "\n",
    "sgd_clf = SGDClassifier()\n",
    "sgd_clf.fit(X_train, y_train_1)"
   ]
  },
  {
   "cell_type": "code",
   "execution_count": 27,
   "metadata": {},
   "outputs": [
    {
     "data": {
      "text/plain": [
       "5       1\n",
       "6       1\n",
       "19      1\n",
       "23      1\n",
       "27      1\n",
       "       ..\n",
       "1983    1\n",
       "1985    1\n",
       "1987    1\n",
       "1991    1\n",
       "1994    1\n",
       "Name: True, Length: 537, dtype: uint8"
      ]
     },
     "execution_count": 27,
     "metadata": {},
     "output_type": "execute_result"
    }
   ],
   "source": [
    "y[y==1] "
   ]
  },
  {
   "cell_type": "code",
   "execution_count": 28,
   "metadata": {},
   "outputs": [
    {
     "data": {
      "text/plain": [
       "array([-0.57999897,  1.80822563,  1.22651688, -0.17399795, -0.68236046,\n",
       "       -0.92143061, -1.10497679])"
      ]
     },
     "execution_count": 28,
     "metadata": {},
     "output_type": "execute_result"
    }
   ],
   "source": [
    "# Predicciones\n",
    "\n",
    "digito = X.iloc[19]\n",
    "digito = np.array(digito)\n",
    "digito"
   ]
  },
  {
   "cell_type": "code",
   "execution_count": 29,
   "metadata": {},
   "outputs": [
    {
     "data": {
      "text/plain": [
       "array([ True])"
      ]
     },
     "execution_count": 29,
     "metadata": {},
     "output_type": "execute_result"
    }
   ],
   "source": [
    "# Probemos si nuestro clasificador esta reconociendo este número.\n",
    "sgd_clf.predict([digito])"
   ]
  },
  {
   "cell_type": "code",
   "execution_count": 30,
   "metadata": {},
   "outputs": [],
   "source": [
    "from sklearn.linear_model import SGDClassifier\n",
    "\n",
    "y_pred_1 = sgd_clf.predict(X_test)"
   ]
  },
  {
   "cell_type": "code",
   "execution_count": 31,
   "metadata": {},
   "outputs": [
    {
     "name": "stdout",
     "output_type": "stream",
     "text": [
      "Confusion Matrix : \n",
      " [[355  83]\n",
      " [ 94  51]]\n"
     ]
    }
   ],
   "source": [
    "# Matriz de confusión\n",
    "\n",
    "from sklearn.metrics import (confusion_matrix, accuracy_score)\n",
    "\n",
    "cm = confusion_matrix(y_test, y_pred_1) \n",
    "print(\"Confusion Matrix : \\n\", cm)"
   ]
  },
  {
   "cell_type": "code",
   "execution_count": 32,
   "metadata": {},
   "outputs": [
    {
     "name": "stdout",
     "output_type": "stream",
     "text": [
      "Accuaracy: 0.6963979416809606\n",
      "Precision: 0.3805970149253731\n",
      "Recall: 0.35172413793103446\n"
     ]
    }
   ],
   "source": [
    "# Evaluacion de medidas de desempeño\n",
    "\n",
    "from sklearn.linear_model import SGDClassifier\n",
    "from sklearn.metrics import accuracy_score\n",
    "from sklearn.metrics import precision_score, recall_score, f1_score\n",
    "\n",
    "print(f\"Accuaracy: {accuracy_score(y_test, y_pred_1)}\") #Accuaracy\n",
    "\n",
    "print(f\"Precision: {precision_score(y_test, y_pred_1)}\") #Precision\n",
    "\n",
    "print(f\"Recall: {recall_score(y_test, y_pred_1)}\") #Recall\n"
   ]
  },
  {
   "cell_type": "markdown",
   "metadata": {},
   "source": [
    "### Información extra de utilidad:\n",
    "\n",
    "- https://medium.com/@gurupratap.matharu/learn-to-do-image-classification-using-stochastic-gradient-descent-and-random-forest-classifier-fd9b7bc95581"
   ]
  }
 ],
 "metadata": {
  "kernelspec": {
   "display_name": "Python 3.8.10 64-bit",
   "language": "python",
   "name": "python3"
  },
  "language_info": {
   "codemirror_mode": {
    "name": "ipython",
    "version": 3
   },
   "file_extension": ".py",
   "mimetype": "text/x-python",
   "name": "python",
   "nbconvert_exporter": "python",
   "pygments_lexer": "ipython3",
   "version": "3.8.10"
  },
  "orig_nbformat": 4,
  "vscode": {
   "interpreter": {
    "hash": "916dbcbb3f70747c44a77c7bcd40155683ae19c65e1c03b4aa3499c5328201f1"
   }
  }
 },
 "nbformat": 4,
 "nbformat_minor": 2
}
